{
 "cells": [
  {
   "cell_type": "code",
   "execution_count": 1,
   "metadata": {
    "id": "AY1bjD1GCrqN"
   },
   "outputs": [],
   "source": [
    "# Importando bibliotecas necessárias\n",
    "import pandas as pd\n",
    "import numpy as np\n",
    "import matplotlib.pyplot as plt\n",
    "import seaborn as sns\n",
    "import tensorflow as tfw\n",
    "from tensorflow.keras.preprocessing.image import ImageDataGenerator\n",
    "from tensorflow.keras.applications import EfficientNetB0\n",
    "from tensorflow.keras.layers import Dense, GlobalAveragePooling2D\n",
    "from tensorflow.keras.models import Model\n",
    "from tensorflow.keras.optimizers import Adam, SGD\n",
    "from sklearn.metrics import confusion_matrix, ConfusionMatrixDisplay\n",
    "import os\n",
    "from tensorflow.keras.callbacks import ModelCheckpoint, TensorBoard\n",
    "#from google.colab import drive\n",
    "#from google.colab import files"
   ]
  },
  {
   "cell_type": "code",
   "execution_count": null,
   "metadata": {},
   "outputs": [],
   "source": [
    "class CustomCallback(tfw.keras.callbacks.Callback):\n",
    "    def on_epoch_end(self, epoch, logs=None):\n",
    "        if logs:\n",
    "            logs['accuracy'] = float(logs.get('accuracy', 0))\n",
    "            logs['loss'] = float(logs.get('loss', 0))\n",
    "        super().on_epoch_end(epoch, logs)\n",
    "\n",
    "# Criar o callback para salvar o modelo apenas quando houver melhoria\n",
    "checkpoint_callback = ModelCheckpoint(\n",
    "    os.path.join(output_dir, \"best_model.h5\"),\n",
    "    save_best_only=True,\n",
    "    monitor='val_loss',\n",
    "    mode='min',\n",
    "    verbose=1\n",
    ")"
   ]
  },
  {
   "cell_type": "code",
   "execution_count": 8,
   "metadata": {
    "colab": {
     "base_uri": "https://localhost:8080/"
    },
    "executionInfo": {
     "elapsed": 68818,
     "status": "ok",
     "timestamp": 1736488870644,
     "user": {
      "displayName": "CRISTIAN FRANKLIN FEITOZA DE OLIVEIRA",
      "userId": "12633358604846728322"
     },
     "user_tz": 240
    },
    "id": "mJxsIPkJCwpa",
    "outputId": "772233ff-a068-416c-c9a0-b81d37e13ca9"
   },
   "outputs": [],
   "source": [
    "#drive.mount('/content/drive')\n",
    "# Defina o caminho para a pasta\n",
    "path = \"C:\\\\Users\\\\PC\\\\Documents\\\\documents\\\\ifam\\\\TETI\\\\Listas_Atividades\\\\treinamento_efficieentNet\\\\produtos_regionais\"\n",
    "# Configurações do TensorBoard\n",
    "log_dir = \"C:/Users/PC/Documents/documents/ifam/TETI/Listas_Atividades/treinamento_efficieentNet/logs\"\n",
    "\n",
    "# Criar o callback do TensorBoard com ajustes de frequência\n",
    "tensorboard_callback = TensorBoard(\n",
    "    log_dir=log_dir,\n",
    "    histogram_freq=1,\n",
    "    write_graph=True,\n",
    "    write_images=False,\n",
    "    update_freq='epoch',  # Pode ser 'batch' para mais detalhes\n",
    ")"
   ]
  },
  {
   "cell_type": "code",
   "execution_count": 9,
   "metadata": {
    "colab": {
     "base_uri": "https://localhost:8080/"
    },
    "executionInfo": {
     "elapsed": 5,
     "status": "ok",
     "timestamp": 1736488870644,
     "user": {
      "displayName": "CRISTIAN FRANKLIN FEITOZA DE OLIVEIRA",
      "userId": "12633358604846728322"
     },
     "user_tz": 240
    },
    "id": "_YjUFftbOirf",
    "outputId": "5348c093-807e-4a98-d9fc-60d4cf2ebf46"
   },
   "outputs": [
    {
     "data": {
      "text/plain": [
       "['test', 'train']"
      ]
     },
     "execution_count": 9,
     "metadata": {},
     "output_type": "execute_result"
    }
   ],
   "source": [
    "# Verifique o conteúdo da pasta\n",
    "os.listdir(path)"
   ]
  },
  {
   "cell_type": "code",
   "execution_count": 4,
   "metadata": {
    "id": "80SYCrpQCzur"
   },
   "outputs": [],
   "source": [
    "# Configurações de Data Augmentation\n",
    "datagen = ImageDataGenerator(\n",
    "    rescale=1./255,\n",
    "    rotation_range=20,\n",
    "    width_shift_range=0.2,\n",
    "    height_shift_range=0.2,\n",
    "    shear_range=0.2,\n",
    "    zoom_range=0.2,\n",
    "    horizontal_flip=True,\n",
    "    fill_mode='nearest',\n",
    "    validation_split=0.2  # Para dividir em treino e validação\n",
    ")"
   ]
  },
  {
   "cell_type": "code",
   "execution_count": 5,
   "metadata": {
    "colab": {
     "base_uri": "https://localhost:8080/"
    },
    "executionInfo": {
     "elapsed": 669,
     "status": "ok",
     "timestamp": 1736488871310,
     "user": {
      "displayName": "CRISTIAN FRANKLIN FEITOZA DE OLIVEIRA",
      "userId": "12633358604846728322"
     },
     "user_tz": 240
    },
    "id": "HrMZqQles_WB",
    "outputId": "87121fec-23dd-405b-bfb3-312b880645a5"
   },
   "outputs": [
    {
     "name": "stdout",
     "output_type": "stream",
     "text": [
      "Found 136 images belonging to 2 classes.\n"
     ]
    }
   ],
   "source": [
    " # Gerando os dados de treino e validação\n",
    "train_generator = datagen.flow_from_directory(\n",
    "    directory=path + 'train',\n",
    "    target_size=(224, 224),  # Redimensiona as imagens para 224x224 pixels\n",
    "    class_mode='categorical',  # Codificação one-hot para rótulos\n",
    "    subset='training'  # Subconjunto de treinamento\n",
    ")"
   ]
  },
  {
   "cell_type": "code",
   "execution_count": 6,
   "metadata": {
    "colab": {
     "base_uri": "https://localhost:8080/"
    },
    "executionInfo": {
     "elapsed": 4,
     "status": "ok",
     "timestamp": 1736488871310,
     "user": {
      "displayName": "CRISTIAN FRANKLIN FEITOZA DE OLIVEIRA",
      "userId": "12633358604846728322"
     },
     "user_tz": 240
    },
    "id": "o-q08tqQwkPi",
    "outputId": "b91b4e56-fade-47d1-d1b0-23e2a4f30622"
   },
   "outputs": [
    {
     "name": "stdout",
     "output_type": "stream",
     "text": [
      "Found 34 images belonging to 2 classes.\n"
     ]
    }
   ],
   "source": [
    "validation_generator = datagen.flow_from_directory(\n",
    "    directory=data_dir + 'train',\n",
    "    target_size=(224, 224),  # Mesmo redimensionamento\n",
    "    class_mode='categorical',  # Mesmo tipo de rótulo\n",
    "    subset='validation'  # Subconjunto de validação\n",
    ")"
   ]
  },
  {
   "cell_type": "code",
   "execution_count": 7,
   "metadata": {
    "id": "nVhnSlplC7Vj"
   },
   "outputs": [],
   "source": [
    "# Definindo hiperparâmetros\n",
    "epochs_options = [10, 20]\n",
    "batch_size_options = [16, 32]\n",
    "learning_rate_options = [0.001, 0.0001]\n",
    "optimizers_options = [Adam, SGD]"
   ]
  },
  {
   "cell_type": "code",
   "execution_count": null,
   "metadata": {
    "colab": {
     "base_uri": "https://localhost:8080/"
    },
    "id": "orfPdzJUC7fO",
    "outputId": "fc09c58a-ed75-4c05-dd6a-5cbe6eee3933"
   },
   "outputs": [
    {
     "name": "stdout",
     "output_type": "stream",
     "text": [
      "Epoch 1/10\n",
      "9/9 [==============================] - 33s 3s/step - loss: 0.4595 - accuracy: 0.7794 - val_loss: 0.6968 - val_accuracy: 0.5000\n",
      "Epoch 2/10\n",
      "9/9 [==============================] - 35s 4s/step - loss: 0.1782 - accuracy: 0.9265 - val_loss: 0.7074 - val_accuracy: 0.5000\n",
      "Epoch 3/10\n",
      "9/9 [==============================] - 32s 3s/step - loss: 0.1679 - accuracy: 0.8971 - val_loss: 0.7171 - val_accuracy: 0.5000\n",
      "Epoch 4/10\n",
      "9/9 [==============================] - 38s 4s/step - loss: 0.1794 - accuracy: 0.9485 - val_loss: 0.7220 - val_accuracy: 0.5000\n",
      "Epoch 5/10\n",
      "3/9 [=========>....................] - ETA: 25s - loss: 0.0647 - accuracy: 0.9792"
     ]
    }
   ],
   "source": [
    "# Armazenando resultados\n",
    "results = []\n",
    "\n",
    "# Loop para treinar modelos com diferentes combinações de hiperparâmetros\n",
    "for epochs in epochs_options:\n",
    "    for batch_size in batch_size_options:\n",
    "        for learning_rate in learning_rate_options:\n",
    "            for optimizer in optimizers_options:\n",
    "                try:\n",
    "                    # Configurando os geradores de dados\n",
    "                    train_generator.batch_size = batch_size\n",
    "                    validation_generator.batch_size = batch_size\n",
    "    \n",
    "                    # Criando o modelo\n",
    "                    base_model = EfficientNetB0(weights='imagenet', include_top=False, input_shape=(224, 224, 3))\n",
    "                    x = base_model.output\n",
    "                    x = GlobalAveragePooling2D()(x)\n",
    "                    predictions = Dense(len(train_generator.class_indices), activation='softmax')(x)\n",
    "                    model = Model(inputs=base_model.input, outputs=predictions)\n",
    "    \n",
    "                    # Compilando o modelo\n",
    "                    model.compile(optimizer=optimizer(learning_rate=learning_rate), \n",
    "                                  loss='categorical_crossentropy', \n",
    "                                  metrics=['accuracy'])\n",
    "    \n",
    "                    # Treinando o modelo\n",
    "                    history = model.fit(\n",
    "                        train_generator,\n",
    "                        epochs=epochs,\n",
    "                        validation_data=validation_generator,\n",
    "                        callbacks=[tensorboard_callback]\n",
    "                    )\n",
    "    \n",
    "                    # Avaliando o modelo\n",
    "                    final_loss, final_accuracy = model.evaluate(validation_generator)\n",
    "    \n",
    "                    # Salvando apenas resultados e hiperparâmetros\n",
    "                    results.append({\n",
    "                        'epochs': epochs,\n",
    "                        'batch_size': batch_size,\n",
    "                        'learning_rate': learning_rate,\n",
    "                        'optimizer': optimizer.__name__,\n",
    "                        'loss': final_loss,\n",
    "                        'accuracy': final_accuracy,\n",
    "                    })\n",
    "    \n",
    "                    # Garantir que o diretório exista\n",
    "                    output_dir = \"C:/Users/PC/Documents/documents/ifam/TETI/aula_11_11/datasets/saved_models\"\n",
    "                    os.makedirs(output_dir, exist_ok=True)\n",
    "                    \n",
    "                    # Salvar o modelo no diretório especificado\n",
    "                    model_name = f\"model_epochs{epochs}_batch{batch_size}_lr{learning_rate}_{optimizer.__name__}.h5\"\n",
    "                    model.save(os.path.join(output_dir, model_name), save_format='h5')\n",
    "                except Exception as e:\n",
    "                    print(f\"Erro ao treinar modelo com hiperparâmetros {epochs}, {batch_size}, {learning_rate}, {optimizer}: {e}\")\n"
   ]
  },
  {
   "cell_type": "code",
   "execution_count": null,
   "metadata": {
    "id": "riO137naC7lK"
   },
   "outputs": [],
   "source": [
    "# Convertendo resultados em DataFrame\n",
    "results_df = pd.DataFrame(results)\n",
    "# Após o loop\n",
    "results_df.to_csv('results.csv', index=False)"
   ]
  },
  {
   "cell_type": "code",
   "execution_count": null,
   "metadata": {
    "id": "cxtJAp55C7pD"
   },
   "outputs": [],
   "source": [
    "# Encontrando o modelo com maior acurácia\n",
    "best_model_row = results_df.loc[results_df['accuracy'].idxmax()]\n",
    "print(\"Melhor Modelo:\")\n",
    "print(best_model_row)\n",
    "best_model_filename = f\"model_epochs{best_model_row['epochs']}_batch{best_model_row['batch_size']}_lr{best_model_row['learning_rate']}_{best_model_row['optimizer']}.h5\"\n",
    "print(f\"Carregando o modelo salvo: {best_model_filename}\")\n",
    "# Carregando o melhor modelo\n",
    "best_model = load_model(best_model_filename)"
   ]
  },
  {
   "cell_type": "code",
   "execution_count": null,
   "metadata": {
    "id": "gYdkYb3bC7sL"
   },
   "outputs": [],
   "source": [
    "# Exibindo a tabela de resultados\n",
    "print(results_df)"
   ]
  },
  {
   "cell_type": "code",
   "execution_count": null,
   "metadata": {
    "id": "NVsBv_7-C7vF"
   },
   "outputs": [],
   "source": [
    "# Gerando gráficos de acurácia e perda\n",
    "for result in results:\n",
    "    plt.figure(figsize=(12, 4))\n",
    "    plt.subplot(1, 2, 1)\n",
    "    plt.plot(result['history'].history['accuracy'], label='Acurácia Treino')\n",
    "    plt.plot(result['history'].history['val_accuracy'], label='Acurácia Validação')\n",
    "    plt.title('Acurácia do Modelo')\n",
    "    plt.xlabel('Ép ocas')\n",
    "    plt.ylabel('Acurácia')\n",
    "    plt.legend()\n",
    "\n",
    "    plt.subplot(1, 2, 2)\n",
    "    plt.plot(result['history'].history['loss'], label='Perda Treino')\n",
    "    plt.plot(result['history'].history['val_loss'], label='Perda Validação')\n",
    "    plt.title('Perda do Modelo')\n",
    "    plt.xlabel('Épocas')\n",
    "    plt.ylabel('Perda')\n",
    "    plt.legend()\n",
    "    plt.show()"
   ]
  },
  {
   "cell_type": "code",
   "execution_count": null,
   "metadata": {
    "id": "3lGkxmYnC71N"
   },
   "outputs": [],
   "source": [
    "# Gerando a matriz de confusão para o melhor modelo\n",
    "y_true = validation_generator.classes\n",
    "y_pred = best_model['model'].predict(validation_generator)\n",
    "y_pred_classes = np.argmax(y_pred, axis=1)\n",
    "\n",
    "# Criando a matriz de confusão\n",
    "cm = confusion_matrix(y_true, y_pred_classes)\n",
    "disp = ConfusionMatrixDisplay(confusion_matrix=cm, display_labels=validation_generator.class_indices.keys())\n",
    "disp.plot(cmap=plt.cm.Blues)\n",
    "plt.title('Matriz de Confusão')\n",
    "plt.show()"
   ]
  },
  {
   "cell_type": "code",
   "execution_count": null,
   "metadata": {
    "id": "yPp0SELJKGi2"
   },
   "outputs": [],
   "source": [
    "# Gerador para o conjunto de teste\n",
    "test_datagen = ImageDataGenerator(rescale=1./255)  # Apenas normalização, sem augmentação\n",
    "\n",
    "test_generator = test_datagen.flow_from_directory(\n",
    "    directory=data_dir + 'test',  # Substitua pelo caminho do diretório de teste\n",
    "    target_size=(224, 224),          # Redimensiona as imagens para 224x224 pixels\n",
    "    batch_size=32,                   # Tamanho do lote\n",
    "    class_mode='categorical',        # Codificação one-hot (ou None se apenas previsões forem necessárias)\n",
    "    shuffle=False                    # Não embaralha, útil para manter a ordem original\n",
    ")"
   ]
  },
  {
   "cell_type": "code",
   "execution_count": null,
   "metadata": {
    "id": "RU5JcmK6KN-w"
   },
   "outputs": [],
   "source": [
    "#Avaliação do modelo com o conjunto de teste\n",
    "test_loss, test_accuracy = model.evaluate(test_generator)\n",
    "print(f\"Loss no conjunto de teste: {test_loss}\")\n",
    "print(f\"Acurácia no conjunto de teste: {test_accuracy}\")"
   ]
  },
  {
   "cell_type": "code",
   "execution_count": null,
   "metadata": {
    "id": "a0lkyR2aKVnZ"
   },
   "outputs": [],
   "source": [
    "#Previsões\n",
    "predictions = model.predict(test_generator)\n",
    "predicted_classes = predictions.argmax(axis=-1)  # Classe com maior probabilidade\n",
    "print(predicted_classes)"
   ]
  },
  {
   "cell_type": "code",
   "execution_count": null,
   "metadata": {
    "id": "vK0zDiveC74B"
   },
   "outputs": [],
   "source": [
    "# Finalizando o TensorBoard\n",
    "%load_ext tensorboard\n",
    "%tensorboard --logdir logs/"
   ]
  }
 ],
 "metadata": {
  "accelerator": "GPU",
  "colab": {
   "authorship_tag": "ABX9TyPnOyq2m0KVx58aPR6ohpqC",
   "gpuType": "T4",
   "provenance": []
  },
  "kernelspec": {
   "display_name": "Python 3 (ipykernel)",
   "language": "python",
   "name": "python3"
  },
  "language_info": {
   "codemirror_mode": {
    "name": "ipython",
    "version": 3
   },
   "file_extension": ".py",
   "mimetype": "text/x-python",
   "name": "python",
   "nbconvert_exporter": "python",
   "pygments_lexer": "ipython3",
   "version": "3.10.0"
  }
 },
 "nbformat": 4,
 "nbformat_minor": 4
}
