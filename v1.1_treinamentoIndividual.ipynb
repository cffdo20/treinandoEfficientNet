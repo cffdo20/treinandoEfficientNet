{
 "cells": [
  {
   "cell_type": "markdown",
   "id": "3c47508a-8b0f-4467-92ec-0a24fece801d",
   "metadata": {},
   "source": [
    "## __Importando bibliotecas necessárias__"
   ]
  },
  {
   "cell_type": "code",
   "execution_count": 1,
   "id": "74e54cbe-46e3-494d-b035-55bb5ceadaf9",
   "metadata": {},
   "outputs": [],
   "source": [
    "import pandas as pd\n",
    "import numpy as np\n",
    "import matplotlib.pyplot as plt\n",
    "import seaborn as sns\n",
    "import tensorflow as tfw\n",
    "from tensorflow.keras.preprocessing.image import ImageDataGenerator\n",
    "from tensorflow.keras.applications import EfficientNetV2B0\n",
    "from tensorflow.keras.layers import Dense, GlobalAveragePooling2D\n",
    "from tensorflow.keras.regularizers import l2\n",
    "from tensorflow.keras.models import Model\n",
    "from tensorflow.keras.optimizers import Adam, SGD\n",
    "from sklearn.metrics import confusion_matrix, ConfusionMatrixDisplay\n",
    "import os\n",
    "from tensorflow.keras.callbacks import ModelCheckpoint, TensorBoard\n",
    "from tensorflow.keras.preprocessing.image import load_img, img_to_array\n",
    "import numpy as np\n",
    "import shutil"
   ]
  },
  {
   "cell_type": "markdown",
   "id": "699e2b1d-3d4c-44c5-a3c7-71f673874552",
   "metadata": {},
   "source": [
    "## __Defina o caminho para as pastas__"
   ]
  },
  {
   "cell_type": "code",
   "execution_count": 2,
   "id": "6ea17c4b-e0db-4284-9342-93bc884c433d",
   "metadata": {},
   "outputs": [],
   "source": [
    "pathO = os.getcwd()\n",
    "path = pathO + \"\\\\produtos_regionais\\\\\"\n",
    "log_dir = pathO + \"\\\\logs\"\n",
    "output_dir = pathO + \"\\\\models\\\\\""
   ]
  },
  {
   "cell_type": "markdown",
   "id": "5dab54bc-cb01-495d-bc79-c76584f5d293",
   "metadata": {},
   "source": [
    "## __Criar pasta de Logs__"
   ]
  },
  {
   "cell_type": "code",
   "execution_count": 3,
   "id": "89aa9d8a-98a8-434e-968d-e6983ed0ff85",
   "metadata": {},
   "outputs": [
    {
     "name": "stdout",
     "output_type": "stream",
     "text": [
      "Pasta existente removida: C:\\Users\\PC\\Documents\\GitHub\\treinandoEficcientNet2\\logs\n",
      "Pasta criada: C:\\Users\\PC\\Documents\\GitHub\\treinandoEficcientNet2\\logs\n"
     ]
    }
   ],
   "source": [
    "if os.path.exists(log_dir):\n",
    "    shutil.rmtree(log_dir)  # Remove a pasta e todo o conteúdo\n",
    "    print(f\"Pasta existente removida: {log_dir}\")\n",
    "\n",
    "os.makedirs(log_dir)\n",
    "print(f\"Pasta criada: {log_dir}\")"
   ]
  },
  {
   "cell_type": "markdown",
   "id": "e692ec66-1b2a-4885-82b5-360d202483fc",
   "metadata": {},
   "source": [
    "## __Criar o callback do TensorBoard__"
   ]
  },
  {
   "cell_type": "code",
   "execution_count": 4,
   "id": "1aa8fdfc-3361-4408-a0ea-95322501c3d0",
   "metadata": {},
   "outputs": [],
   "source": [
    "tensorboard_callback = TensorBoard(log_dir=log_dir, histogram_freq=1)"
   ]
  },
  {
   "cell_type": "markdown",
   "id": "affdf796-dd79-4188-a083-cf31d979f911",
   "metadata": {},
   "source": [
    "## __Configurações de Data Augmentation__"
   ]
  },
  {
   "cell_type": "code",
   "execution_count": 5,
   "id": "92ab739d-8e5f-47d7-a800-79dccb579378",
   "metadata": {},
   "outputs": [],
   "source": [
    "datagen = ImageDataGenerator(\n",
    "    rescale=1./255,         \n",
    "    rotation_range=20,\n",
    "    shear_range=0.2,        \n",
    "    zoom_range=0.2,         \n",
    "    horizontal_flip=True,    \n",
    "    fill_mode='nearest'     \n",
    ")"
   ]
  },
  {
   "cell_type": "markdown",
   "id": "0aeab142-4c19-42a4-8059-ab4814f14fc7",
   "metadata": {},
   "source": [
    "## __Gerando os dados de treino__"
   ]
  },
  {
   "cell_type": "code",
   "execution_count": 6,
   "id": "c416a5cc-c5b2-4667-9fd6-ac9dfec537c4",
   "metadata": {},
   "outputs": [
    {
     "name": "stdout",
     "output_type": "stream",
     "text": [
      "Found 272 images belonging to 4 classes.\n"
     ]
    }
   ],
   "source": [
    "train_generator = datagen.flow_from_directory(\n",
    "    directory=path + 'train',\n",
    "    target_size=(224, 224),\n",
    "    class_mode='categorical',\n",
    "    shuffle=True\n",
    ")"
   ]
  },
  {
   "cell_type": "markdown",
   "id": "f3a02585-3680-4cf4-83d9-648aabaa363c",
   "metadata": {},
   "source": [
    "## __Gerando os dados de validação__"
   ]
  },
  {
   "cell_type": "code",
   "execution_count": 7,
   "id": "9fb1d767-ecce-4b91-8fb6-c253209c2cd6",
   "metadata": {},
   "outputs": [
    {
     "name": "stdout",
     "output_type": "stream",
     "text": [
      "Found 64 images belonging to 4 classes.\n"
     ]
    }
   ],
   "source": [
    "validation_datagen = ImageDataGenerator(rescale=1./255)\n",
    "\n",
    "validation_generator = validation_datagen.flow_from_directory(\n",
    "    directory=path + 'val',\n",
    "    target_size=(224, 224),\n",
    "    class_mode='categorical',\n",
    "    shuffle=True\n",
    ")"
   ]
  },
  {
   "cell_type": "markdown",
   "id": "d14089c2-fcd6-4b88-a658-eacf5410d888",
   "metadata": {},
   "source": [
    "## __Gerando os dados de teste__"
   ]
  },
  {
   "cell_type": "code",
   "execution_count": 8,
   "id": "6b2570ca-1599-46f7-b89e-2a9112c75699",
   "metadata": {},
   "outputs": [
    {
     "name": "stdout",
     "output_type": "stream",
     "text": [
      "Found 124 images belonging to 4 classes.\n"
     ]
    }
   ],
   "source": [
    "test_datagen = ImageDataGenerator(rescale=1./255)  # Apenas normalização, sem augmentação\n",
    "\n",
    "test_generator = test_datagen.flow_from_directory(\n",
    "    directory=path + 'test',  # Substitua pelo caminho do diretório de teste\n",
    "    target_size=(224, 224),          # Redimensiona as imagens para 224x224 pixels\n",
    "    batch_size=32,                   # Tamanho do lote\n",
    "    class_mode='categorical',\n",
    "    shuffle=True\n",
    ")"
   ]
  },
  {
   "cell_type": "markdown",
   "id": "d9933ea4-a778-4809-84df-87a679ec29f6",
   "metadata": {},
   "source": [
    "## __Definindo hiperparâmetros__"
   ]
  },
  {
   "cell_type": "code",
   "execution_count": 11,
   "id": "5404916e-d433-42c8-80bb-3d82f02dd6e5",
   "metadata": {},
   "outputs": [],
   "source": [
    "epochs = 10\n",
    "batch_size = 32\n",
    "learning_rate = 0.001\n",
    "optimizer = Adam"
   ]
  },
  {
   "cell_type": "markdown",
   "id": "ff82eb18-f2a4-4f26-a6b7-032478938f96",
   "metadata": {},
   "source": [
    "## __Treinando modelo__"
   ]
  },
  {
   "cell_type": "code",
   "execution_count": null,
   "id": "1fc45883-3948-417c-a087-611ccc9238d0",
   "metadata": {},
   "outputs": [
    {
     "name": "stdout",
     "output_type": "stream",
     "text": [
      "Epoch 1/10\n",
      "9/9 [==============================] - 53s 5s/step - loss: 0.6446 - accuracy: 0.7463 - val_loss: 1.4016 - val_accuracy: 0.2500\n",
      "Epoch 2/10\n",
      "9/9 [==============================] - 59s 6s/step - loss: 0.1452 - accuracy: 0.9522 - val_loss: 1.4069 - val_accuracy: 0.2500\n",
      "Epoch 3/10\n",
      "9/9 [==============================] - 46s 5s/step - loss: 0.0536 - accuracy: 0.9816 - val_loss: 1.3968 - val_accuracy: 0.2500\n",
      "Epoch 4/10\n",
      "9/9 [==============================] - 64s 7s/step - loss: 0.1199 - accuracy: 0.9669 - val_loss: 1.5202 - val_accuracy: 0.2500\n",
      "Epoch 5/10\n",
      "9/9 [==============================] - 63s 7s/step - loss: 0.0363 - accuracy: 0.9853 - val_loss: 1.4236 - val_accuracy: 0.2500\n",
      "Epoch 6/10\n",
      "9/9 [==============================] - 68s 8s/step - loss: 0.0167 - accuracy: 0.9926 - val_loss: 1.3781 - val_accuracy: 0.3438\n",
      "Epoch 7/10\n",
      "9/9 [==============================] - 78s 8s/step - loss: 0.0177 - accuracy: 0.9926 - val_loss: 1.3432 - val_accuracy: 0.2812\n",
      "Epoch 8/10\n",
      "9/9 [==============================] - 82s 9s/step - loss: 0.0134 - accuracy: 0.9963 - val_loss: 1.4433 - val_accuracy: 0.1562\n",
      "Epoch 9/10\n"
     ]
    }
   ],
   "source": [
    "results = []\n",
    "cont=1\n",
    "try:\n",
    "    # Configurando os geradores de dados\n",
    "    train_generator.batch_size = batch_size\n",
    "    validation_generator.batch_size = batch_size\n",
    "    \n",
    "\n",
    "    base_model = EfficientNetV2B0(weights=\"imagenet\", include_top=False, input_shape=(224, 224, 3))\n",
    "    \n",
    "    # Congelar as camadas iniciais para não treinar novamente\n",
    "    for layer in base_model.layers[-20:]:\n",
    "        layer.trainable = False\n",
    "        \n",
    "    x = base_model.output\n",
    "    x = GlobalAveragePooling2D()(x)\n",
    "    predictions = Dense(len(train_generator.class_indices), \n",
    "                    activation='softmax')(x)\n",
    "    model = Model(inputs=base_model.input, outputs=predictions)\n",
    "    \n",
    "    # Compilando o modelo\n",
    "    model.compile(optimizer=optimizer(learning_rate=learning_rate), \n",
    "                  loss='categorical_crossentropy', \n",
    "                  metrics=['accuracy'])\n",
    "    \n",
    "    # Treinando o modelo\n",
    "    history = model.fit(\n",
    "        train_generator,\n",
    "        epochs=epochs,\n",
    "        validation_data=validation_generator,\n",
    "        callbacks=[tensorboard_callback]\n",
    "    )\n",
    "    # Avaliando o modelo\n",
    "    final_loss, final_accuracy = model.evaluate(validation_generator)\n",
    "    best_model = model\n",
    "    results.append({\n",
    "        'epochs': epochs,\n",
    "        'batch_size': batch_size,\n",
    "        'learning_rate': learning_rate,\n",
    "        'optimizer': optimizer.__name__,\n",
    "        'final_loss': final_loss,\n",
    "        'final_accuracy': final_accuracy,\n",
    "        'loss': history.history['loss'][-1],  # A última perda de treino\n",
    "        'accuracy': history.history['accuracy'][-1],  # A última acurácia de treino\n",
    "        'val_loss': history.history['val_loss'][-1],  # A última perda de validação\n",
    "        'val_accuracy': history.history['val_accuracy'][-1],  # A última acurácia de validação\n",
    "        'history': history  # Armazenando o histórico completo\n",
    "    })\n",
    "    cont+=1\n",
    "except Exception as e:\n",
    "    print(f\"model_epochs{epochs}_batch{batch_size}_lr{learning_rate}_{optimizer} {e}\")"
   ]
  },
  {
   "cell_type": "markdown",
   "id": "d0a887d9-0ddd-40b9-998e-e4483dc0b856",
   "metadata": {},
   "source": [
    "## __Convertendo resultados em DataFrame__"
   ]
  },
  {
   "cell_type": "code",
   "execution_count": 35,
   "id": "98a7c467-c1a2-4d64-89bb-7c7d8bc7e947",
   "metadata": {},
   "outputs": [
    {
     "name": "stdout",
     "output_type": "stream",
     "text": [
      "   epochs  batch_size  learning_rate optimizer  final_loss  final_accuuracy  \\\n",
      "0      20          32          0.001      Adam    0.320519         0.921875   \n",
      "\n",
      "       loss  accuracy  val_loss  val_accuracy  \\\n",
      "0  0.012594       1.0  0.320519      0.921875   \n",
      "\n",
      "                                             history  \n",
      "0  <keras.callbacks.History object at 0x000002166...  \n"
     ]
    }
   ],
   "source": [
    "results_df = pd.DataFrame(results)\n",
    "folder_path=pathO+\"\\\\resultados\\\\\"\n",
    "csv_file_path = os.path.join(folder_path, 'results_com_RegularizacaoL2.csv')\n",
    "results_df.to_csv(csv_file_path, index=False)\n",
    "print(results_df)"
   ]
  },
  {
   "cell_type": "markdown",
   "id": "0f84b9fd-5940-432c-858e-a2657b2ed39e",
   "metadata": {},
   "source": [
    "## __Salvar o modelo__"
   ]
  },
  {
   "cell_type": "code",
   "execution_count": 29,
   "id": "0f8fb705-68a3-4a9e-a378-a8f48b2e25db",
   "metadata": {},
   "outputs": [],
   "source": [
    "model_name = f\"individual_model_epochs{epochs}_batch{batch_size}_lr{learning_rate}_{optimizer.__name__}_comregularizacaoL2.h5\"\n",
    "best_model.save(os.path.join(output_dir, model_name), save_format='h5')"
   ]
  },
  {
   "cell_type": "markdown",
   "id": "dfc71804-37c9-4f1d-b340-2661c51b0005",
   "metadata": {},
   "source": [
    "## __Encontrar o melhor modelo com base na acurácia de validação__"
   ]
  },
  {
   "cell_type": "code",
   "execution_count": 36,
   "id": "51a03f77-4701-45dd-8acd-b9dc0b6a0ef2",
   "metadata": {},
   "outputs": [],
   "source": [
    "best_accuracy = 0\n",
    "best_history = None\n",
    "\n",
    "# Iterar sobre os resultados para encontrar o modelo com a maior val_accuracy\n",
    "for result in results:\n",
    "    val_accuracy = result.get('val_accuracy', 0)  # Obtém a acurácia de validação\n",
    "    \n",
    "    # Verifica se a acurácia de validação é maior que a atual\n",
    "    if val_accuracy > best_accuracy:\n",
    "        best_accuracy = val_accuracy\n",
    "        best_history = result  # Armazena o histórico do melhor modelo"
   ]
  },
  {
   "cell_type": "markdown",
   "id": "e7f5a477-ada0-44c7-a773-30266cf3d012",
   "metadata": {},
   "source": [
    "## __Gerar gráfico do melhor modelo__"
   ]
  },
  {
   "cell_type": "code",
   "execution_count": 37,
   "id": "b561def6-ba00-4c07-a7f7-e170a84b9c58",
   "metadata": {},
   "outputs": [
    {
     "data": {
      "image/png": "[encoded data removed]",
      "text/plain": [
       "<Figure size 1200x400 with 2 Axes>"
      ]
     },
     "metadata": {},
     "output_type": "display_data"
    }
   ],
   "source": [
    "if best_history:\n",
    "    plt.figure(figsize=(12, 4))\n",
    "    \n",
    "    # Gráfico de Acurácia\n",
    "    plt.subplot(1, 2, 1)\n",
    "    plt.plot(best_history['history'].history['accuracy'], label='Acurácia Treino')\n",
    "    plt.plot(best_history['history'].history['val_accuracy'], label='Acurácia Validação', linestyle='--')\n",
    "    plt.title(f\"Acurácia do Melhor Modelo (Acurácia Validação: {best_accuracy:.4f})\")\n",
    "    plt.xlabel('Épocas')\n",
    "    plt.ylabel('Acurácia')\n",
    "    plt.legend()\n",
    "    \n",
    "    # Gráfico de Perda\n",
    "    plt.subplot(1, 2, 2)\n",
    "    plt.plot(best_history['history'].history['loss'], label='Perda Treino')\n",
    "    plt.plot(best_history['history'].history['val_loss'], label='Perda Validação', linestyle='--')\n",
    "    plt.title(f\"Perda do Melhor Modelo (Acurácia Validação: {best_accuracy:.4f})\")\n",
    "    plt.xlabel('Épocas')\n",
    "    plt.ylabel('Perda')\n",
    "    plt.legend()\n",
    "\n",
    "    # Exibindo os gráficos\n",
    "    plt.show()\n",
    "else:\n",
    "    print(\"Nenhum modelo foi encontrado.\")"
   ]
  },
  {
   "cell_type": "markdown",
   "id": "7321a33f-5ec6-4dd9-bc0f-11055a48dbd7",
   "metadata": {},
   "source": [
    "## __Gerando a matriz de confusão para o melhor modelo__"
   ]
  },
  {
   "cell_type": "code",
   "execution_count": 11,
   "id": "35fe7df9-df59-4ecc-834e-100f546d4260",
   "metadata": {},
   "outputs": [
    {
     "name": "stdout",
     "output_type": "stream",
     "text": [
      "2/2 [==============================] - 5s 2s/step\n"
     ]
    }
   ],
   "source": [
    "y_true = validation_generator.classes\n",
    "y_pred = best_model.predict(validation_generator)  # Não precisa de ['model'], apenas use o objeto diretamente\n",
    "y_pred_classes = np.argmax(y_pred, axis=1)"
   ]
  },
  {
   "cell_type": "markdown",
   "id": "2f8ce97f-95b2-4f1f-8bb3-7af19118c936",
   "metadata": {},
   "source": [
    "## __Criando a matriz de confusão__"
   ]
  },
  {
   "cell_type": "code",
   "execution_count": 12,
   "id": "aed79e38-9ce4-4fdc-a998-83be969af059",
   "metadata": {},
   "outputs": [
    {
     "data": {
      "image/png": "[encoded data removed]",
      "text/plain": [
       "<Figure size 640x480 with 2 Axes>"
      ]
     },
     "metadata": {},
     "output_type": "display_data"
    }
   ],
   "source": [
    "cm = confusion_matrix(y_true, y_pred_classes)\n",
    "disp = ConfusionMatrixDisplay(confusion_matrix=cm, display_labels=validation_generator.class_indices.keys())\n",
    "disp.plot(cmap=plt.cm.Blues)\n",
    "plt.title('Matriz de Confusão')\n",
    "plt.show()"
   ]
  },
  {
   "cell_type": "markdown",
   "id": "beb7c6cf-a841-4116-b934-072926a2cbf9",
   "metadata": {},
   "source": [
    "## __Avaliação do modelo com o conjunto de teste__"
   ]
  },
  {
   "cell_type": "code",
   "execution_count": 40,
   "id": "39cf4d5b-553d-4642-9bf7-0e8eaaf87afe",
   "metadata": {},
   "outputs": [
    {
     "name": "stdout",
     "output_type": "stream",
     "text": [
      "4/4 [==============================] - 9s 2s/step - loss: 0.7237 - accuracy: 0.7177\n",
      "Loss no conjunto de teste: 0.7236504554748535\n",
      "Acurácia no conjunto de teste: 0.7177419066429138\n"
     ]
    }
   ],
   "source": [
    "test_loss, test_accuracy = best_model.evaluate(test_generator)\n",
    "print(f\"Loss no conjunto de teste: {test_loss}\")\n",
    "print(f\"Acurácia no conjunto de teste: {test_accuracy}\")"
   ]
  },
  {
   "cell_type": "markdown",
   "id": "fb4195b4-d056-4076-aa54-69dd6fc08bc5",
   "metadata": {},
   "source": [
    "## __Função de Predição__"
   ]
  },
  {
   "cell_type": "code",
   "execution_count": 15,
   "id": "8688e5df-2989-474d-9f3d-b7eea7689ac3",
   "metadata": {},
   "outputs": [],
   "source": [
    "def predict_image_class(image_path, model, class_indices):\n",
    "    # Carregar a imagem\n",
    "    img = load_img(image_path, target_size=(224, 224))  # Redimensiona para o tamanho usado no modelo\n",
    "    img_array = img_to_array(img)  # Converte para array numpy\n",
    "    img_array = np.expand_dims(img_array, axis=0)  # Adiciona uma dimensão para lote\n",
    "    img_array = img_array / 255.0  # Normaliza os valores para o intervalo [0, 1]\n",
    "\n",
    "    # Previsão\n",
    "    predictions = model.predict(img_array)\n",
    "    predicted_class_idx = np.argmax(predictions, axis=-1)[0]  # Índice da classe com maior probabilidade\n",
    "\n",
    "    # Mapeando índice para a classe\n",
    "    class_labels = {v: k for k, v in class_indices.items()}  # Inverte o mapeamento\n",
    "    predicted_class = class_labels[predicted_class_idx]\n",
    "\n",
    "    return predicted_class"
   ]
  },
  {
   "cell_type": "markdown",
   "id": "206e460f-08e1-4438-ab90-112d23b5e9c2",
   "metadata": {},
   "source": [
    "## __Exemplo de Previsão__"
   ]
  },
  {
   "cell_type": "code",
   "execution_count": 19,
   "id": "16c3d93a-0775-4c65-91eb-912d789f9bc9",
   "metadata": {},
   "outputs": [
    {
     "name": "stdout",
     "output_type": "stream",
     "text": [
      "1/1 [==============================] - 0s 62ms/step\n",
      "A imagem pertence à classe: mandioca\n"
     ]
    }
   ],
   "source": [
    "image_path = pathO + \"\\\\to_predict\\\\mandioca.jpg\"\n",
    "predicted_class = predict_image_class(image_path, best_model, train_generator.class_indices)\n",
    "print(f\"A imagem pertence à classe: {predicted_class}\")"
   ]
  },
  {
   "cell_type": "markdown",
   "id": "e0104be0-c776-4be9-a04b-8ea1d978f995",
   "metadata": {},
   "source": [
    "## __Finalizando o TensorBoard__"
   ]
  },
  {
   "cell_type": "code",
   "execution_count": 11,
   "id": "41bcf8d9-3014-4a69-b393-79b3ce7131ad",
   "metadata": {},
   "outputs": [
    {
     "data": {
      "text/plain": [
       "Reusing TensorBoard on port 6006 (pid 18084), started 1:06:15 ago. (Use '!kill 18084' to kill it.)"
      ]
     },
     "metadata": {},
     "output_type": "display_data"
    },
    {
     "data": {
      "text/html": [
       "\n",
       "      <iframe id=\"tensorboard-frame-22ea9579e8122b2b\" width=\"100%\" height=\"800\" frameborder=\"0\">\n",
       "      </iframe>\n",
       "      <script>\n",
       "        (function() {\n",
       "          const frame = document.getElementById(\"tensorboard-frame-22ea9579e8122b2b\");\n",
       "          const url = new URL(\"/\", window.location);\n",
       "          const port = 6006;\n",
       "          if (port) {\n",
       "            url.port = port;\n",
       "          }\n",
       "          frame.src = url;\n",
       "        })();\n",
       "      </script>\n",
       "    "
      ],
      "text/plain": [
       "<IPython.core.display.HTML object>"
      ]
     },
     "metadata": {},
     "output_type": "display_data"
    }
   ],
   "source": [
    "%load_ext tensorboard\n",
    "%tensorboard --logdir .\\logs"
   ]
  },
  {
   "cell_type": "code",
   "execution_count": 51,
   "id": "861c6c7e-e3f1-4392-ba9f-93257d8d2644",
   "metadata": {},
   "outputs": [
    {
     "name": "stderr",
     "output_type": "stream",
     "text": [
      "ERRO: o processo \"tensorboard.exe\" nÆo foi encontrado.\n"
     ]
    }
   ],
   "source": [
    "!taskkill /IM tensorboard.exe /F"
   ]
  },
  {
   "cell_type": "code",
   "execution_count": 53,
   "id": "55b890dd-5f3e-43e9-886b-90194d7945e4",
   "metadata": {},
   "outputs": [],
   "source": [
    "%reload_ext tensorboard"
   ]
  },
  {
   "cell_type": "code",
   "execution_count": null,
   "id": "075d01ba-49ba-44ab-b746-6d01a47f2b83",
   "metadata": {},
   "outputs": [],
   "source": []
  }
 ],
 "metadata": {
  "kernelspec": {
   "display_name": "Python 3 (ipykernel)",
   "language": "python",
   "name": "python3"
  },
  "language_info": {
   "codemirror_mode": {
    "name": "ipython",
    "version": 3
   },
   "file_extension": ".py",
   "mimetype": "text/x-python",
   "name": "python",
   "nbconvert_exporter": "python",
   "pygments_lexer": "ipython3",
   "version": "3.10.0"
  }
 },
 "nbformat": 4,
 "nbformat_minor": 5
}
