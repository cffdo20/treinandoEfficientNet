{
 "cells": [
  {
   "cell_type": "markdown",
   "id": "3c47508a-8b0f-4467-92ec-0a24fece801d",
   "metadata": {},
   "source": [
    "## __Importando bibliotecas necessárias__"
   ]
  },
  {
   "cell_type": "code",
   "execution_count": 21,
   "id": "74e54cbe-46e3-494d-b035-55bb5ceadaf9",
   "metadata": {},
   "outputs": [],
   "source": [
    "import pandas as pd\n",
    "import numpy as np\n",
    "import matplotlib.pyplot as plt\n",
    "import seaborn as sns\n",
    "import tensorflow as tfw\n",
    "from tensorflow.keras.preprocessing.image import ImageDataGenerator\n",
    "from tensorflow.keras.applications import EfficientNetV2B0\n",
    "from tensorflow.keras.layers import Dense, GlobalAveragePooling2D, Dropout\n",
    "from tensorflow.keras.regularizers import l2\n",
    "from tensorflow.keras.models import Model\n",
    "from tensorflow.keras.optimizers import Adam, SGD\n",
    "from sklearn.metrics import confusion_matrix, ConfusionMatrixDisplay\n",
    "import os\n",
    "from tensorflow.keras.callbacks import ModelCheckpoint, TensorBoard\n",
    "from tensorflow.keras.preprocessing.image import load_img, img_to_array\n",
    "import numpy as np\n",
    "import shutil\n",
    "from tensorflow.keras.models import load_model\n",
    "from sklearn.metrics import classification_report\n",
    "\n",
    "from sklearn.model_selection import KFold"
   ]
  },
  {
   "cell_type": "markdown",
   "id": "699e2b1d-3d4c-44c5-a3c7-71f673874552",
   "metadata": {},
   "source": [
    "## __Defina o caminho para as pastas__"
   ]
  },
  {
   "cell_type": "code",
   "execution_count": null,
   "id": "6ea17c4b-e0db-4284-9342-93bc884c433d",
   "metadata": {},
   "outputs": [],
   "source": [
    "pathO = os.getcwd()\n",
    "path = pathO + \"\\\\produtos_regionais\\\\\"\n",
    "path_load = pathO + \"\\\\models\\\\\"\n",
    "pathKFold = pathO + \"\\\\dataset\\\\train\"\n",
    "log_dir = pathO + \"\\\\logs\"\n",
    "output_dir = pathO + \"\\\\models\\\\\""
   ]
  },
  {
   "cell_type": "markdown",
   "id": "5dab54bc-cb01-495d-bc79-c76584f5d293",
   "metadata": {},
   "source": [
    "## __Criar pasta de Logs__"
   ]
  },
  {
   "cell_type": "code",
   "execution_count": null,
   "id": "89aa9d8a-98a8-434e-968d-e6983ed0ff85",
   "metadata": {},
   "outputs": [],
   "source": [
    "if os.path.exists(log_dir):\n",
    "    shutil.rmtree(log_dir)  # Remove a pasta e todo o conteúdo\n",
    "    print(f\"Pasta existente removida: {log_dir}\")\n",
    "\n",
    "os.makedirs(log_dir)\n",
    "print(f\"Pasta criada: {log_dir}\")"
   ]
  },
  {
   "cell_type": "markdown",
   "id": "e692ec66-1b2a-4885-82b5-360d202483fc",
   "metadata": {},
   "source": [
    "## __Criar o callback do TensorBoard__"
   ]
  },
  {
   "cell_type": "code",
   "execution_count": null,
   "id": "1aa8fdfc-3361-4408-a0ea-95322501c3d0",
   "metadata": {},
   "outputs": [],
   "source": [
    "tensorboard_callback = TensorBoard(log_dir=log_dir)"
   ]
  },
  {
   "cell_type": "markdown",
   "id": "affdf796-dd79-4188-a083-cf31d979f911",
   "metadata": {},
   "source": [
    "## __Configurações de Data Augmentation__"
   ]
  },
  {
   "cell_type": "code",
   "execution_count": null,
   "id": "92ab739d-8e5f-47d7-a800-79dccb579378",
   "metadata": {},
   "outputs": [],
   "source": [
    "datagen = ImageDataGenerator(\n",
    "    rescale=1./255,\n",
    "    rotation_range=30,\n",
    "    width_shift_range=0.2,\n",
    "    height_shift_range=0.2,\n",
    "    brightness_range=[0.8, 1.2],\n",
    "    zoom_range=[0.8, 1.2],\n",
    "    horizontal_flip=True,\n",
    "    fill_mode='nearest'\n",
    ")"
   ]
  },
  {
   "cell_type": "markdown",
   "id": "004fa845-4b9a-4753-82ca-09c749eaf083",
   "metadata": {},
   "source": [
    "## __Informações do Dataset__"
   ]
  },
  {
   "cell_type": "markdown",
   "id": "a2f5440e-500a-4d1d-8a8c-f86ca826cd8a",
   "metadata": {},
   "source": [
    "produtos_regionais/\n",
    "│   ├── train/\n",
    "│   │   ├── cupuacu/\n",
    "│   │   │   ├── img1.jpg\n",
    "│   │   │   ├── img2.jpg\n",
    "│   │   │   └── ...\n",
    "│   │   ├── manga/\n",
    "│   │   │   ├── img1.jpg\n",
    "│   │   │   ├── img2.jpg\n",
    "│   │   │   └── ...\n",
    "│   │   └── mandioca/\n",
    "│   │   │   ├── img1.jpg\n",
    "│   │   │   ├── img2.jpg\n",
    "│   │   │   └── ...\n",
    "│   │   └── mari/\n",
    "│   │   │   ├── img1.jpg\n",
    "│   │   │   ├── img2.jpg\n",
    "│   │   │   └── ...\n",
    "│   ├── val/\n",
    "│   │   ├── cupuacu/\n",
    "│   │   │   ├── img1.jpg\n",
    "│   │   │   ├── img2.jpg\n",
    "│   │   │   └── ...\n",
    "│   │   ├── manga/\n",
    "│   │   │   ├── img1.jpg\n",
    "│   │   │   ├── img2.jpg\n",
    "│   │   │   └── ...\n",
    "│   │   └── mandioca/\n",
    "│   │   │   ├── img1.jpg\n",
    "│   │   │   ├── img2.jpg\n",
    "│   │   │   └── ...\n",
    "│   │   └── mari/\n",
    "│   │   │   ├── img1.jpg\n",
    "│   │   │   ├── img2.jpg\n",
    "│   │   │   └── ...\n",
    "│   │\n",
    "│   └── test/\n",
    "│       ├── cupuacu/\n",
    "│   │   │   ├── img1.jpg\n",
    "│   │   │   ├── img2.jpg\n",
    "│   │   │   └── ...\n",
    "│   │   ├── manga/\n",
    "│   │   │   ├── img1.jpg\n",
    "│   │   │   ├── img2.jpg\n",
    "│   │   │   └── ...\n",
    "│   │   └── mandioca/\n",
    "│   │   │   ├── img1.jpg\n",
    "│   │   │   ├── img2.jpg\n",
    "│   │   │   └── ...\n",
    "│   │   └── mari/\n",
    "│   │   │   ├── img1.jpg\n",
    "│   │   │   ├── img2.jpg\n",
    "│   │   │   └── ...\n",
    "\n",
    "\n",
    "\n",
    "link: https://drive.google.com/drive/folders/1lFRS7DnYjgDrd7rWx1m-EdHJttvwidny?usp=drive_link"
   ]
  },
  {
   "cell_type": "markdown",
   "id": "0f6012e6-5838-417c-9b86-85f7bfd5f4b5",
   "metadata": {},
   "source": [
    "## __Informações do Dispositivo__"
   ]
  },
  {
   "cell_type": "markdown",
   "id": "0669229e-5a46-4f94-bc56-0fca17d2539c",
   "metadata": {},
   "source": [
    "Samsung SM-M526B"
   ]
  },
  {
   "cell_type": "markdown",
   "id": "0aeab142-4c19-42a4-8059-ab4814f14fc7",
   "metadata": {},
   "source": [
    "## __Gerando os dados de treino__"
   ]
  },
  {
   "cell_type": "code",
   "execution_count": null,
   "id": "c416a5cc-c5b2-4667-9fd6-ac9dfec537c4",
   "metadata": {},
   "outputs": [],
   "source": [
    "train_generator = datagen.flow_from_directory(\n",
    "    directory=path + 'train',\n",
    "    target_size=(224, 224),\n",
    "    class_mode='categorical',\n",
    "    shuffle=True\n",
    ")"
   ]
  },
  {
   "cell_type": "markdown",
   "id": "f3a02585-3680-4cf4-83d9-648aabaa363c",
   "metadata": {},
   "source": [
    "## __Gerando os dados de validação__"
   ]
  },
  {
   "cell_type": "code",
   "execution_count": null,
   "id": "9fb1d767-ecce-4b91-8fb6-c253209c2cd6",
   "metadata": {},
   "outputs": [],
   "source": [
    "validation_datagen = ImageDataGenerator(rescale=1./255)\n",
    "\n",
    "validation_generator = validation_datagen.flow_from_directory(\n",
    "    directory=path + 'val',\n",
    "    target_size=(224, 224),\n",
    "    class_mode='categorical',\n",
    "    shuffle=False\n",
    ")"
   ]
  },
  {
   "cell_type": "markdown",
   "id": "d14089c2-fcd6-4b88-a658-eacf5410d888",
   "metadata": {},
   "source": [
    "## __Gerando os dados de teste__"
   ]
  },
  {
   "cell_type": "code",
   "execution_count": null,
   "id": "6b2570ca-1599-46f7-b89e-2a9112c75699",
   "metadata": {},
   "outputs": [],
   "source": [
    "test_datagen = ImageDataGenerator(rescale=1./255)  # Apenas normalização, sem augmentação\n",
    "\n",
    "test_generator = test_datagen.flow_from_directory(\n",
    "    directory=path + 'test',  # Substitua pelo caminho do diretório de teste\n",
    "    target_size=(224, 224),          # Redimensiona as imagens para 224x224 pixels\n",
    "    batch_size=32,                   # Tamanho do lote\n",
    "    class_mode='categorical',\n",
    "    shuffle=False\n",
    ")"
   ]
  },
  {
   "cell_type": "markdown",
   "id": "d8ba5ff0-de47-4fd5-84a5-1d6e61c21d62",
   "metadata": {},
   "source": [
    "## ___Listar classes e imagens___"
   ]
  },
  {
   "cell_type": "code",
   "execution_count": null,
   "id": "39ace217-2c3f-418c-92d3-1140b6eb6586",
   "metadata": {},
   "outputs": [],
   "source": [
    "classes = os.listdir(pathKFold)\n",
    "filepaths = []\n",
    "labels = []\n",
    "\n",
    "for class_name in classes:\n",
    "    class_dir = os.path.join(pathKFold, class_name)\n",
    "    for fname in os.listdir(class_dir):\n",
    "        filepaths.append(os.path.join(class_dir, fname))\n",
    "        labels.append(class_name)\n",
    "\n",
    "data = pd.DataFrame({'filepath': filepaths, 'label': labels})"
   ]
  },
  {
   "cell_type": "markdown",
   "id": "85d869d2-1a68-48b8-9061-e05d2701c936",
   "metadata": {},
   "source": [
    "## __Configurando o KFold__"
   ]
  },
  {
   "cell_type": "code",
   "execution_count": null,
   "id": "338bdfbd-2edb-4d96-8a94-e5624686a871",
   "metadata": {},
   "outputs": [],
   "source": [
    "kf = KFold(n_splits=5, shuffle=True, random_state=42)"
   ]
  },
  {
   "cell_type": "markdown",
   "id": "d9933ea4-a778-4809-84df-87a679ec29f6",
   "metadata": {},
   "source": [
    "## __Definindo hiperparâmetros__"
   ]
  },
  {
   "cell_type": "code",
   "execution_count": null,
   "id": "5404916e-d433-42c8-80bb-3d82f02dd6e5",
   "metadata": {},
   "outputs": [],
   "source": [
    "epochs = 30\n",
    "batch_size = 32\n",
    "learning_rate = 0.0001\n",
    "optimizer = Adam\n",
    "fold_no = 1"
   ]
  },
  {
   "cell_type": "markdown",
   "id": "77817c23-1864-4b4a-9bd4-d263834f7ed1",
   "metadata": {},
   "source": [
    "## __Treinando modelo com Kfold__"
   ]
  },
  {
   "cell_type": "code",
   "execution_count": null,
   "id": "a4cf806d-9c8f-40c9-954a-fc8c74527501",
   "metadata": {},
   "outputs": [],
   "source": [
    "results_Kfold = []\n",
    "for train_index, val_index in kf.split(data):\n",
    "    print(f\"Treinando no Fold {fold_no}...\")\n",
    "    \n",
    "    # Dados de treino e validação\n",
    "    train_data = data.iloc[train_index]\n",
    "    val_data = data.iloc[val_index]\n",
    "    \n",
    "    # Criando os generators\n",
    "    tr_generator = datagen.flow_from_dataframe(\n",
    "        train_data,\n",
    "        x_col='filepath',\n",
    "        y_col='label',\n",
    "        target_size=(224, 224),\n",
    "        batch_size=batch_size,\n",
    "        class_mode='categorical'\n",
    "    )\n",
    "    \n",
    "    val_generator = datagen.flow_from_dataframe(\n",
    "        val_data,\n",
    "        x_col='filepath',\n",
    "        y_col='label',\n",
    "        target_size=(224, 224),\n",
    "        batch_size=batch_size,\n",
    "        class_mode='categorical'\n",
    "    )\n",
    "    \n",
    "    base_model = EfficientNetV2B0(weights=\"imagenet\", include_top=False, input_shape=(224, 224, 3))\n",
    "    # Congelar as camadas iniciais para não treinar novamente\n",
    "    for layer in base_model.layers[-100:]:\n",
    "        layer.trainable = False\n",
    "        \n",
    "    x = base_model.output\n",
    "    x = GlobalAveragePooling2D()(x)\n",
    "    x = Dropout(0.5)(x)  # Dropout com 50%\n",
    "    x = Dense(128, activation='relu')(x)  # Camada densa com ReLU\n",
    "    x = Dropout(0.5)(x)\n",
    "    predictions = Dense(len(tr_generator.class_indices), \n",
    "                    activation='softmax')(x)\n",
    "    model = Model(inputs=base_model.input, outputs=predictions)\n",
    "    \n",
    "    # Compilando o modelo\n",
    "    model.compile(optimizer=optimizer(learning_rate=learning_rate), \n",
    "                  loss='categorical_crossentropy', \n",
    "                  metrics=['accuracy'])\n",
    "    \n",
    "    # Treinando o modelo\n",
    "    history = model.fit(\n",
    "        tr_generator,\n",
    "        validation_data=val_generator,\n",
    "        epochs=epochs,\n",
    "        callbacks=[tensorboard_callback]\n",
    "    )\n",
    "    \n",
    "    if(fold_no==1):\n",
    "        best_model=model\n",
    "            \n",
    "    final_loss, final_accuracy = model.evaluate(validation_generator)\n",
    "    best_loss, best_accuracy = best_model.evaluate(validation_generator)\n",
    "    if(best_accuracy<final_accuracy):\n",
    "        best_model = model\n",
    "    print(f\"Fold {fold_no} - Loss: {final_loss}, Accuracy: {final_accuracy}\")\n",
    "    results_Kfold.append({'fold': fold_no, 'loss': final_loss, 'accuracy': final_accuracy})\n",
    "    \n",
    "    fold_no += 1\n",
    "\n",
    "# Média final dos resultados\n",
    "avg_loss = np.mean([result['loss'] for result in results_Kfold])\n",
    "avg_acc = np.mean([result['accuracy'] for result in results_Kfold])\n",
    "print(f\"Média Final - Loss: {avg_loss}, Accuracy: {avg_acc}\")"
   ]
  },
  {
   "cell_type": "markdown",
   "id": "8c3a2589-8feb-4f4b-a6ce-df4c2ebca062",
   "metadata": {},
   "source": [
    "## __Convertendo resultados em DataFrame__"
   ]
  },
  {
   "cell_type": "code",
   "execution_count": null,
   "id": "b79ca2e3-2be5-43ba-abbb-7f92023b1cdc",
   "metadata": {},
   "outputs": [],
   "source": [
    "results_df_Kfold = pd.DataFrame(results_Kfold)\n",
    "folder_path=pathO+\"\\\\resultados\\\\\"\n",
    "csv_file_path = os.path.join(folder_path, 'results_Kfold_treino1.csv')\n",
    "results_df_Kfold.to_csv(csv_file_path, index=False)\n",
    "print(results_df_Kfold)"
   ]
  },
  {
   "cell_type": "markdown",
   "id": "2c8bccc2-22c8-46a5-8260-72e56fbad05b",
   "metadata": {},
   "source": [
    "## ___Salvando Modelo do KFold___"
   ]
  },
  {
   "cell_type": "code",
   "execution_count": null,
   "id": "9d4dfa38-6f49-4591-add0-8e32eef2dd88",
   "metadata": {},
   "outputs": [],
   "source": [
    "model_name = f\"individual_model_Kfold_epochs{epochs}_batch{batch_size}_lr{learning_rate}_{optimizer.__name__}_treino1.h5\"\n",
    "best_model.save(os.path.join(output_dir, model_name), save_format='h5')"
   ]
  },
  {
   "cell_type": "markdown",
   "id": "ff82eb18-f2a4-4f26-a6b7-032478938f96",
   "metadata": {},
   "source": [
    "## __Treinando modelo sem Kfold__"
   ]
  },
  {
   "cell_type": "code",
   "execution_count": 28,
   "id": "1fc45883-3948-417c-a087-611ccc9238d0",
   "metadata": {},
   "outputs": [
    {
     "name": "stdout",
     "output_type": "stream",
     "text": [
      "Epoch 1/30\n",
      "9/9 [==============================] - 53s 5s/step - loss: 1.6691 - accuracy: 0.2831 - val_loss: 1.3968 - val_accuracy: 0.2500\n",
      "Epoch 2/30\n",
      "9/9 [==============================] - 37s 4s/step - loss: 1.4212 - accuracy: 0.3088 - val_loss: 1.4006 - val_accuracy: 0.2500\n",
      "Epoch 3/30\n",
      "9/9 [==============================] - 41s 4s/step - loss: 1.1429 - accuracy: 0.5000 - val_loss: 1.3982 - val_accuracy: 0.2500\n",
      "Epoch 4/30\n",
      "9/9 [==============================] - 38s 4s/step - loss: 1.1066 - accuracy: 0.5184 - val_loss: 1.4310 - val_accuracy: 0.1719\n",
      "Epoch 5/30\n",
      "9/9 [==============================] - 37s 4s/step - loss: 0.9890 - accuracy: 0.5735 - val_loss: 1.4674 - val_accuracy: 0.2812\n",
      "Epoch 6/30\n",
      "9/9 [==============================] - 35s 4s/step - loss: 0.9030 - accuracy: 0.6140 - val_loss: 1.2450 - val_accuracy: 0.5000\n",
      "Epoch 7/30\n",
      "9/9 [==============================] - 37s 4s/step - loss: 0.7750 - accuracy: 0.7316 - val_loss: 0.9881 - val_accuracy: 0.6406\n",
      "Epoch 8/30\n",
      "9/9 [==============================] - 38s 4s/step - loss: 0.6324 - accuracy: 0.7794 - val_loss: 0.9834 - val_accuracy: 0.6875\n",
      "Epoch 9/30\n",
      "9/9 [==============================] - 38s 4s/step - loss: 0.4856 - accuracy: 0.8566 - val_loss: 1.0382 - val_accuracy: 0.6094\n",
      "Epoch 10/30\n",
      "9/9 [==============================] - 36s 4s/step - loss: 0.4549 - accuracy: 0.8787 - val_loss: 1.1259 - val_accuracy: 0.5156\n",
      "Epoch 11/30\n",
      "9/9 [==============================] - 35s 4s/step - loss: 0.4406 - accuracy: 0.8640 - val_loss: 1.0631 - val_accuracy: 0.5625\n",
      "Epoch 12/30\n",
      "9/9 [==============================] - 37s 4s/step - loss: 0.3189 - accuracy: 0.9007 - val_loss: 0.8378 - val_accuracy: 0.7344\n",
      "Epoch 13/30\n",
      "9/9 [==============================] - 38s 4s/step - loss: 0.2292 - accuracy: 0.9596 - val_loss: 0.6908 - val_accuracy: 0.8125\n",
      "Epoch 14/30\n",
      "9/9 [==============================] - 38s 4s/step - loss: 0.2141 - accuracy: 0.9301 - val_loss: 0.6798 - val_accuracy: 0.7656\n",
      "Epoch 15/30\n",
      "9/9 [==============================] - 37s 4s/step - loss: 0.1880 - accuracy: 0.9596 - val_loss: 0.5236 - val_accuracy: 0.8438\n",
      "Epoch 16/30\n",
      "9/9 [==============================] - 39s 4s/step - loss: 0.1373 - accuracy: 0.9632 - val_loss: 0.5030 - val_accuracy: 0.8281\n",
      "Epoch 17/30\n",
      "9/9 [==============================] - 37s 4s/step - loss: 0.1450 - accuracy: 0.9669 - val_loss: 0.5244 - val_accuracy: 0.8281\n",
      "Epoch 18/30\n",
      "9/9 [==============================] - 39s 4s/step - loss: 0.1253 - accuracy: 0.9816 - val_loss: 0.3436 - val_accuracy: 0.8906\n",
      "Epoch 19/30\n",
      "9/9 [==============================] - 38s 4s/step - loss: 0.1172 - accuracy: 0.9669 - val_loss: 0.1723 - val_accuracy: 0.9531\n",
      "Epoch 20/30\n",
      "9/9 [==============================] - 40s 4s/step - loss: 0.1095 - accuracy: 0.9743 - val_loss: 0.2222 - val_accuracy: 0.9531\n",
      "Epoch 21/30\n",
      "9/9 [==============================] - 39s 4s/step - loss: 0.0706 - accuracy: 0.9816 - val_loss: 0.1212 - val_accuracy: 1.0000\n",
      "Epoch 22/30\n",
      "9/9 [==============================] - 40s 4s/step - loss: 0.0737 - accuracy: 0.9779 - val_loss: 0.1601 - val_accuracy: 1.0000\n",
      "Epoch 23/30\n",
      "9/9 [==============================] - 40s 4s/step - loss: 0.0592 - accuracy: 0.9926 - val_loss: 0.1877 - val_accuracy: 1.0000\n",
      "Epoch 24/30\n",
      "9/9 [==============================] - 38s 4s/step - loss: 0.0781 - accuracy: 0.9853 - val_loss: 0.2911 - val_accuracy: 0.8906\n",
      "Epoch 25/30\n",
      "9/9 [==============================] - 39s 4s/step - loss: 0.0560 - accuracy: 0.9926 - val_loss: 0.2585 - val_accuracy: 0.9219\n",
      "Epoch 26/30\n",
      "9/9 [==============================] - 38s 4s/step - loss: 0.0533 - accuracy: 0.9963 - val_loss: 0.2363 - val_accuracy: 0.9219\n",
      "Epoch 27/30\n",
      "9/9 [==============================] - 38s 4s/step - loss: 0.0423 - accuracy: 1.0000 - val_loss: 0.1773 - val_accuracy: 0.9688\n",
      "Epoch 28/30\n",
      "9/9 [==============================] - 39s 4s/step - loss: 0.0407 - accuracy: 0.9926 - val_loss: 0.1086 - val_accuracy: 0.9688\n",
      "Epoch 29/30\n",
      "9/9 [==============================] - 38s 4s/step - loss: 0.0497 - accuracy: 0.9890 - val_loss: 0.0811 - val_accuracy: 0.9844\n",
      "Epoch 30/30\n",
      "9/9 [==============================] - 37s 4s/step - loss: 0.0458 - accuracy: 0.9890 - val_loss: 0.1163 - val_accuracy: 0.9844\n",
      "2/2 [==============================] - 4s 2s/step - loss: 0.1163 - accuracy: 0.9844\n"
     ]
    }
   ],
   "source": [
    "results = []\n",
    "cont=1\n",
    "try:\n",
    "    # Configurando os geradores de dados\n",
    "    train_generator.batch_size = batch_size\n",
    "    validation_generator.batch_size = batch_size\n",
    "\n",
    "    base_model = EfficientNetV2B0(weights=\"imagenet\", include_top=False, input_shape=(224, 224, 3))\n",
    "    # Congelar as camadas iniciais para não treinar novamente\n",
    "    for layer in base_model.layers[-135:]:\n",
    "        layer.trainable = False\n",
    "        \n",
    "    x = base_model.output\n",
    "    x = GlobalAveragePooling2D()(x)\n",
    "    x = Dropout(0.5)(x)  # Dropout com 50%\n",
    "    x = Dense(128, activation='relu')(x)\n",
    "    x = Dropout(0.5)(x)\n",
    "    predictions = Dense(len(train_generator.class_indices), \n",
    "                    activation='softmax')(x)\n",
    "    model = Model(inputs=base_model.input, outputs=predictions)\n",
    "    \n",
    "    # Compilando o modelo\n",
    "    model.compile(optimizer=optimizer(learning_rate=learning_rate), \n",
    "                  loss='categorical_crossentropy', \n",
    "                  metrics=['accuracy'])\n",
    "    \n",
    "    # Treinando o modelo\n",
    "    history = model.fit(\n",
    "        train_generator,\n",
    "        epochs=epochs,\n",
    "        validation_data=validation_generator,\n",
    "        callbacks=[tensorboard_callback]\n",
    "    )\n",
    "    # Avaliando o modelo\n",
    "    final_loss, final_accuracy = model.evaluate(validation_generator)\n",
    "    best_model = model\n",
    "    results.append({\n",
    "        'epochs': epochs,\n",
    "        'batch_size': batch_size,\n",
    "        'learning_rate': learning_rate,\n",
    "        'optimizer': optimizer.__name__,\n",
    "        'loss': history.history['loss'][-1],  # A última perda de treino\n",
    "        'accuracy': history.history['accuracy'][-1],  # A última acurácia de treino\n",
    "        'val_loss': history.history['val_loss'][-1],  # A última perda de validação\n",
    "        'val_accuracy': history.history['val_accuracy'][-1],  # A última acurácia de validação\n",
    "        'history': history  # Armazenando o histórico completo\n",
    "    })\n",
    "    cont+=1\n",
    "except Exception as e:\n",
    "    print(f\"model_epochs{epochs}_batch{batch_size}_lr{learning_rate}_{optimizer} {e}\")"
   ]
  },
  {
   "cell_type": "markdown",
   "id": "d0a887d9-0ddd-40b9-998e-e4483dc0b856",
   "metadata": {},
   "source": [
    "## __Convertendo resultados em DataFrame__"
   ]
  },
  {
   "cell_type": "code",
   "execution_count": 13,
   "id": "98a7c467-c1a2-4d64-89bb-7c7d8bc7e947",
   "metadata": {},
   "outputs": [
    {
     "name": "stdout",
     "output_type": "stream",
     "text": [
      "   epochs  batch_size  learning_rate optimizer      loss  accuracy  val_loss  \\\n",
      "0      30          32         0.0001      Adam  0.031688  0.996324  0.107243   \n",
      "\n",
      "   val_accuracy                                            history  \n",
      "0      0.984375  <keras.callbacks.History object at 0x000002AD3...  \n"
     ]
    }
   ],
   "source": [
    "results_df = pd.DataFrame(results)\n",
    "folder_path=pathO+\"\\\\resultados\\\\\"\n",
    "csv_file_path = os.path.join(folder_path, 'results_treino23.csv')\n",
    "results_df.to_csv(csv_file_path, index=False)\n",
    "print(results_df)"
   ]
  },
  {
   "cell_type": "markdown",
   "id": "0f84b9fd-5940-432c-858e-a2657b2ed39e",
   "metadata": {},
   "source": [
    "## __Salvar o modelo__"
   ]
  },
  {
   "cell_type": "code",
   "execution_count": 14,
   "id": "0f8fb705-68a3-4a9e-a378-a8f48b2e25db",
   "metadata": {},
   "outputs": [],
   "source": [
    "model_name = f\"individual_model_epochs{epochs}_batch{batch_size}_lr{learning_rate}_{optimizer.__name__}_treino23.h5\"\n",
    "best_model.save(os.path.join(output_dir, model_name), save_format='h5')"
   ]
  },
  {
   "cell_type": "markdown",
   "id": "4bb8844b-7db3-4785-bf9a-7eb39c2412dd",
   "metadata": {},
   "source": [
    "## ___Carregando o modelo salvo___"
   ]
  },
  {
   "cell_type": "code",
   "execution_count": null,
   "id": "824192cb-a484-447e-8629-365cec114f83",
   "metadata": {},
   "outputs": [],
   "source": [
    "best_model = load_model(path_load +\"individual_model_epochs20_batch32_lr0.0001_Adam_modelo95.h5\")\n",
    "print(\"Modelo carregado com sucesso.\")"
   ]
  },
  {
   "cell_type": "markdown",
   "id": "17bc3810-321c-45eb-b600-810294ea130c",
   "metadata": {},
   "source": [
    "## ___Carregando o Dataframe salvo___"
   ]
  },
  {
   "cell_type": "code",
   "execution_count": null,
   "id": "c2219a37-5f23-4ddd-9f49-35f89209bf96",
   "metadata": {},
   "outputs": [],
   "source": [
    "folder_path=pathO+\"\\\\resultados\\\\results_modelo95.csv\"\n",
    "df = pd.read_csv(folder_path)\n",
    "\n",
    "results = df.values.tolist()\n",
    "print(results)"
   ]
  },
  {
   "cell_type": "markdown",
   "id": "dfc71804-37c9-4f1d-b340-2661c51b0005",
   "metadata": {},
   "source": [
    "## __Encontrar o melhor modelo com base na acurácia de validação__"
   ]
  },
  {
   "cell_type": "code",
   "execution_count": 15,
   "id": "51a03f77-4701-45dd-8acd-b9dc0b6a0ef2",
   "metadata": {},
   "outputs": [],
   "source": [
    "best_accuracy = 0\n",
    "best_history = None\n",
    "\n",
    "# Iterar sobre os resultados para encontrar o modelo com a maior val_accuracy\n",
    "for result in results:\n",
    "    val_accuracy = result.get('val_accuracy', 0)  # Obtém a acurácia de validação\n",
    "    \n",
    "    # Verifica se a acurácia de validação é maior que a atual\n",
    "    if val_accuracy > best_accuracy:\n",
    "        best_accuracy = val_accuracy\n",
    "        best_history = result  # Armazena o histórico do melhor modelo"
   ]
  },
  {
   "cell_type": "markdown",
   "id": "e7f5a477-ada0-44c7-a773-30266cf3d012",
   "metadata": {},
   "source": [
    "## __Gerar gráfico do melhor modelo__"
   ]
  },
  {
   "cell_type": "code",
   "execution_count": 16,
   "id": "b561def6-ba00-4c07-a7f7-e170a84b9c58",
   "metadata": {},
   "outputs": [
    {
     "data": {
      "image/png": "[encoded data removed]",
      "text/plain": [
       "<Figure size 1200x400 with 2 Axes>"
      ]
     },
     "metadata": {},
     "output_type": "display_data"
    }
   ],
   "source": [
    "if best_history:\n",
    "    plt.figure(figsize=(12, 4))\n",
    "    \n",
    "    # Gráfico de Acurácia\n",
    "    plt.subplot(1, 2, 1)\n",
    "    plt.plot(best_history['history'].history['accuracy'], label='Acurácia Treino')\n",
    "    plt.plot(best_history['history'].history['val_accuracy'], label='Acurácia Validação', linestyle='--')\n",
    "    plt.title(f\"Acurácia do Melhor Modelo (Acurácia Validação: {best_accuracy:.4f})\")\n",
    "    plt.xlabel('Épocas')\n",
    "    plt.ylabel('Acurácia')\n",
    "    plt.legend()\n",
    "    \n",
    "    # Gráfico de Perda\n",
    "    plt.subplot(1, 2, 2)\n",
    "    plt.plot(best_history['history'].history['loss'], label='Perda Treino')\n",
    "    plt.plot(best_history['history'].history['val_loss'], label='Perda Validação', linestyle='--')\n",
    "    plt.title(f\"Perda do Melhor Modelo (Acurácia Validação: {best_accuracy:.4f})\")\n",
    "    plt.xlabel('Épocas')\n",
    "    plt.ylabel('Perda')\n",
    "    plt.legend()\n",
    "\n",
    "    # Exibindo os gráficos\n",
    "    plt.show()\n",
    "else:\n",
    "    print(\"Nenhum modelo foi encontrado.\")"
   ]
  },
  {
   "cell_type": "markdown",
   "id": "7321a33f-5ec6-4dd9-bc0f-11055a48dbd7",
   "metadata": {},
   "source": [
    "## __Gerando a matriz de confusão para o melhor modelo__"
   ]
  },
  {
   "cell_type": "code",
   "execution_count": 17,
   "id": "35fe7df9-df59-4ecc-834e-100f546d4260",
   "metadata": {},
   "outputs": [
    {
     "name": "stdout",
     "output_type": "stream",
     "text": [
      "2/2 [==============================] - 5s 2s/step\n"
     ]
    }
   ],
   "source": [
    "y_true = validation_generator.classes\n",
    "y_pred = best_model.predict(validation_generator)\n",
    "y_pred_classes = np.argmax(y_pred, axis=1)"
   ]
  },
  {
   "cell_type": "markdown",
   "id": "2f8ce97f-95b2-4f1f-8bb3-7af19118c936",
   "metadata": {},
   "source": [
    "## __Criando a matriz de confusão__"
   ]
  },
  {
   "cell_type": "code",
   "execution_count": 18,
   "id": "aed79e38-9ce4-4fdc-a998-83be969af059",
   "metadata": {},
   "outputs": [
    {
     "data": {
      "image/png": "[encoded data removed]",
      "text/plain": [
       "<Figure size 640x480 with 2 Axes>"
      ]
     },
     "metadata": {},
     "output_type": "display_data"
    }
   ],
   "source": [
    "cm = confusion_matrix(y_true, y_pred_classes)\n",
    "disp = ConfusionMatrixDisplay(confusion_matrix=cm, display_labels=validation_generator.class_indices.keys())\n",
    "disp.plot(cmap=plt.cm.Blues)\n",
    "plt.title('Matriz de Confusão')\n",
    "plt.show()"
   ]
  },
  {
   "cell_type": "markdown",
   "id": "beb7c6cf-a841-4116-b934-072926a2cbf9",
   "metadata": {},
   "source": [
    "## __Avaliação do modelo com o conjunto de teste__"
   ]
  },
  {
   "cell_type": "code",
   "execution_count": 19,
   "id": "39cf4d5b-553d-4642-9bf7-0e8eaaf87afe",
   "metadata": {},
   "outputs": [
    {
     "name": "stdout",
     "output_type": "stream",
     "text": [
      "4/4 [==============================] - 9s 2s/step - loss: 0.2023 - accuracy: 0.9113\n",
      "Loss no conjunto de teste: 0.20232738554477692\n",
      "Acurácia no conjunto de teste: 0.9112903475761414\n"
     ]
    }
   ],
   "source": [
    "test_loss, test_accuracy = best_model.evaluate(test_generator)\n",
    "print(f\"Loss no conjunto de teste: {test_loss}\")\n",
    "print(f\"Acurácia no conjunto de teste: {test_accuracy}\")"
   ]
  },
  {
   "cell_type": "markdown",
   "id": "4cc40a41-475c-4282-8437-c172fea04a6f",
   "metadata": {},
   "source": [
    "## ___Gerando Classification Report___"
   ]
  },
  {
   "cell_type": "code",
   "execution_count": 22,
   "id": "99d38cfa-407e-49d9-b78d-4898ddc2378f",
   "metadata": {},
   "outputs": [
    {
     "name": "stdout",
     "output_type": "stream",
     "text": [
      "4/4 [==============================] - 8s 2s/step\n",
      "              precision    recall  f1-score   support\n",
      "\n",
      "     cupuacu       0.75      0.97      0.85        31\n",
      "    mandioca       0.97      1.00      0.98        31\n",
      "       manga       1.00      0.68      0.81        31\n",
      "        mari       1.00      1.00      1.00        31\n",
      "\n",
      "    accuracy                           0.91       124\n",
      "   macro avg       0.93      0.91      0.91       124\n",
      "weighted avg       0.93      0.91      0.91       124\n",
      "\n"
     ]
    }
   ],
   "source": [
    "# Fazendo previsões no conjunto de dados de teste\n",
    "y_pred = best_model.predict(test_generator, verbose=1)\n",
    "\n",
    "# Convertendo as probabilidades em classes previstas (se for um modelo de múltiplas classes)\n",
    "y_pred_classes = np.argmax(y_pred, axis=1)\n",
    "\n",
    "# As classes reais (rótulos) que o modelo deveria prever\n",
    "y_true = test_generator.classes\n",
    "\n",
    "# Gerando o Classification Report\n",
    "report = classification_report(y_true, y_pred_classes, target_names=test_generator.class_indices.keys())\n",
    "print(report)"
   ]
  },
  {
   "cell_type": "markdown",
   "id": "fb4195b4-d056-4076-aa54-69dd6fc08bc5",
   "metadata": {},
   "source": [
    "## __Função de Predição__"
   ]
  },
  {
   "cell_type": "code",
   "execution_count": 23,
   "id": "8688e5df-2989-474d-9f3d-b7eea7689ac3",
   "metadata": {},
   "outputs": [],
   "source": [
    "def predict_image_class(image_path, model, class_indices):\n",
    "    # Carregar a imagem\n",
    "    img = load_img(image_path, target_size=(224, 224))  # Redimensiona para o tamanho usado no modelo\n",
    "    img_array = img_to_array(img)  # Converte para array numpy\n",
    "    img_array = np.expand_dims(img_array, axis=0)  # Adiciona uma dimensão para lote\n",
    "    img_array = img_array / 255.0  # Normaliza os valores para o intervalo [0, 1]\n",
    "\n",
    "    # Previsão\n",
    "    predictions = model.predict(img_array)\n",
    "    predicted_class_idx = np.argmax(predictions, axis=-1)[0]  # Índice da classe com maior probabilidade\n",
    "\n",
    "    # Mapeando índice para a classe\n",
    "    class_labels = {v: k for k, v in class_indices.items()}  # Inverte o mapeamento\n",
    "    predicted_class = class_labels[predicted_class_idx]\n",
    "\n",
    "    return predicted_class"
   ]
  },
  {
   "cell_type": "markdown",
   "id": "206e460f-08e1-4438-ab90-112d23b5e9c2",
   "metadata": {},
   "source": [
    "## __Exemplo de Previsão__"
   ]
  },
  {
   "cell_type": "code",
   "execution_count": 27,
   "id": "16c3d93a-0775-4c65-91eb-912d789f9bc9",
   "metadata": {},
   "outputs": [
    {
     "name": "stdout",
     "output_type": "stream",
     "text": [
      "1/1 [==============================] - 0s 62ms/step\n",
      "A imagem pertence à classe: mandioca\n"
     ]
    }
   ],
   "source": [
    "image_path = pathO + \"\\\\to_predict\\\\mandioca.1.jpeg\"\n",
    "predicted_class = predict_image_class(image_path, best_model, train_generator.class_indices)\n",
    "print(f\"A imagem pertence à classe: {predicted_class}\")"
   ]
  },
  {
   "cell_type": "markdown",
   "id": "e0104be0-c776-4be9-a04b-8ea1d978f995",
   "metadata": {},
   "source": [
    "## __Finalizando o TensorBoard__"
   ]
  },
  {
   "cell_type": "code",
   "execution_count": null,
   "id": "41bcf8d9-3014-4a69-b393-79b3ce7131ad",
   "metadata": {},
   "outputs": [],
   "source": [
    "%load_ext tensorboard\n",
    "%tensorboard --logdir .\\logs"
   ]
  },
  {
   "cell_type": "code",
   "execution_count": null,
   "id": "861c6c7e-e3f1-4392-ba9f-93257d8d2644",
   "metadata": {},
   "outputs": [],
   "source": [
    "!taskkill /IM tensorboard.exe /F"
   ]
  },
  {
   "cell_type": "code",
   "execution_count": null,
   "id": "55b890dd-5f3e-43e9-886b-90194d7945e4",
   "metadata": {},
   "outputs": [],
   "source": [
    "%reload_ext tensorboard"
   ]
  },
  {
   "cell_type": "code",
   "execution_count": null,
   "id": "075d01ba-49ba-44ab-b746-6d01a47f2b83",
   "metadata": {},
   "outputs": [],
   "source": []
  }
 ],
 "metadata": {
  "kernelspec": {
   "display_name": "Python 3 (ipykernel)",
   "language": "python",
   "name": "python3"
  },
  "language_info": {
   "codemirror_mode": {
    "name": "ipython",
    "version": 3
   },
   "file_extension": ".py",
   "mimetype": "text/x-python",
   "name": "python",
   "nbconvert_exporter": "python",
   "pygments_lexer": "ipython3",
   "version": "3.10.0"
  }
 },
 "nbformat": 4,
 "nbformat_minor": 5
}
