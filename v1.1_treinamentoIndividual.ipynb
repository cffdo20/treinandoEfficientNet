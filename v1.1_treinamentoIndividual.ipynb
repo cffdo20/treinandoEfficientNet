{
 "cells": [
  {
   "cell_type": "markdown",
   "id": "3c47508a-8b0f-4467-92ec-0a24fece801d",
   "metadata": {},
   "source": [
    "## __Importando bibliotecas necessárias__"
   ]
  },
  {
   "cell_type": "code",
   "execution_count": 4,
   "id": "74e54cbe-46e3-494d-b035-55bb5ceadaf9",
   "metadata": {},
   "outputs": [],
   "source": [
    "import pandas as pd\n",
    "import numpy as np\n",
    "import matplotlib.pyplot as plt\n",
    "import seaborn as sns\n",
    "import tensorflow as tfw\n",
    "from tensorflow.keras.preprocessing.image import ImageDataGenerator\n",
    "from tensorflow.keras.applications import EfficientNetV2B0\n",
    "from tensorflow.keras.layers import Dense, GlobalAveragePooling2D\n",
    "from tensorflow.keras.models import Model\n",
    "from tensorflow.keras.optimizers import Adam, SGD\n",
    "from sklearn.metrics import confusion_matrix, ConfusionMatrixDisplay\n",
    "import os\n",
    "from tensorflow.keras.callbacks import ModelCheckpoint, TensorBoard\n",
    "from tensorflow.keras.preprocessing.image import load_img, img_to_array\n",
    "import numpy as np"
   ]
  },
  {
   "cell_type": "markdown",
   "id": "699e2b1d-3d4c-44c5-a3c7-71f673874552",
   "metadata": {},
   "source": [
    "## __Defina o caminho para as pastas__"
   ]
  },
  {
   "cell_type": "code",
   "execution_count": 54,
   "id": "6ea17c4b-e0db-4284-9342-93bc884c433d",
   "metadata": {},
   "outputs": [
    {
     "name": "stdout",
     "output_type": "stream",
     "text": [
      "Callback TensorBoard configurado!\n"
     ]
    }
   ],
   "source": [
    "# Defina o caminho para a pasta\n",
    "path = \"C:\\\\Users\\\\PC\\\\Documents\\\\documents\\\\ifam\\\\TETI\\\\Listas_Atividades\\\\treinamento_efficieentNet\\\\produtos_regionais\\\\\"\n",
    "# Configurações do TensorBoard\n",
    "log_dir = \"C:\\\\Users\\\\PC\\\\Documents\\\\documents\\\\ifam\\\\TETI\\\\Listas_Atividades\\\\treinamento_efficieentNet\\\\logs\"\n",
    "# Pasta para salvar os modelos\n",
    "output_dir = \"C:\\\\Users\\\\PC\\\\Documents\\\\documents\\\\ifam\\\\TETI\\\\Listas_Atividades\\\\treinamento_efficieentNet\\\\models\\\\\"\n",
    "from tensorflow.keras.callbacks import TensorBoard"
   ]
  },
  {
   "cell_type": "markdown",
   "id": "e692ec66-1b2a-4885-82b5-360d202483fc",
   "metadata": {},
   "source": [
    "## __Criar o callback do TensorBoard__"
   ]
  },
  {
   "cell_type": "code",
   "execution_count": null,
   "id": "1aa8fdfc-3361-4408-a0ea-95322501c3d0",
   "metadata": {},
   "outputs": [],
   "source": [
    "tensorboard_callback = TensorBoard(\n",
    "    log_dir=log_dir,          # Diretório onde os logs serão armazenados\n",
    "    histogram_freq=1,         # Frequência (em épocas) para calcular histogramas de pesos e ativações\n",
    "    write_graph=True,         # Salva a arquitetura do modelo no log\n",
    "    write_images=True,        # Salva as imagens das ativações dos filtros (útil para CNNs)\n",
    "    update_freq='batch',      # Frequência de atualização dos logs: 'batch' ou 'epoch'\n",
    "    profile_batch=0,          # Define lotes a serem analisados para profiling (0 = desativado)\n",
    "    embeddings_freq=0         # Frequência de salvamento de embeddings (0 = desativado)\n",
    ")"
   ]
  },
  {
   "cell_type": "markdown",
   "id": "affdf796-dd79-4188-a083-cf31d979f911",
   "metadata": {},
   "source": [
    "## __Configurações de Data Augmentation__"
   ]
  },
  {
   "cell_type": "code",
   "execution_count": 33,
   "id": "92ab739d-8e5f-47d7-a800-79dccb579378",
   "metadata": {},
   "outputs": [],
   "source": [
    "datagen = ImageDataGenerator(\n",
    "    rescale=1./255,         \n",
    "    rotation_range=10,      \n",
    "    width_shift_range=0.1,   \n",
    "    height_shift_range=0.1,  \n",
    "    shear_range=0.1,        \n",
    "    zoom_range=0.1,         \n",
    "    horizontal_flip=True,    \n",
    "    fill_mode='nearest'     \n",
    ")"
   ]
  },
  {
   "cell_type": "markdown",
   "id": "0aeab142-4c19-42a4-8059-ab4814f14fc7",
   "metadata": {},
   "source": [
    "## __Gerando os dados de treino__"
   ]
  },
  {
   "cell_type": "code",
   "execution_count": 34,
   "id": "c416a5cc-c5b2-4667-9fd6-ac9dfec537c4",
   "metadata": {},
   "outputs": [
    {
     "name": "stdout",
     "output_type": "stream",
     "text": [
      "Found 272 images belonging to 4 classes.\n"
     ]
    }
   ],
   "source": [
    "train_generator = datagen.flow_from_directory(\n",
    "    directory=path + 'train',\n",
    "    target_size=(224, 224),  # Redimensiona as imagens para 224x224 pixels\n",
    "    class_mode='categorical',\n",
    "    shuffle=False\n",
    ")"
   ]
  },
  {
   "cell_type": "markdown",
   "id": "f3a02585-3680-4cf4-83d9-648aabaa363c",
   "metadata": {},
   "source": [
    "## __Gerando os dados de validação__"
   ]
  },
  {
   "cell_type": "code",
   "execution_count": null,
   "id": "9fb1d767-ecce-4b91-8fb6-c253209c2cd6",
   "metadata": {},
   "outputs": [],
   "source": [
    "validation_datagen = ImageDataGenerator(rescale=1./255)\n",
    "\n",
    "validation_generator = validation_datagen.flow_from_directory(\n",
    "    directory=path + 'val',\n",
    "    target_size=(224, 224),\n",
    "    class_mode='categorical',\n",
    "    shuffle=False\n",
    ")"
   ]
  },
  {
   "cell_type": "markdown",
   "id": "d14089c2-fcd6-4b88-a658-eacf5410d888",
   "metadata": {},
   "source": [
    "## __Gerando os dados de teste__"
   ]
  },
  {
   "cell_type": "code",
   "execution_count": 35,
   "id": "6b2570ca-1599-46f7-b89e-2a9112c75699",
   "metadata": {},
   "outputs": [
    {
     "name": "stdout",
     "output_type": "stream",
     "text": [
      "Found 124 images belonging to 4 classes.\n"
     ]
    }
   ],
   "source": [
    "test_datagen = ImageDataGenerator(rescale=1./255)  # Apenas normalização, sem augmentação\n",
    "\n",
    "test_generator = test_datagen.flow_from_directory(\n",
    "    directory=path + 'test',  # Substitua pelo caminho do diretório de teste\n",
    "    target_size=(224, 224),          # Redimensiona as imagens para 224x224 pixels\n",
    "    batch_size=32,                   # Tamanho do lote\n",
    "    class_mode='categorical',        # Codificação one-hot (ou None se apenas previsões forem necessárias)\n",
    "    shuffle=False                    # Não embaralha, útil para manter a ordem original\n",
    ")"
   ]
  },
  {
   "cell_type": "markdown",
   "id": "d9933ea4-a778-4809-84df-87a679ec29f6",
   "metadata": {},
   "source": [
    "## __Definindo hiperparâmetros__"
   ]
  },
  {
   "cell_type": "code",
   "execution_count": 52,
   "id": "5404916e-d433-42c8-80bb-3d82f02dd6e5",
   "metadata": {},
   "outputs": [],
   "source": [
    "epochs = 50\n",
    "batch_size = 32\n",
    "learning_rate = 0.001\n",
    "optimizer = Adam"
   ]
  },
  {
   "cell_type": "markdown",
   "id": "ff82eb18-f2a4-4f26-a6b7-032478938f96",
   "metadata": {},
   "source": [
    "## __Treinando modelo__"
   ]
  },
  {
   "cell_type": "code",
   "execution_count": 53,
   "id": "1fc45883-3948-417c-a087-611ccc9238d0",
   "metadata": {},
   "outputs": [
    {
     "name": "stdout",
     "output_type": "stream",
     "text": [
      "Epoch 1/50\n",
      "9/9 [==============================] - 60s 6s/step - loss: 1.5551 - accuracy: 0.1471 - val_loss: 1.3917 - val_accuracy: 0.2500\n",
      "Epoch 2/50\n",
      "9/9 [==============================] - 42s 4s/step - loss: 1.2585 - accuracy: 0.4301 - val_loss: 1.4614 - val_accuracy: 0.2500\n",
      "Epoch 3/50\n",
      "9/9 [==============================] - 45s 5s/step - loss: 1.1650 - accuracy: 0.4706 - val_loss: 1.4323 - val_accuracy: 0.2500\n",
      "Epoch 4/50\n",
      "9/9 [==============================] - 48s 5s/step - loss: 1.2816 - accuracy: 0.5074 - val_loss: 1.4233 - val_accuracy: 0.2500\n",
      "Epoch 5/50\n",
      "9/9 [==============================] - 40s 4s/step - loss: 0.9104 - accuracy: 0.6728 - val_loss: 1.4117 - val_accuracy: 0.2500\n",
      "Epoch 6/50\n",
      "9/9 [==============================] - 51s 6s/step - loss: 0.6583 - accuracy: 0.7757 - val_loss: 1.4359 - val_accuracy: 0.2500\n",
      "Epoch 7/50\n",
      "9/9 [==============================] - 50s 5s/step - loss: 0.4043 - accuracy: 0.9412 - val_loss: 1.6194 - val_accuracy: 0.2344\n",
      "Epoch 8/50\n",
      "9/9 [==============================] - 54s 6s/step - loss: 0.2314 - accuracy: 0.9963 - val_loss: 1.4603 - val_accuracy: 0.1250\n",
      "Epoch 9/50\n",
      "9/9 [==============================] - 50s 5s/step - loss: 0.1003 - accuracy: 1.0000 - val_loss: 1.6668 - val_accuracy: 0.2500\n",
      "Epoch 10/50\n",
      "9/9 [==============================] - 46s 5s/step - loss: 0.0653 - accuracy: 1.0000 - val_loss: 1.7226 - val_accuracy: 0.2500\n",
      "Epoch 11/50\n",
      "9/9 [==============================] - 46s 5s/step - loss: 0.0393 - accuracy: 1.0000 - val_loss: 1.6547 - val_accuracy: 0.2656\n",
      "Epoch 12/50\n",
      "9/9 [==============================] - 43s 5s/step - loss: 0.0264 - accuracy: 1.0000 - val_loss: 2.3994 - val_accuracy: 0.2500\n",
      "Epoch 13/50\n",
      "9/9 [==============================] - 54s 6s/step - loss: 0.0162 - accuracy: 1.0000 - val_loss: 0.5575 - val_accuracy: 0.7188\n",
      "Epoch 14/50\n",
      "9/9 [==============================] - 49s 5s/step - loss: 0.0162 - accuracy: 1.0000 - val_loss: 0.9003 - val_accuracy: 0.5625\n",
      "Epoch 15/50\n",
      "9/9 [==============================] - 46s 5s/step - loss: 0.0105 - accuracy: 1.0000 - val_loss: 1.1230 - val_accuracy: 0.5469\n",
      "Epoch 16/50\n",
      "9/9 [==============================] - 49s 5s/step - loss: 0.0079 - accuracy: 1.0000 - val_loss: 1.7833 - val_accuracy: 0.4062\n",
      "Epoch 17/50\n",
      "9/9 [==============================] - 51s 6s/step - loss: 0.0084 - accuracy: 1.0000 - val_loss: 1.9680 - val_accuracy: 0.3906\n",
      "Epoch 18/50\n",
      "9/9 [==============================] - 43s 5s/step - loss: 0.0066 - accuracy: 1.0000 - val_loss: 0.6908 - val_accuracy: 0.7031\n",
      "Epoch 19/50\n",
      "9/9 [==============================] - 54s 6s/step - loss: 0.0058 - accuracy: 1.0000 - val_loss: 0.5714 - val_accuracy: 0.7969\n",
      "Epoch 20/50\n",
      "9/9 [==============================] - 51s 6s/step - loss: 0.0056 - accuracy: 1.0000 - val_loss: 0.5543 - val_accuracy: 0.8125\n",
      "Epoch 21/50\n",
      "9/9 [==============================] - 50s 6s/step - loss: 0.0045 - accuracy: 1.0000 - val_loss: 0.5398 - val_accuracy: 0.8438\n",
      "Epoch 22/50\n",
      "9/9 [==============================] - 58s 6s/step - loss: 0.0044 - accuracy: 1.0000 - val_loss: 0.7111 - val_accuracy: 0.6562\n",
      "Epoch 23/50\n",
      "9/9 [==============================] - 46s 5s/step - loss: 0.0040 - accuracy: 1.0000 - val_loss: 0.7894 - val_accuracy: 0.6562\n",
      "Epoch 24/50\n",
      "9/9 [==============================] - 44s 5s/step - loss: 0.0036 - accuracy: 1.0000 - val_loss: 0.5957 - val_accuracy: 0.7344\n",
      "Epoch 25/50\n",
      "9/9 [==============================] - 50s 5s/step - loss: 0.0033 - accuracy: 1.0000 - val_loss: 0.9447 - val_accuracy: 0.6094\n",
      "Epoch 26/50\n",
      "9/9 [==============================] - 48s 5s/step - loss: 0.0031 - accuracy: 1.0000 - val_loss: 0.8671 - val_accuracy: 0.6250\n",
      "Epoch 27/50\n",
      "9/9 [==============================] - 48s 5s/step - loss: 0.0026 - accuracy: 1.0000 - val_loss: 0.6507 - val_accuracy: 0.6875\n",
      "Epoch 28/50\n",
      "9/9 [==============================] - 45s 5s/step - loss: 0.0028 - accuracy: 1.0000 - val_loss: 0.8521 - val_accuracy: 0.6250\n",
      "Epoch 29/50\n",
      "9/9 [==============================] - 46s 5s/step - loss: 0.0024 - accuracy: 1.0000 - val_loss: 0.5691 - val_accuracy: 0.7656\n",
      "Epoch 30/50\n",
      "9/9 [==============================] - 54s 6s/step - loss: 0.0026 - accuracy: 1.0000 - val_loss: 0.5544 - val_accuracy: 0.7500\n",
      "Epoch 31/50\n",
      "9/9 [==============================] - 47s 5s/step - loss: 0.0022 - accuracy: 1.0000 - val_loss: 0.4999 - val_accuracy: 0.7500\n",
      "Epoch 32/50\n",
      "9/9 [==============================] - 48s 5s/step - loss: 0.0020 - accuracy: 1.0000 - val_loss: 0.4078 - val_accuracy: 0.8594\n",
      "Epoch 33/50\n",
      "9/9 [==============================] - 42s 5s/step - loss: 0.0021 - accuracy: 1.0000 - val_loss: 0.4480 - val_accuracy: 0.7812\n",
      "Epoch 34/50\n",
      "9/9 [==============================] - 58s 6s/step - loss: 0.0023 - accuracy: 1.0000 - val_loss: 0.4647 - val_accuracy: 0.7656\n",
      "Epoch 35/50\n",
      "9/9 [==============================] - 52s 6s/step - loss: 0.0018 - accuracy: 1.0000 - val_loss: 0.5542 - val_accuracy: 0.7500\n",
      "Epoch 36/50\n",
      "9/9 [==============================] - 43s 5s/step - loss: 0.0019 - accuracy: 1.0000 - val_loss: 0.5649 - val_accuracy: 0.7344\n",
      "Epoch 37/50\n",
      "9/9 [==============================] - 43s 5s/step - loss: 0.0016 - accuracy: 1.0000 - val_loss: 0.5237 - val_accuracy: 0.7500\n",
      "Epoch 38/50\n",
      "9/9 [==============================] - 53s 6s/step - loss: 0.0018 - accuracy: 1.0000 - val_loss: 0.4128 - val_accuracy: 0.8281\n",
      "Epoch 39/50\n",
      "9/9 [==============================] - 43s 5s/step - loss: 0.0016 - accuracy: 1.0000 - val_loss: 0.4002 - val_accuracy: 0.8281\n",
      "Epoch 40/50\n",
      "9/9 [==============================] - 42s 5s/step - loss: 0.0013 - accuracy: 1.0000 - val_loss: 0.5243 - val_accuracy: 0.7500\n",
      "Epoch 41/50\n",
      "9/9 [==============================] - 42s 5s/step - loss: 0.0012 - accuracy: 1.0000 - val_loss: 0.6349 - val_accuracy: 0.6875\n",
      "Epoch 42/50\n",
      "9/9 [==============================] - 51s 6s/step - loss: 0.0012 - accuracy: 1.0000 - val_loss: 0.6300 - val_accuracy: 0.6719\n",
      "Epoch 43/50\n",
      "9/9 [==============================] - 49s 5s/step - loss: 0.0015 - accuracy: 1.0000 - val_loss: 1.2923 - val_accuracy: 0.5625\n",
      "Epoch 44/50\n",
      "9/9 [==============================] - 50s 5s/step - loss: 0.0013 - accuracy: 1.0000 - val_loss: 0.4939 - val_accuracy: 0.7656\n",
      "Epoch 45/50\n",
      "9/9 [==============================] - 51s 5s/step - loss: 9.7499e-04 - accuracy: 1.0000 - val_loss: 0.5176 - val_accuracy: 0.7188\n",
      "Epoch 46/50\n",
      "9/9 [==============================] - 47s 5s/step - loss: 0.0014 - accuracy: 1.0000 - val_loss: 0.6297 - val_accuracy: 0.7031\n",
      "Epoch 47/50\n",
      "9/9 [==============================] - 44s 5s/step - loss: 0.0010 - accuracy: 1.0000 - val_loss: 0.6551 - val_accuracy: 0.6875\n",
      "Epoch 48/50\n",
      "9/9 [==============================] - 45s 5s/step - loss: 9.6727e-04 - accuracy: 1.0000 - val_loss: 0.8312 - val_accuracy: 0.6875\n",
      "Epoch 49/50\n",
      "9/9 [==============================] - 52s 6s/step - loss: 8.3756e-04 - accuracy: 1.0000 - val_loss: 0.8399 - val_accuracy: 0.6719\n",
      "Epoch 50/50\n",
      "9/9 [==============================] - 43s 5s/step - loss: 8.9189e-04 - accuracy: 1.0000 - val_loss: 0.7766 - val_accuracy: 0.6719\n",
      "2/2 [==============================] - 4s 2s/step - loss: 0.7766 - accuracy: 0.6719\n"
     ]
    }
   ],
   "source": [
    "results = []\n",
    "cont=1\n",
    "try:\n",
    "    # Configurando os geradores de dados\n",
    "    train_generator.batch_size = batch_size\n",
    "    validation_generator.batch_size = batch_size\n",
    "    \n",
    "    # Criando o modelo com EfficientNetV2B0\n",
    "    base_model = EfficientNetV2B0(weights='imagenet', include_top=False, input_shape=(224, 224, 3))\n",
    "    x = base_model.output\n",
    "    x = GlobalAveragePooling2D()(x)\n",
    "    predictions = Dense(len(train_generator.class_indices), activation='softmax')(x)\n",
    "    model = Model(inputs=base_model.input, outputs=predictions)\n",
    "    \n",
    "    # Compilando o modelo\n",
    "    model.compile(optimizer=optimizer(learning_rate=learning_rate), \n",
    "                  loss='categorical_crossentropy', \n",
    "                  metrics=['accuracy'])\n",
    "    \n",
    "    # Treinando o modelo\n",
    "    history = model.fit(\n",
    "        train_generator,\n",
    "        epochs=epochs,\n",
    "        validation_data=validation_generator,\n",
    "        callbacks=[tensorboard_callback]\n",
    "    )\n",
    "    # Avaliando o modelo\n",
    "    final_loss, final_accuracy = model.evaluate(validation_generator)\n",
    "    best_model = model\n",
    "    results.append({\n",
    "        'epochs': epochs,\n",
    "        'batch_size': batch_size,\n",
    "        'learning_rate': learning_rate,\n",
    "        'optimizer': optimizer.__name__,\n",
    "        'final_loss': final_loss,\n",
    "        'final_accuuracy': final_accuracy,\n",
    "        'loss': history.history['loss'][-1],  # A última perda de treino\n",
    "        'accuracy': history.history['accuracy'][-1],  # A última acurácia de treino\n",
    "        'val_loss': history.history['val_loss'][-1],  # A última perda de validação\n",
    "        'val_accuracy': history.history['val_accuracy'][-1],  # A última acurácia de validação\n",
    "        'history': history  # Armazenando o histórico completo\n",
    "    })\n",
    "    cont+=1\n",
    "except Exception as e:\n",
    "    print(f\"model_epochs{epochs}_batch{batch_size}_lr{learning_rate}_{optimizer} {e}\")"
   ]
  },
  {
   "cell_type": "markdown",
   "id": "d0a887d9-0ddd-40b9-998e-e4483dc0b856",
   "metadata": {},
   "source": [
    "## __Convertendo resultados em DataFrame__"
   ]
  },
  {
   "cell_type": "code",
   "execution_count": 56,
   "id": "98a7c467-c1a2-4d64-89bb-7c7d8bc7e947",
   "metadata": {},
   "outputs": [],
   "source": [
    "results_df = pd.DataFrame(results)\n",
    "results_df.to_csv('results_com_dataAumentationReduzida.csv', index=False)\n",
    "print(results_df)"
   ]
  },
  {
   "cell_type": "markdown",
   "id": "0f84b9fd-5940-432c-858e-a2657b2ed39e",
   "metadata": {},
   "source": [
    "## __Salvar o modelo__"
   ]
  },
  {
   "cell_type": "code",
   "execution_count": 58,
   "id": "0f8fb705-68a3-4a9e-a378-a8f48b2e25db",
   "metadata": {},
   "outputs": [],
   "source": [
    "model_name = f\"model_epochs{epochs}_batch{batch_size}_lr{learning_rate}_{optimizer.__name__}_com_dataAugmentationReduzida.h5\"\n",
    "best_model.save(os.path.join(output_dir, model_name), save_format='h5')"
   ]
  },
  {
   "cell_type": "markdown",
   "id": "dfc71804-37c9-4f1d-b340-2661c51b0005",
   "metadata": {},
   "source": [
    "## __Encontrar o melhor modelo com base na acurácia de validação__"
   ]
  },
  {
   "cell_type": "code",
   "execution_count": null,
   "id": "51a03f77-4701-45dd-8acd-b9dc0b6a0ef2",
   "metadata": {},
   "outputs": [],
   "source": [
    "best_accuracy = 0\n",
    "best_history = None\n",
    "\n",
    "# Iterar sobre os resultados para encontrar o modelo com a maior val_accuracy\n",
    "for result in results:\n",
    "    val_accuracy = result.get('val_accuracy', 0)  # Obtém a acurácia de validação\n",
    "    \n",
    "    # Verifica se a acurácia de validação é maior que a atual\n",
    "    if val_accuracy > best_accuracy:\n",
    "        best_accuracy = val_accuracy\n",
    "        best_history = result  # Armazena o histórico do melhor modelo"
   ]
  },
  {
   "cell_type": "markdown",
   "id": "e7f5a477-ada0-44c7-a773-30266cf3d012",
   "metadata": {},
   "source": [
    "## __Gerar gráfico do melhor modelo__"
   ]
  },
  {
   "cell_type": "code",
   "execution_count": 59,
   "id": "b561def6-ba00-4c07-a7f7-e170a84b9c58",
   "metadata": {},
   "outputs": [
    {
     "data": {
      "image/png": "[encoded data removed]",
      "text/plain": [
       "<Figure size 1200x400 with 2 Axes>"
      ]
     },
     "metadata": {},
     "output_type": "display_data"
    }
   ],
   "source": [
    "if best_history:\n",
    "    plt.figure(figsize=(12, 4))\n",
    "    \n",
    "    # Gráfico de Acurácia\n",
    "    plt.subplot(1, 2, 1)\n",
    "    plt.plot(best_history['history'].history['accuracy'], label='Acurácia Treino')\n",
    "    plt.plot(best_history['history'].history['val_accuracy'], label='Acurácia Validação', linestyle='--')\n",
    "    plt.title(f\"Acurácia do Melhor Modelo (Acurácia Validação: {best_accuracy:.4f})\")\n",
    "    plt.xlabel('Épocas')\n",
    "    plt.ylabel('Acurácia')\n",
    "    plt.legend()\n",
    "    \n",
    "    # Gráfico de Perda\n",
    "    plt.subplot(1, 2, 2)\n",
    "    plt.plot(best_history['history'].history['loss'], label='Perda Treino')\n",
    "    plt.plot(best_history['history'].history['val_loss'], label='Perda Validação', linestyle='--')\n",
    "    plt.title(f\"Perda do Melhor Modelo (Acurácia Validação: {best_accuracy:.4f})\")\n",
    "    plt.xlabel('Épocas')\n",
    "    plt.ylabel('Perda')\n",
    "    plt.legend()\n",
    "\n",
    "    # Exibindo os gráficos\n",
    "    plt.show()\n",
    "else:\n",
    "    print(\"Nenhum modelo foi encontrado.\")"
   ]
  },
  {
   "cell_type": "markdown",
   "id": "7321a33f-5ec6-4dd9-bc0f-11055a48dbd7",
   "metadata": {},
   "source": [
    "## __Gerando a matriz de confusão para o melhor modelo__"
   ]
  },
  {
   "cell_type": "code",
   "execution_count": 60,
   "id": "35fe7df9-df59-4ecc-834e-100f546d4260",
   "metadata": {},
   "outputs": [
    {
     "name": "stdout",
     "output_type": "stream",
     "text": [
      "WARNING:tensorflow:6 out of the last 16 calls to <function Model.make_predict_function.<locals>.predict_function at 0x000001F69E4C0430> triggered tf.function retracing. Tracing is expensive and the excessive number of tracings could be due to (1) creating @tf.function repeatedly in a loop, (2) passing tensors with different shapes, (3) passing Python objects instead of tensors. For (1), please define your @tf.function outside of the loop. For (2), @tf.function has reduce_retracing=True option that can avoid unnecessary retracing. For (3), please refer to https://www.tensorflow.org/guide/function#controlling_retracing and https://www.tensorflow.org/api_docs/python/tf/function for  more details.\n",
      "2/2 [==============================] - 5s 2s/step\n"
     ]
    },
    {
     "data": {
      "image/png": "[encoded data removed]",
      "text/plain": [
       "<Figure size 640x480 with 2 Axes>"
      ]
     },
     "metadata": {},
     "output_type": "display_data"
    }
   ],
   "source": [
    "y_true = validation_generator.classes\n",
    "y_pred = best_model.predict(validation_generator)  # Não precisa de ['model'], apenas use o objeto diretamente\n",
    "y_pred_classes = np.argmax(y_pred, axis=1)"
   ]
  },
  {
   "cell_type": "markdown",
   "id": "2f8ce97f-95b2-4f1f-8bb3-7af19118c936",
   "metadata": {},
   "source": [
    "## __Criando a matriz de confusão__"
   ]
  },
  {
   "cell_type": "code",
   "execution_count": null,
   "id": "aed79e38-9ce4-4fdc-a998-83be969af059",
   "metadata": {},
   "outputs": [],
   "source": [
    "cm = confusion_matrix(y_true, y_pred_classes)\n",
    "disp = ConfusionMatrixDisplay(confusion_matrix=cm, display_labels=validation_generator.class_indices.keys())\n",
    "disp.plot(cmap=plt.cm.Blues)\n",
    "plt.title('Matriz de Confusão')\n",
    "plt.show()"
   ]
  },
  {
   "cell_type": "markdown",
   "id": "beb7c6cf-a841-4116-b934-072926a2cbf9",
   "metadata": {},
   "source": [
    "## __Avaliação do modelo com o conjunto de teste__"
   ]
  },
  {
   "cell_type": "code",
   "execution_count": 44,
   "id": "39cf4d5b-553d-4642-9bf7-0e8eaaf87afe",
   "metadata": {},
   "outputs": [
    {
     "name": "stdout",
     "output_type": "stream",
     "text": [
      "4/4 [==============================] - 8s 2s/step - loss: 0.4058 - accuracy: 0.8145\n",
      "Loss no conjunto de teste: 0.40580832958221436\n",
      "Acurácia no conjunto de teste: 0.8145161271095276\n"
     ]
    }
   ],
   "source": [
    "test_loss, test_accuracy = best_model.evaluate(test_generator)\n",
    "print(f\"Loss no conjunto de teste: {test_loss}\")\n",
    "print(f\"Acurácia no conjunto de teste: {test_accuracy}\")"
   ]
  },
  {
   "cell_type": "markdown",
   "id": "fb4195b4-d056-4076-aa54-69dd6fc08bc5",
   "metadata": {},
   "source": [
    "## __Função de Predição__"
   ]
  },
  {
   "cell_type": "code",
   "execution_count": 63,
   "id": "8688e5df-2989-474d-9f3d-b7eea7689ac3",
   "metadata": {},
   "outputs": [],
   "source": [
    "def predict_image_class(image_path, model, class_indices):\n",
    "    # Carregar a imagem\n",
    "    img = load_img(image_path, target_size=(224, 224))  # Redimensiona para o tamanho usado no modelo\n",
    "    img_array = img_to_array(img)  # Converte para array numpy\n",
    "    img_array = np.expand_dims(img_array, axis=0)  # Adiciona uma dimensão para lote\n",
    "    img_array = img_array / 255.0  # Normaliza os valores para o intervalo [0, 1]\n",
    "\n",
    "    # Previsão\n",
    "    predictions = model.predict(img_array)\n",
    "    predicted_class_idx = np.argmax(predictions, axis=-1)[0]  # Índice da classe com maior probabilidade\n",
    "\n",
    "    # Mapeando índice para a classe\n",
    "    class_labels = {v: k for k, v in class_indices.items()}  # Inverte o mapeamento\n",
    "    predicted_class = class_labels[predicted_class_idx]\n",
    "\n",
    "    return predicted_class"
   ]
  },
  {
   "cell_type": "markdown",
   "id": "206e460f-08e1-4438-ab90-112d23b5e9c2",
   "metadata": {},
   "source": [
    "## __Exemplo de Previsão__"
   ]
  },
  {
   "cell_type": "code",
   "execution_count": 65,
   "id": "16c3d93a-0775-4c65-91eb-912d789f9bc9",
   "metadata": {},
   "outputs": [
    {
     "ename": "AttributeError",
     "evalue": "'NoneType' object has no attribute 'predict'",
     "output_type": "error",
     "traceback": [
      "\u001b[1;31m---------------------------------------------------------------------------\u001b[0m",
      "\u001b[1;31mAttributeError\u001b[0m                            Traceback (most recent call last)",
      "Cell \u001b[1;32mIn[65], line 2\u001b[0m\n\u001b[0;32m      1\u001b[0m image_path \u001b[38;5;241m=\u001b[39m \u001b[38;5;124m\"\u001b[39m\u001b[38;5;124mC:/Users/PC/Documents/documents/ifam/TETI/Listas_Atividades/treinamento_efficieentNet/to_predict/manga.jpg\u001b[39m\u001b[38;5;124m\"\u001b[39m\n\u001b[1;32m----> 2\u001b[0m predicted_class \u001b[38;5;241m=\u001b[39m \u001b[43mpredict_image_class\u001b[49m\u001b[43m(\u001b[49m\u001b[43mimage_path\u001b[49m\u001b[43m,\u001b[49m\u001b[43m \u001b[49m\u001b[43mbest_model\u001b[49m\u001b[43m,\u001b[49m\u001b[43m \u001b[49m\u001b[43mtrain_generator\u001b[49m\u001b[38;5;241;43m.\u001b[39;49m\u001b[43mclass_indices\u001b[49m\u001b[43m)\u001b[49m\n\u001b[0;32m      3\u001b[0m \u001b[38;5;28mprint\u001b[39m(\u001b[38;5;124mf\u001b[39m\u001b[38;5;124m\"\u001b[39m\u001b[38;5;124mA imagem pertence à classe: \u001b[39m\u001b[38;5;132;01m{\u001b[39;00mpredicted_class\u001b[38;5;132;01m}\u001b[39;00m\u001b[38;5;124m\"\u001b[39m)\n",
      "Cell \u001b[1;32mIn[63], line 9\u001b[0m, in \u001b[0;36mpredict_image_class\u001b[1;34m(image_path, model, class_indices)\u001b[0m\n\u001b[0;32m      6\u001b[0m img_array \u001b[38;5;241m=\u001b[39m img_array \u001b[38;5;241m/\u001b[39m \u001b[38;5;241m255.0\u001b[39m  \u001b[38;5;66;03m# Normaliza os valores para o intervalo [0, 1]\u001b[39;00m\n\u001b[0;32m      8\u001b[0m \u001b[38;5;66;03m# Previsão\u001b[39;00m\n\u001b[1;32m----> 9\u001b[0m predictions \u001b[38;5;241m=\u001b[39m \u001b[43mmodel\u001b[49m\u001b[38;5;241;43m.\u001b[39;49m\u001b[43mpredict\u001b[49m(img_array)\n\u001b[0;32m     10\u001b[0m predicted_class_idx \u001b[38;5;241m=\u001b[39m np\u001b[38;5;241m.\u001b[39margmax(predictions, axis\u001b[38;5;241m=\u001b[39m\u001b[38;5;241m-\u001b[39m\u001b[38;5;241m1\u001b[39m)[\u001b[38;5;241m0\u001b[39m]  \u001b[38;5;66;03m# Índice da classe com maior probabilidade\u001b[39;00m\n\u001b[0;32m     12\u001b[0m \u001b[38;5;66;03m# Mapeando índice para a classe\u001b[39;00m\n",
      "\u001b[1;31mAttributeError\u001b[0m: 'NoneType' object has no attribute 'predict'"
     ]
    }
   ],
   "source": [
    "image_path = \"C:/Users/PC/Documents/documents/ifam/TETI/Listas_Atividades/treinamento_efficieentNet/to_predict/manga.jpg\"\n",
    "predicted_class = predict_image_class(image_path, best_model, train_generator.class_indices)\n",
    "print(f\"A imagem pertence à classe: {predicted_class}\")"
   ]
  },
  {
   "cell_type": "markdown",
   "id": "e0104be0-c776-4be9-a04b-8ea1d978f995",
   "metadata": {},
   "source": [
    "## __Finalizando o TensorBoard__"
   ]
  },
  {
   "cell_type": "code",
   "execution_count": 28,
   "id": "41bcf8d9-3014-4a69-b393-79b3ce7131ad",
   "metadata": {},
   "outputs": [
    {
     "name": "stdout",
     "output_type": "stream",
     "text": [
      "The tensorboard extension is already loaded. To reload it, use:\n",
      "  %reload_ext tensorboard\n"
     ]
    },
    {
     "data": {
      "text/plain": [
       "Reusing TensorBoard on port 6006 (pid 10688), started 20:12:59 ago. (Use '!kill 10688' to kill it.)"
      ]
     },
     "metadata": {},
     "output_type": "display_data"
    },
    {
     "data": {
      "text/html": [
       "\n",
       "      <iframe id=\"tensorboard-frame-9881d977bcb01728\" width=\"100%\" height=\"800\" frameborder=\"0\">\n",
       "      </iframe>\n",
       "      <script>\n",
       "        (function() {\n",
       "          const frame = document.getElementById(\"tensorboard-frame-9881d977bcb01728\");\n",
       "          const url = new URL(\"/\", window.location);\n",
       "          const port = 6006;\n",
       "          if (port) {\n",
       "            url.port = port;\n",
       "          }\n",
       "          frame.src = url;\n",
       "        })();\n",
       "      </script>\n",
       "    "
      ],
      "text/plain": [
       "<IPython.core.display.HTML object>"
      ]
     },
     "metadata": {},
     "output_type": "display_data"
    }
   ],
   "source": [
    "%load_ext tensorboard\n",
    "%tensorboard --logdir C:/Users/PC/Documents/documents/ifam/TETI/Listas_Atividades/treinamento_efficieentNet/logs"
   ]
  },
  {
   "cell_type": "code",
   "execution_count": 29,
   "id": "861c6c7e-e3f1-4392-ba9f-93257d8d2644",
   "metadata": {},
   "outputs": [],
   "source": [
    "%reload_ext tensorboard"
   ]
  },
  {
   "cell_type": "code",
   "execution_count": null,
   "id": "55b890dd-5f3e-43e9-886b-90194d7945e4",
   "metadata": {},
   "outputs": [],
   "source": []
  }
 ],
 "metadata": {
  "kernelspec": {
   "display_name": "Python 3 (ipykernel)",
   "language": "python",
   "name": "python3"
  },
  "language_info": {
   "codemirror_mode": {
    "name": "ipython",
    "version": 3
   },
   "file_extension": ".py",
   "mimetype": "text/x-python",
   "name": "python",
   "nbconvert_exporter": "python",
   "pygments_lexer": "ipython3",
   "version": "3.10.0"
  }
 },
 "nbformat": 4,
 "nbformat_minor": 5
}
