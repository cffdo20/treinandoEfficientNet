{
 "cells": [
  {
   "cell_type": "markdown",
   "id": "3c47508a-8b0f-4467-92ec-0a24fece801d",
   "metadata": {},
   "source": [
    "## __Importando bibliotecas necessárias__"
   ]
  },
  {
   "cell_type": "code",
   "execution_count": 2,
   "id": "74e54cbe-46e3-494d-b035-55bb5ceadaf9",
   "metadata": {},
   "outputs": [],
   "source": [
    "import pandas as pd\n",
    "import numpy as np\n",
    "import matplotlib.pyplot as plt\n",
    "import seaborn as sns\n",
    "import tensorflow as tfw\n",
    "from tensorflow.keras.preprocessing.image import ImageDataGenerator\n",
    "from tensorflow.keras.applications import EfficientNetV2B0\n",
    "from tensorflow.keras.layers import Dense, GlobalAveragePooling2D, Dropout\n",
    "from tensorflow.keras.regularizers import l2\n",
    "from tensorflow.keras.models import Model\n",
    "from tensorflow.keras.optimizers import Adam, SGD\n",
    "from sklearn.metrics import confusion_matrix, ConfusionMatrixDisplay\n",
    "import os\n",
    "from tensorflow.keras.callbacks import ModelCheckpoint, TensorBoard\n",
    "from tensorflow.keras.preprocessing.image import load_img, img_to_array\n",
    "import numpy as np\n",
    "import shutil\n",
    "from sklearn.model_selection import KFold"
   ]
  },
  {
   "cell_type": "markdown",
   "id": "699e2b1d-3d4c-44c5-a3c7-71f673874552",
   "metadata": {},
   "source": [
    "## __Defina o caminho para as pastas__"
   ]
  },
  {
   "cell_type": "code",
   "execution_count": 3,
   "id": "6ea17c4b-e0db-4284-9342-93bc884c433d",
   "metadata": {},
   "outputs": [],
   "source": [
    "pathO = os.getcwd()\n",
    "path = pathO + \"\\\\produtos_regionais\\\\\"\n",
    "path_load = pathO + \"\\\\models\\\\\"\n",
    "pathKFold = pathO + \"\\\\dataset\\\\train\"\n",
    "log_dir = pathO + \"\\\\logs\"\n",
    "output_dir = pathO + \"\\\\models\\\\\""
   ]
  },
  {
   "cell_type": "markdown",
   "id": "5dab54bc-cb01-495d-bc79-c76584f5d293",
   "metadata": {},
   "source": [
    "## __Criar pasta de Logs__"
   ]
  },
  {
   "cell_type": "code",
   "execution_count": 4,
   "id": "89aa9d8a-98a8-434e-968d-e6983ed0ff85",
   "metadata": {},
   "outputs": [
    {
     "name": "stdout",
     "output_type": "stream",
     "text": [
      "Pasta existente removida: C:\\Users\\PC\\Documents\\GitHub\\treinandoEficcientNet2\\logs\n",
      "Pasta criada: C:\\Users\\PC\\Documents\\GitHub\\treinandoEficcientNet2\\logs\n"
     ]
    }
   ],
   "source": [
    "if os.path.exists(log_dir):\n",
    "    shutil.rmtree(log_dir)  # Remove a pasta e todo o conteúdo\n",
    "    print(f\"Pasta existente removida: {log_dir}\")\n",
    "\n",
    "os.makedirs(log_dir)\n",
    "print(f\"Pasta criada: {log_dir}\")"
   ]
  },
  {
   "cell_type": "markdown",
   "id": "e692ec66-1b2a-4885-82b5-360d202483fc",
   "metadata": {},
   "source": [
    "## __Criar o callback do TensorBoard__"
   ]
  },
  {
   "cell_type": "code",
   "execution_count": 5,
   "id": "1aa8fdfc-3361-4408-a0ea-95322501c3d0",
   "metadata": {},
   "outputs": [],
   "source": [
    "tensorboard_callback = TensorBoard(log_dir=log_dir)"
   ]
  },
  {
   "cell_type": "markdown",
   "id": "affdf796-dd79-4188-a083-cf31d979f911",
   "metadata": {},
   "source": [
    "## __Configurações de Data Augmentation__"
   ]
  },
  {
   "cell_type": "code",
   "execution_count": 6,
   "id": "92ab739d-8e5f-47d7-a800-79dccb579378",
   "metadata": {},
   "outputs": [],
   "source": [
    "datagen = ImageDataGenerator(\n",
    "    rescale=1./255,\n",
    "    rotation_range=30,\n",
    "    width_shift_range=0.2,\n",
    "    height_shift_range=0.2,\n",
    "    brightness_range=[0.8, 1.2],\n",
    "    zoom_range=[0.8, 1.2],\n",
    "    horizontal_flip=True,\n",
    "    fill_mode='nearest'\n",
    ")"
   ]
  },
  {
   "cell_type": "markdown",
   "id": "004fa845-4b9a-4753-82ca-09c749eaf083",
   "metadata": {},
   "source": [
    "## __Informações do Dataset__"
   ]
  },
  {
   "cell_type": "markdown",
   "id": "a2f5440e-500a-4d1d-8a8c-f86ca826cd8a",
   "metadata": {},
   "source": [
    "produtos_regionais/\n",
    "│   ├── train/\n",
    "│   │   ├── cupuacu/\n",
    "│   │   │   ├── img1.jpg\n",
    "│   │   │   ├── img2.jpg\n",
    "│   │   │   └── ...\n",
    "│   │   ├── manga/\n",
    "│   │   │   ├── img1.jpg\n",
    "│   │   │   ├── img2.jpg\n",
    "│   │   │   └── ...\n",
    "│   │   └── mandioca/\n",
    "│   │   │   ├── img1.jpg\n",
    "│   │   │   ├── img2.jpg\n",
    "│   │   │   └── ...\n",
    "│   │   └── mari/\n",
    "│   │   │   ├── img1.jpg\n",
    "│   │   │   ├── img2.jpg\n",
    "│   │   │   └── ...\n",
    "│   ├── val/\n",
    "│   │   ├── cupuacu/\n",
    "│   │   │   ├── img1.jpg\n",
    "│   │   │   ├── img2.jpg\n",
    "│   │   │   └── ...\n",
    "│   │   ├── manga/\n",
    "│   │   │   ├── img1.jpg\n",
    "│   │   │   ├── img2.jpg\n",
    "│   │   │   └── ...\n",
    "│   │   └── mandioca/\n",
    "│   │   │   ├── img1.jpg\n",
    "│   │   │   ├── img2.jpg\n",
    "│   │   │   └── ...\n",
    "│   │   └── mari/\n",
    "│   │   │   ├── img1.jpg\n",
    "│   │   │   ├── img2.jpg\n",
    "│   │   │   └── ...\n",
    "│   │\n",
    "│   └── test/\n",
    "│       ├── cupuacu/\n",
    "│   │   │   ├── img1.jpg\n",
    "│   │   │   ├── img2.jpg\n",
    "│   │   │   └── ...\n",
    "│   │   ├── manga/\n",
    "│   │   │   ├── img1.jpg\n",
    "│   │   │   ├── img2.jpg\n",
    "│   │   │   └── ...\n",
    "│   │   └── mandioca/\n",
    "│   │   │   ├── img1.jpg\n",
    "│   │   │   ├── img2.jpg\n",
    "│   │   │   └── ...\n",
    "│   │   └── mari/\n",
    "│   │   │   ├── img1.jpg\n",
    "│   │   │   ├── img2.jpg\n",
    "│   │   │   └── ...\n",
    "\n",
    "\n",
    "\n",
    "link: https://drive.google.com/drive/folders/1lFRS7DnYjgDrd7rWx1m-EdHJttvwidny?usp=drive_link"
   ]
  },
  {
   "cell_type": "markdown",
   "id": "0f6012e6-5838-417c-9b86-85f7bfd5f4b5",
   "metadata": {},
   "source": [
    "## __Informações do Dispositivo__"
   ]
  },
  {
   "cell_type": "markdown",
   "id": "0669229e-5a46-4f94-bc56-0fca17d2539c",
   "metadata": {},
   "source": [
    "Samsung SM-M526B"
   ]
  },
  {
   "cell_type": "markdown",
   "id": "0aeab142-4c19-42a4-8059-ab4814f14fc7",
   "metadata": {},
   "source": [
    "## __Gerando os dados de treino__"
   ]
  },
  {
   "cell_type": "code",
   "execution_count": 7,
   "id": "c416a5cc-c5b2-4667-9fd6-ac9dfec537c4",
   "metadata": {},
   "outputs": [
    {
     "name": "stdout",
     "output_type": "stream",
     "text": [
      "Found 272 images belonging to 4 classes.\n"
     ]
    }
   ],
   "source": [
    "train_generator = datagen.flow_from_directory(\n",
    "    directory=path + 'train',\n",
    "    target_size=(224, 224),\n",
    "    class_mode='categorical',\n",
    "    shuffle=True\n",
    ")"
   ]
  },
  {
   "cell_type": "markdown",
   "id": "f3a02585-3680-4cf4-83d9-648aabaa363c",
   "metadata": {},
   "source": [
    "## __Gerando os dados de validação__"
   ]
  },
  {
   "cell_type": "code",
   "execution_count": 8,
   "id": "9fb1d767-ecce-4b91-8fb6-c253209c2cd6",
   "metadata": {},
   "outputs": [
    {
     "name": "stdout",
     "output_type": "stream",
     "text": [
      "Found 64 images belonging to 4 classes.\n"
     ]
    }
   ],
   "source": [
    "validation_datagen = ImageDataGenerator(rescale=1./255)\n",
    "\n",
    "validation_generator = validation_datagen.flow_from_directory(\n",
    "    directory=path + 'val',\n",
    "    target_size=(224, 224),\n",
    "    class_mode='categorical',\n",
    "    shuffle=False\n",
    ")"
   ]
  },
  {
   "cell_type": "markdown",
   "id": "d14089c2-fcd6-4b88-a658-eacf5410d888",
   "metadata": {},
   "source": [
    "## __Gerando os dados de teste__"
   ]
  },
  {
   "cell_type": "code",
   "execution_count": 9,
   "id": "6b2570ca-1599-46f7-b89e-2a9112c75699",
   "metadata": {},
   "outputs": [
    {
     "name": "stdout",
     "output_type": "stream",
     "text": [
      "Found 124 images belonging to 4 classes.\n"
     ]
    }
   ],
   "source": [
    "test_datagen = ImageDataGenerator(rescale=1./255)  # Apenas normalização, sem augmentação\n",
    "\n",
    "test_generator = test_datagen.flow_from_directory(\n",
    "    directory=path + 'test',  # Substitua pelo caminho do diretório de teste\n",
    "    target_size=(224, 224),          # Redimensiona as imagens para 224x224 pixels\n",
    "    batch_size=32,                   # Tamanho do lote\n",
    "    class_mode='categorical',\n",
    "    shuffle=False\n",
    ")"
   ]
  },
  {
   "cell_type": "markdown",
   "id": "d8ba5ff0-de47-4fd5-84a5-1d6e61c21d62",
   "metadata": {},
   "source": [
    "## ___Listar classes e imagens___"
   ]
  },
  {
   "cell_type": "code",
   "execution_count": 10,
   "id": "39ace217-2c3f-418c-92d3-1140b6eb6586",
   "metadata": {},
   "outputs": [],
   "source": [
    "classes = os.listdir(pathKFold)\n",
    "filepaths = []\n",
    "labels = []\n",
    "\n",
    "for class_name in classes:\n",
    "    class_dir = os.path.join(pathKFold, class_name)\n",
    "    for fname in os.listdir(class_dir):\n",
    "        filepaths.append(os.path.join(class_dir, fname))\n",
    "        labels.append(class_name)\n",
    "\n",
    "data = pd.DataFrame({'filepath': filepaths, 'label': labels})"
   ]
  },
  {
   "cell_type": "markdown",
   "id": "85d869d2-1a68-48b8-9061-e05d2701c936",
   "metadata": {},
   "source": [
    "## __Configurando o KFold__"
   ]
  },
  {
   "cell_type": "code",
   "execution_count": 11,
   "id": "338bdfbd-2edb-4d96-8a94-e5624686a871",
   "metadata": {},
   "outputs": [],
   "source": [
    "kf = KFold(n_splits=5, shuffle=True, random_state=42)"
   ]
  },
  {
   "cell_type": "markdown",
   "id": "d9933ea4-a778-4809-84df-87a679ec29f6",
   "metadata": {},
   "source": [
    "## __Definindo hiperparâmetros__"
   ]
  },
  {
   "cell_type": "code",
   "execution_count": 12,
   "id": "5404916e-d433-42c8-80bb-3d82f02dd6e5",
   "metadata": {},
   "outputs": [],
   "source": [
    "epochs = 20\n",
    "batch_size = 32\n",
    "learning_rate = 0.0001\n",
    "optimizer = Adam\n",
    "fold_no = 1"
   ]
  },
  {
   "cell_type": "markdown",
   "id": "77817c23-1864-4b4a-9bd4-d263834f7ed1",
   "metadata": {},
   "source": [
    "## __Treinando modelo com Kfold__"
   ]
  },
  {
   "cell_type": "code",
   "execution_count": null,
   "id": "a4cf806d-9c8f-40c9-954a-fc8c74527501",
   "metadata": {},
   "outputs": [
    {
     "name": "stdout",
     "output_type": "stream",
     "text": [
      "Treinando no Fold 1...\n",
      "Found 268 validated image filenames belonging to 4 classes.\n",
      "Found 68 validated image filenames belonging to 4 classes.\n",
      "Epoch 1/20\n",
      "9/9 [==============================] - 55s 5s/step - loss: 1.7470 - accuracy: 0.2388 - val_loss: 1.4271 - val_accuracy: 0.1765\n",
      "Epoch 2/20\n",
      "9/9 [==============================] - 46s 5s/step - loss: 1.4951 - accuracy: 0.3396 - val_loss: 1.4010 - val_accuracy: 0.2500\n",
      "Epoch 3/20\n",
      "9/9 [==============================] - 39s 4s/step - loss: 1.2561 - accuracy: 0.4291 - val_loss: 1.4411 - val_accuracy: 0.2500\n",
      "Epoch 4/20\n",
      "9/9 [==============================] - 40s 4s/step - loss: 1.1598 - accuracy: 0.5224 - val_loss: 1.3966 - val_accuracy: 0.2353\n",
      "Epoch 5/20\n",
      "9/9 [==============================] - 45s 5s/step - loss: 1.0480 - accuracy: 0.5485 - val_loss: 1.3927 - val_accuracy: 0.2941\n",
      "Epoch 6/20\n",
      "9/9 [==============================] - 41s 4s/step - loss: 0.8906 - accuracy: 0.6716 - val_loss: 1.3312 - val_accuracy: 0.2353\n",
      "Epoch 7/20\n",
      "9/9 [==============================] - 42s 4s/step - loss: 0.7493 - accuracy: 0.7090 - val_loss: 1.3321 - val_accuracy: 0.2206\n",
      "Epoch 8/20\n",
      "9/9 [==============================] - 43s 5s/step - loss: 0.6203 - accuracy: 0.8022 - val_loss: 1.0227 - val_accuracy: 0.4559\n",
      "Epoch 9/20\n",
      "9/9 [==============================] - 43s 5s/step - loss: 0.5340 - accuracy: 0.8134 - val_loss: 0.5931 - val_accuracy: 0.9118\n",
      "Epoch 10/20\n",
      "9/9 [==============================] - 42s 4s/step - loss: 0.4462 - accuracy: 0.8433 - val_loss: 0.5049 - val_accuracy: 0.8971\n",
      "Epoch 11/20\n",
      "9/9 [==============================] - 40s 5s/step - loss: 0.3707 - accuracy: 0.9067 - val_loss: 0.7307 - val_accuracy: 0.7941\n",
      "Epoch 12/20\n",
      "9/9 [==============================] - 47s 5s/step - loss: 0.3563 - accuracy: 0.8881 - val_loss: 1.0923 - val_accuracy: 0.4853\n",
      "Epoch 13/20\n",
      "9/9 [==============================] - 45s 5s/step - loss: 0.3045 - accuracy: 0.9254 - val_loss: 1.1922 - val_accuracy: 0.4118\n",
      "Epoch 14/20\n",
      "9/9 [==============================] - 40s 4s/step - loss: 0.2412 - accuracy: 0.9478 - val_loss: 1.1079 - val_accuracy: 0.4853\n",
      "Epoch 15/20\n",
      "9/9 [==============================] - 39s 4s/step - loss: 0.2025 - accuracy: 0.9552 - val_loss: 0.9681 - val_accuracy: 0.5441\n",
      "Epoch 16/20\n",
      "9/9 [==============================] - 44s 5s/step - loss: 0.1685 - accuracy: 0.9739 - val_loss: 0.6576 - val_accuracy: 0.7353\n",
      "Epoch 17/20\n",
      "9/9 [==============================] - 42s 5s/step - loss: 0.2078 - accuracy: 0.9328 - val_loss: 0.1599 - val_accuracy: 0.9853\n",
      "Epoch 18/20\n",
      "9/9 [==============================] - 41s 4s/step - loss: 0.1764 - accuracy: 0.9627 - val_loss: 0.2828 - val_accuracy: 0.9265\n",
      "Epoch 19/20\n",
      "9/9 [==============================] - 42s 4s/step - loss: 0.1466 - accuracy: 0.9552 - val_loss: 0.1544 - val_accuracy: 0.9706\n",
      "Epoch 20/20\n",
      "9/9 [==============================] - 46s 5s/step - loss: 0.1123 - accuracy: 0.9739 - val_loss: 0.0446 - val_accuracy: 1.0000\n",
      "3/3 [==============================] - 5s 1s/step - loss: 0.0613 - accuracy: 0.9853\n",
      "Fold 1 - Loss: 0.06128057837486267, Accuracy: 0.9852941036224365\n",
      "Treinando no Fold 2...\n",
      "Found 269 validated image filenames belonging to 4 classes.\n",
      "Found 67 validated image filenames belonging to 4 classes.\n",
      "Epoch 1/20\n",
      "9/9 [==============================] - 52s 5s/step - loss: 1.6065 - accuracy: 0.2862 - val_loss: 1.4337 - val_accuracy: 0.1642\n",
      "Epoch 2/20\n",
      "9/9 [==============================] - 44s 5s/step - loss: 1.4290 - accuracy: 0.3978 - val_loss: 1.4250 - val_accuracy: 0.2687\n",
      "Epoch 3/20\n",
      "9/9 [==============================] - 42s 4s/step - loss: 1.2513 - accuracy: 0.4238 - val_loss: 1.4521 - val_accuracy: 0.2687\n",
      "Epoch 4/20\n",
      "9/9 [==============================] - 44s 5s/step - loss: 1.0973 - accuracy: 0.5279 - val_loss: 1.3981 - val_accuracy: 0.2985\n",
      "Epoch 5/20\n",
      "9/9 [==============================] - 45s 5s/step - loss: 1.0127 - accuracy: 0.5836 - val_loss: 1.3806 - val_accuracy: 0.3134\n",
      "Epoch 6/20\n",
      "9/9 [==============================] - 42s 4s/step - loss: 0.9378 - accuracy: 0.6506 - val_loss: 1.3424 - val_accuracy: 0.4179\n",
      "Epoch 7/20\n",
      "9/9 [==============================] - 37s 4s/step - loss: 0.7679 - accuracy: 0.7212 - val_loss: 1.1904 - val_accuracy: 0.5224\n",
      "Epoch 8/20\n",
      "9/9 [==============================] - 44s 5s/step - loss: 0.6507 - accuracy: 0.7993 - val_loss: 0.9830 - val_accuracy: 0.8507\n",
      "Epoch 9/20\n",
      "9/9 [==============================] - 46s 5s/step - loss: 0.5380 - accuracy: 0.8401 - val_loss: 0.7905 - val_accuracy: 0.8358\n",
      "Epoch 10/20\n",
      "9/9 [==============================] - 49s 5s/step - loss: 0.5435 - accuracy: 0.8067 - val_loss: 0.9680 - val_accuracy: 0.7313\n",
      "Epoch 11/20\n",
      "9/9 [==============================] - 43s 4s/step - loss: 0.4353 - accuracy: 0.8513 - val_loss: 1.0092 - val_accuracy: 0.6269\n",
      "Epoch 12/20\n",
      "9/9 [==============================] - 39s 4s/step - loss: 0.3962 - accuracy: 0.8773 - val_loss: 0.9807 - val_accuracy: 0.6418\n",
      "Epoch 13/20\n",
      "9/9 [==============================] - 39s 4s/step - loss: 0.3290 - accuracy: 0.9071 - val_loss: 0.7812 - val_accuracy: 0.7463\n",
      "Epoch 14/20\n",
      "9/9 [==============================] - 39s 4s/step - loss: 0.2748 - accuracy: 0.9257 - val_loss: 0.5308 - val_accuracy: 0.8657\n",
      "Epoch 15/20\n",
      "9/9 [==============================] - 38s 4s/step - loss: 0.2117 - accuracy: 0.9628 - val_loss: 0.3481 - val_accuracy: 0.9104\n",
      "Epoch 16/20\n",
      "9/9 [==============================] - 41s 5s/step - loss: 0.1984 - accuracy: 0.9628 - val_loss: 0.5214 - val_accuracy: 0.8060\n",
      "Epoch 17/20\n",
      "9/9 [==============================] - 46s 5s/step - loss: 0.2165 - accuracy: 0.9405 - val_loss: 0.4678 - val_accuracy: 0.8358\n",
      "Epoch 18/20\n",
      "9/9 [==============================] - 44s 5s/step - loss: 0.1927 - accuracy: 0.9405 - val_loss: 0.5154 - val_accuracy: 0.8358\n",
      "Epoch 19/20\n",
      "9/9 [==============================] - 44s 5s/step - loss: 0.0998 - accuracy: 0.9888 - val_loss: 0.2477 - val_accuracy: 0.9254\n",
      "Epoch 20/20\n",
      "9/9 [==============================] - 41s 4s/step - loss: 0.1183 - accuracy: 0.9814 - val_loss: 0.0584 - val_accuracy: 1.0000\n",
      "3/3 [==============================] - 4s 1s/step - loss: 0.0504 - accuracy: 1.0000\n",
      "Fold 2 - Loss: 0.05043536052107811, Accuracy: 1.0\n",
      "Treinando no Fold 3...\n",
      "Found 269 validated image filenames belonging to 4 classes.\n",
      "Found 67 validated image filenames belonging to 4 classes.\n",
      "Epoch 1/20\n",
      "9/9 [==============================] - 50s 5s/step - loss: 1.6611 - accuracy: 0.2825 - val_loss: 1.4376 - val_accuracy: 0.2239\n",
      "Epoch 2/20\n",
      "9/9 [==============================] - 43s 5s/step - loss: 1.4576 - accuracy: 0.3234 - val_loss: 1.4333 - val_accuracy: 0.2239\n",
      "Epoch 3/20\n",
      "9/9 [==============================] - 42s 5s/step - loss: 1.2550 - accuracy: 0.4312 - val_loss: 1.4338 - val_accuracy: 0.2687\n",
      "Epoch 4/20\n",
      "9/9 [==============================] - 46s 5s/step - loss: 1.0780 - accuracy: 0.5688 - val_loss: 1.4265 - val_accuracy: 0.2388\n",
      "Epoch 5/20\n",
      "9/9 [==============================] - 43s 5s/step - loss: 0.9034 - accuracy: 0.6543 - val_loss: 1.3928 - val_accuracy: 0.2388\n",
      "Epoch 6/20\n",
      "9/9 [==============================] - 42s 4s/step - loss: 0.8408 - accuracy: 0.6729 - val_loss: 1.3027 - val_accuracy: 0.4478\n",
      "Epoch 7/20\n",
      "9/9 [==============================] - 44s 5s/step - loss: 0.7491 - accuracy: 0.7435 - val_loss: 1.2470 - val_accuracy: 0.3582\n",
      "Epoch 8/20\n",
      "9/9 [==============================] - 42s 4s/step - loss: 0.5782 - accuracy: 0.8141 - val_loss: 0.7051 - val_accuracy: 0.7313\n",
      "Epoch 9/20\n",
      "9/9 [==============================] - 42s 4s/step - loss: 0.5018 - accuracy: 0.8550 - val_loss: 0.5651 - val_accuracy: 0.8507\n",
      "Epoch 10/20\n",
      "9/9 [==============================] - 43s 5s/step - loss: 0.3924 - accuracy: 0.9145 - val_loss: 0.6994 - val_accuracy: 0.8060\n",
      "Epoch 11/20\n",
      "9/9 [==============================] - 45s 5s/step - loss: 0.3348 - accuracy: 0.9219 - val_loss: 0.6080 - val_accuracy: 0.7761\n",
      "Epoch 12/20\n",
      "9/9 [==============================] - 40s 4s/step - loss: 0.3109 - accuracy: 0.9257 - val_loss: 0.3590 - val_accuracy: 0.8657\n",
      "Epoch 13/20\n",
      "9/9 [==============================] - 41s 4s/step - loss: 0.2468 - accuracy: 0.9405 - val_loss: 0.3569 - val_accuracy: 0.8806\n",
      "Epoch 14/20\n",
      "9/9 [==============================] - 44s 5s/step - loss: 0.2507 - accuracy: 0.9442 - val_loss: 0.3432 - val_accuracy: 0.9104\n",
      "Epoch 15/20\n",
      "9/9 [==============================] - 43s 5s/step - loss: 0.2406 - accuracy: 0.9442 - val_loss: 0.2595 - val_accuracy: 0.9104\n",
      "Epoch 16/20\n",
      "9/9 [==============================] - 43s 5s/step - loss: 0.1463 - accuracy: 0.9851 - val_loss: 0.2202 - val_accuracy: 0.8955\n",
      "Epoch 17/20\n",
      "9/9 [==============================] - 42s 4s/step - loss: 0.1328 - accuracy: 0.9703 - val_loss: 0.4112 - val_accuracy: 0.8209\n",
      "Epoch 18/20\n",
      "9/9 [==============================] - 42s 5s/step - loss: 0.1262 - accuracy: 0.9777 - val_loss: 0.2628 - val_accuracy: 0.9104\n",
      "Epoch 19/20\n",
      "9/9 [==============================] - 37s 4s/step - loss: 0.1263 - accuracy: 0.9777 - val_loss: 0.1724 - val_accuracy: 0.9552\n",
      "Epoch 20/20\n",
      "9/9 [==============================] - 41s 4s/step - loss: 0.1184 - accuracy: 0.9628 - val_loss: 0.2388 - val_accuracy: 0.9403\n",
      "3/3 [==============================] - 4s 1s/step - loss: 0.2479 - accuracy: 0.9104\n",
      "Fold 3 - Loss: 0.24786996841430664, Accuracy: 0.9104477763175964\n",
      "Treinando no Fold 4...\n",
      "Found 269 validated image filenames belonging to 4 classes.\n",
      "Found 67 validated image filenames belonging to 4 classes.\n",
      "Epoch 1/20\n",
      "9/9 [==============================] - 53s 5s/step - loss: 1.6092 - accuracy: 0.2788 - val_loss: 1.3916 - val_accuracy: 0.2388\n",
      "Epoch 2/20\n",
      "9/9 [==============================] - 42s 4s/step - loss: 1.3679 - accuracy: 0.3792 - val_loss: 1.4584 - val_accuracy: 0.2388\n",
      "Epoch 3/20\n",
      "9/9 [==============================] - 43s 5s/step - loss: 1.1884 - accuracy: 0.4907 - val_loss: 1.4199 - val_accuracy: 0.2388\n",
      "Epoch 4/20\n",
      "9/9 [==============================] - 44s 5s/step - loss: 1.0937 - accuracy: 0.5428 - val_loss: 1.4422 - val_accuracy: 0.2090\n",
      "Epoch 5/20\n",
      "9/9 [==============================] - 42s 5s/step - loss: 0.8859 - accuracy: 0.6171 - val_loss: 1.4127 - val_accuracy: 0.2687\n",
      "Epoch 6/20\n",
      "9/9 [==============================] - 42s 4s/step - loss: 0.7631 - accuracy: 0.7175 - val_loss: 1.3367 - val_accuracy: 0.3582\n",
      "Epoch 7/20\n",
      "9/9 [==============================] - 44s 5s/step - loss: 0.6450 - accuracy: 0.7732 - val_loss: 1.1955 - val_accuracy: 0.5373\n",
      "Epoch 8/20\n",
      "9/9 [==============================] - 43s 5s/step - loss: 0.5534 - accuracy: 0.8141 - val_loss: 1.0840 - val_accuracy: 0.5522\n",
      "Epoch 9/20\n",
      "9/9 [==============================] - 43s 5s/step - loss: 0.4745 - accuracy: 0.8550 - val_loss: 0.8117 - val_accuracy: 0.8060\n",
      "Epoch 10/20\n",
      "9/9 [==============================] - 44s 5s/step - loss: 0.4231 - accuracy: 0.8699 - val_loss: 0.6592 - val_accuracy: 0.8358\n",
      "Epoch 11/20\n",
      "9/9 [==============================] - 40s 4s/step - loss: 0.3696 - accuracy: 0.8885 - val_loss: 0.4949 - val_accuracy: 0.9104\n",
      "Epoch 12/20\n",
      "9/9 [==============================] - 42s 5s/step - loss: 0.3353 - accuracy: 0.9033 - val_loss: 0.4598 - val_accuracy: 0.8806\n",
      "Epoch 13/20\n",
      "9/9 [==============================] - 42s 4s/step - loss: 0.2760 - accuracy: 0.9182 - val_loss: 0.3465 - val_accuracy: 0.9552\n",
      "Epoch 14/20\n",
      "9/9 [==============================] - 39s 4s/step - loss: 0.2313 - accuracy: 0.9368 - val_loss: 0.4452 - val_accuracy: 0.9552\n",
      "Epoch 15/20\n",
      "9/9 [==============================] - 39s 4s/step - loss: 0.1790 - accuracy: 0.9554 - val_loss: 0.4547 - val_accuracy: 0.8806\n",
      "Epoch 16/20\n",
      "9/9 [==============================] - 42s 4s/step - loss: 0.1773 - accuracy: 0.9554 - val_loss: 0.3527 - val_accuracy: 0.9403\n",
      "Epoch 17/20\n",
      "9/9 [==============================] - 41s 5s/step - loss: 0.1548 - accuracy: 0.9740 - val_loss: 0.2304 - val_accuracy: 0.9403\n",
      "Epoch 18/20\n",
      "9/9 [==============================] - 41s 4s/step - loss: 0.1500 - accuracy: 0.9554 - val_loss: 0.1602 - val_accuracy: 0.9701\n",
      "Epoch 19/20\n",
      "9/9 [==============================] - 43s 5s/step - loss: 0.1139 - accuracy: 0.9777 - val_loss: 0.0874 - val_accuracy: 0.9851\n",
      "Epoch 20/20\n",
      "9/9 [==============================] - 40s 4s/step - loss: 0.1396 - accuracy: 0.9703 - val_loss: 0.1208 - val_accuracy: 0.9851\n",
      "3/3 [==============================] - 5s 1s/step - loss: 0.1047 - accuracy: 1.0000\n",
      "Fold 4 - Loss: 0.10465938597917557, Accuracy: 1.0\n",
      "Treinando no Fold 5...\n",
      "Found 269 validated image filenames belonging to 4 classes.\n",
      "Found 67 validated image filenames belonging to 4 classes.\n",
      "Epoch 1/20\n",
      "9/9 [==============================] - 47s 4s/step - loss: 1.6561 - accuracy: 0.3494 - val_loss: 1.4181 - val_accuracy: 0.2836\n",
      "Epoch 2/20\n",
      "9/9 [==============================] - 41s 4s/step - loss: 1.5577 - accuracy: 0.2491 - val_loss: 1.4319 - val_accuracy: 0.2836\n",
      "Epoch 3/20\n",
      "9/9 [==============================] - 42s 4s/step - loss: 1.2696 - accuracy: 0.4089 - val_loss: 1.3871 - val_accuracy: 0.2836\n",
      "Epoch 4/20\n",
      "9/9 [==============================] - 41s 4s/step - loss: 1.2158 - accuracy: 0.4572 - val_loss: 1.4346 - val_accuracy: 0.2985\n",
      "Epoch 5/20\n",
      "9/9 [==============================] - 39s 4s/step - loss: 1.0572 - accuracy: 0.5725 - val_loss: 1.3913 - val_accuracy: 0.3284\n",
      "Epoch 6/20\n",
      "5/9 [===============>..............] - ETA: 17s - loss: 0.9551 - accuracy: 0.5887"
     ]
    }
   ],
   "source": [
    "results_Kfold = []\n",
    "for train_index, val_index in kf.split(data):\n",
    "    print(f\"Treinando no Fold {fold_no}...\")\n",
    "    \n",
    "    # Dados de treino e validação\n",
    "    train_data = data.iloc[train_index]\n",
    "    val_data = data.iloc[val_index]\n",
    "    \n",
    "    # Criando os generators\n",
    "    tr_generator = datagen.flow_from_dataframe(\n",
    "        train_data,\n",
    "        x_col='filepath',\n",
    "        y_col='label',\n",
    "        target_size=(224, 224),\n",
    "        batch_size=batch_size,\n",
    "        class_mode='categorical'\n",
    "    )\n",
    "    \n",
    "    val_generator = datagen.flow_from_dataframe(\n",
    "        val_data,\n",
    "        x_col='filepath',\n",
    "        y_col='label',\n",
    "        target_size=(224, 224),\n",
    "        batch_size=batch_size,\n",
    "        class_mode='categorical'\n",
    "    )\n",
    "    \n",
    "    base_model = EfficientNetV2B0(weights=\"imagenet\", include_top=False, input_shape=(224, 224, 3))\n",
    "    # Congelar as camadas iniciais para não treinar novamente\n",
    "    for layer in base_model.layers[-100:]:\n",
    "        layer.trainable = False\n",
    "        \n",
    "    x = base_model.output\n",
    "    x = GlobalAveragePooling2D()(x)\n",
    "    x = Dropout(0.5)(x)  # Dropout com 50%\n",
    "    x = Dense(128, activation='relu')(x)  # Camada densa com ReLU\n",
    "    x = Dropout(0.5)(x)\n",
    "    predictions = Dense(len(tr_generator.class_indices), \n",
    "                    activation='softmax')(x)\n",
    "    model = Model(inputs=base_model.input, outputs=predictions)\n",
    "    \n",
    "    # Compilando o modelo\n",
    "    model.compile(optimizer=optimizer(learning_rate=learning_rate), \n",
    "                  loss='categorical_crossentropy', \n",
    "                  metrics=['accuracy'])\n",
    "    \n",
    "    # Treinando o modelo\n",
    "    history = model.fit(\n",
    "        tr_generator,\n",
    "        validation_data=val_generator,\n",
    "        epochs=epochs,\n",
    "        callbacks=[tensorboard_callback]\n",
    "    )\n",
    "    \n",
    "    if(fold_no==1):\n",
    "        best_model=model\n",
    "            \n",
    "    final_loss, final_accuracy = model.evaluate(validation_generator)\n",
    "    best_loss, best_accuracy = best_model.evaluate(validation_generator)\n",
    "    if(best_accuracy<final_accuracy):\n",
    "        best_model = model\n",
    "    print(f\"Fold {fold_no} - Loss: {final_loss}, Accuracy: {final_accuracy}\")\n",
    "    results_Kfold.append({'fold': fold_no, 'loss': final_loss, 'accuracy': final_accuracy})\n",
    "    \n",
    "    fold_no += 1\n",
    "\n",
    "# Média final dos resultados\n",
    "avg_loss = np.mean([result['loss'] for result in results_Kfold])\n",
    "avg_acc = np.mean([result['accuracy'] for result in results_Kfold])\n",
    "print(f\"Média Final - Loss: {avg_loss}, Accuracy: {avg_acc}\")"
   ]
  },
  {
   "cell_type": "markdown",
   "id": "8c3a2589-8feb-4f4b-a6ce-df4c2ebca062",
   "metadata": {},
   "source": [
    "## __Convertendo resultados em DataFrame__"
   ]
  },
  {
   "cell_type": "code",
   "execution_count": null,
   "id": "b79ca2e3-2be5-43ba-abbb-7f92023b1cdc",
   "metadata": {},
   "outputs": [],
   "source": [
    "results_df_Kfold = pd.DataFrame(results_Kfold)\n",
    "folder_path=pathO+\"\\\\resultados\\\\\"\n",
    "csv_file_path = os.path.join(folder_path, 'results_Kfold_treino1.csv')\n",
    "results_df_Kfold.to_csv(csv_file_path, index=False)\n",
    "print(results_df_Kfold)"
   ]
  },
  {
   "cell_type": "markdown",
   "id": "2c8bccc2-22c8-46a5-8260-72e56fbad05b",
   "metadata": {},
   "source": [
    "## ___Salvando Modelo do KFold___"
   ]
  },
  {
   "cell_type": "code",
   "execution_count": null,
   "id": "9d4dfa38-6f49-4591-add0-8e32eef2dd88",
   "metadata": {},
   "outputs": [],
   "source": [
    "model_name = f\"individual_model_Kfold_epochs{epochs}_batch{batch_size}_lr{learning_rate}_{optimizer.__name__}_treino1.h5\"\n",
    "best_model.save(os.path.join(output_dir, model_name), save_format='h5')"
   ]
  },
  {
   "cell_type": "markdown",
   "id": "ff82eb18-f2a4-4f26-a6b7-032478938f96",
   "metadata": {},
   "source": [
    "## __Treinando modelo sem Kfold__"
   ]
  },
  {
   "cell_type": "code",
   "execution_count": 44,
   "id": "1fc45883-3948-417c-a087-611ccc9238d0",
   "metadata": {},
   "outputs": [
    {
     "name": "stdout",
     "output_type": "stream",
     "text": [
      "270\n",
      "Epoch 1/30\n",
      "9/9 [==============================] - 51s 5s/step - loss: 1.7032 - accuracy: 0.2831 - val_loss: 1.4385 - val_accuracy: 0.2500\n",
      "Epoch 2/30\n",
      "9/9 [==============================] - 41s 4s/step - loss: 1.4601 - accuracy: 0.3824 - val_loss: 1.4163 - val_accuracy: 0.2500\n",
      "Epoch 3/30\n",
      "9/9 [==============================] - 45s 5s/step - loss: 1.2503 - accuracy: 0.4449 - val_loss: 1.4377 - val_accuracy: 0.2500\n",
      "Epoch 4/30\n",
      "9/9 [==============================] - 42s 4s/step - loss: 1.0111 - accuracy: 0.5772 - val_loss: 1.5209 - val_accuracy: 0.2500\n",
      "Epoch 5/30\n",
      "9/9 [==============================] - 47s 5s/step - loss: 0.9191 - accuracy: 0.6213 - val_loss: 1.3737 - val_accuracy: 0.2656\n",
      "Epoch 6/30\n",
      "9/9 [==============================] - 44s 5s/step - loss: 0.8813 - accuracy: 0.6507 - val_loss: 1.1282 - val_accuracy: 0.5312\n",
      "Epoch 7/30\n",
      "9/9 [==============================] - 42s 4s/step - loss: 0.7023 - accuracy: 0.7390 - val_loss: 0.9822 - val_accuracy: 0.5156\n",
      "Epoch 8/30\n",
      "9/9 [==============================] - 40s 4s/step - loss: 0.5585 - accuracy: 0.8419 - val_loss: 0.8288 - val_accuracy: 0.6875\n",
      "Epoch 9/30\n",
      "9/9 [==============================] - 43s 5s/step - loss: 0.4712 - accuracy: 0.8640 - val_loss: 0.6100 - val_accuracy: 0.9688\n",
      "Epoch 10/30\n",
      "9/9 [==============================] - 41s 4s/step - loss: 0.4118 - accuracy: 0.8897 - val_loss: 0.4477 - val_accuracy: 0.9844\n",
      "Epoch 11/30\n",
      "9/9 [==============================] - 40s 4s/step - loss: 0.3597 - accuracy: 0.8971 - val_loss: 0.4274 - val_accuracy: 0.9844\n",
      "Epoch 12/30\n",
      "9/9 [==============================] - 42s 5s/step - loss: 0.2980 - accuracy: 0.9154 - val_loss: 0.3790 - val_accuracy: 0.9688\n",
      "Epoch 13/30\n",
      "9/9 [==============================] - 43s 5s/step - loss: 0.2295 - accuracy: 0.9596 - val_loss: 0.2616 - val_accuracy: 0.9844\n",
      "Epoch 14/30\n",
      "9/9 [==============================] - 46s 5s/step - loss: 0.2140 - accuracy: 0.9522 - val_loss: 0.2476 - val_accuracy: 0.9844\n",
      "Epoch 15/30\n",
      "9/9 [==============================] - 36s 4s/step - loss: 0.1821 - accuracy: 0.9559 - val_loss: 0.1985 - val_accuracy: 0.9844\n",
      "Epoch 16/30\n",
      "9/9 [==============================] - 47s 5s/step - loss: 0.1713 - accuracy: 0.9559 - val_loss: 0.2066 - val_accuracy: 0.9688\n",
      "Epoch 17/30\n",
      "9/9 [==============================] - 43s 4s/step - loss: 0.1610 - accuracy: 0.9632 - val_loss: 0.1372 - val_accuracy: 1.0000\n",
      "Epoch 18/30\n",
      "9/9 [==============================] - 41s 4s/step - loss: 0.1443 - accuracy: 0.9669 - val_loss: 0.1524 - val_accuracy: 1.0000\n",
      "Epoch 19/30\n",
      "9/9 [==============================] - 40s 4s/step - loss: 0.0981 - accuracy: 0.9816 - val_loss: 0.1202 - val_accuracy: 1.0000\n",
      "Epoch 20/30\n",
      "9/9 [==============================] - 43s 5s/step - loss: 0.0996 - accuracy: 0.9743 - val_loss: 0.2246 - val_accuracy: 1.0000\n",
      "Epoch 21/30\n",
      "9/9 [==============================] - 39s 4s/step - loss: 0.0617 - accuracy: 0.9926 - val_loss: 0.1763 - val_accuracy: 0.9844\n",
      "Epoch 22/30\n",
      "9/9 [==============================] - 41s 4s/step - loss: 0.0806 - accuracy: 0.9669 - val_loss: 0.1161 - val_accuracy: 1.0000\n",
      "Epoch 23/30\n",
      "9/9 [==============================] - 42s 4s/step - loss: 0.0805 - accuracy: 0.9816 - val_loss: 0.1709 - val_accuracy: 1.0000\n",
      "Epoch 24/30\n",
      "9/9 [==============================] - 41s 4s/step - loss: 0.0451 - accuracy: 1.0000 - val_loss: 0.1487 - val_accuracy: 1.0000\n",
      "Epoch 25/30\n",
      "9/9 [==============================] - 40s 4s/step - loss: 0.0593 - accuracy: 0.9890 - val_loss: 0.1776 - val_accuracy: 0.9844\n",
      "Epoch 26/30\n",
      "9/9 [==============================] - 41s 4s/step - loss: 0.0344 - accuracy: 0.9963 - val_loss: 0.1357 - val_accuracy: 1.0000\n",
      "Epoch 27/30\n",
      "9/9 [==============================] - 43s 5s/step - loss: 0.0370 - accuracy: 1.0000 - val_loss: 0.0702 - val_accuracy: 1.0000\n",
      "Epoch 28/30\n",
      "9/9 [==============================] - 41s 4s/step - loss: 0.0480 - accuracy: 0.9926 - val_loss: 0.0579 - val_accuracy: 1.0000\n",
      "Epoch 29/30\n",
      "9/9 [==============================] - 40s 4s/step - loss: 0.0481 - accuracy: 0.9853 - val_loss: 0.0554 - val_accuracy: 1.0000\n",
      "Epoch 30/30\n",
      "9/9 [==============================] - 43s 5s/step - loss: 0.0466 - accuracy: 0.9890 - val_loss: 0.0636 - val_accuracy: 1.0000\n",
      "2/2 [==============================] - 4s 2s/step - loss: 0.0636 - accuracy: 1.0000\n"
     ]
    }
   ],
   "source": [
    "results = []\n",
    "cont=1\n",
    "try:\n",
    "    # Configurando os geradores de dados\n",
    "    train_generator.batch_size = batch_size\n",
    "    validation_generator.batch_size = batch_size\n",
    "\n",
    "    base_model = EfficientNetV2B0(weights=\"imagenet\", include_top=False, input_shape=(224, 224, 3))\n",
    "    # Congelar as camadas iniciais para não treinar novamente\n",
    "    for layer in base_model.layers[-100:]:\n",
    "        layer.trainable = False\n",
    "        \n",
    "    x = base_model.output\n",
    "    x = GlobalAveragePooling2D()(x)\n",
    "    x = Dropout(0.5)(x)  # Dropout com 50%\n",
    "    x = Dense(128, activation='relu')(x)\n",
    "    x = Dropout(0.5)(x)\n",
    "    predictions = Dense(len(train_generator.class_indices), \n",
    "                    activation='softmax')(x)\n",
    "    model = Model(inputs=base_model.input, outputs=predictions)\n",
    "    \n",
    "    # Compilando o modelo\n",
    "    model.compile(optimizer=optimizer(learning_rate=learning_rate), \n",
    "                  loss='categorical_crossentropy', \n",
    "                  metrics=['accuracy'])\n",
    "    \n",
    "    # Treinando o modelo\n",
    "    history = model.fit(\n",
    "        train_generator,\n",
    "        epochs=epochs,\n",
    "        validation_data=validation_generator,\n",
    "        callbacks=[tensorboard_callback]\n",
    "    )\n",
    "    # Avaliando o modelo\n",
    "    final_loss, final_accuracy = model.evaluate(validation_generator)\n",
    "    best_model = model\n",
    "    results.append({\n",
    "        'epochs': epochs,\n",
    "        'batch_size': batch_size,\n",
    "        'learning_rate': learning_rate,\n",
    "        'optimizer': optimizer.__name__,\n",
    "        'final_loss': final_loss,\n",
    "        'final_accuracy': final_accuracy,\n",
    "        'loss': history.history['loss'][-1],  # A última perda de treino\n",
    "        'accuracy': history.history['accuracy'][-1],  # A última acurácia de treino\n",
    "        'val_loss': history.history['val_loss'][-1],  # A última perda de validação\n",
    "        'val_accuracy': history.history['val_accuracy'][-1],  # A última acurácia de validação\n",
    "        'history': history  # Armazenando o histórico completo\n",
    "    })\n",
    "    cont+=1\n",
    "except Exception as e:\n",
    "    print(f\"model_epochs{epochs}_batch{batch_size}_lr{learning_rate}_{optimizer} {e}\")"
   ]
  },
  {
   "cell_type": "markdown",
   "id": "d0a887d9-0ddd-40b9-998e-e4483dc0b856",
   "metadata": {},
   "source": [
    "## __Convertendo resultados em DataFrame__"
   ]
  },
  {
   "cell_type": "code",
   "execution_count": 18,
   "id": "98a7c467-c1a2-4d64-89bb-7c7d8bc7e947",
   "metadata": {},
   "outputs": [
    {
     "name": "stdout",
     "output_type": "stream",
     "text": [
      "   epochs  batch_size  learning_rate optimizer  final_loss  final_accuracy  \\\n",
      "0      20          32         0.0001      Adam    0.237454        0.953125   \n",
      "\n",
      "       loss  accuracy  val_loss  val_accuracy  \\\n",
      "0  0.078271  0.988971  0.237454      0.953125   \n",
      "\n",
      "                                             history  \n",
      "0  <keras.callbacks.History object at 0x0000016B5...  \n"
     ]
    }
   ],
   "source": [
    "results_df = pd.DataFrame(results)\n",
    "folder_path=pathO+\"\\\\resultados\\\\\"\n",
    "csv_file_path = os.path.join(folder_path, 'results_modelo100.csv')\n",
    "results_df.to_csv(csv_file_path, index=False)\n",
    "print(results_df)"
   ]
  },
  {
   "cell_type": "markdown",
   "id": "0f84b9fd-5940-432c-858e-a2657b2ed39e",
   "metadata": {},
   "source": [
    "## __Salvar o modelo__"
   ]
  },
  {
   "cell_type": "code",
   "execution_count": 19,
   "id": "0f8fb705-68a3-4a9e-a378-a8f48b2e25db",
   "metadata": {},
   "outputs": [],
   "source": [
    "model_name = f\"individual_model_epochs{epochs}_batch{batch_size}_lr{learning_rate}_{optimizer.__name__}_modelo95.h5\"\n",
    "best_model.save(os.path.join(output_dir, model_name), save_format='h5')"
   ]
  },
  {
   "cell_type": "markdown",
   "id": "4bb8844b-7db3-4785-bf9a-7eb39c2412dd",
   "metadata": {},
   "source": [
    "## ___Carregando o modelo salvo___"
   ]
  },
  {
   "cell_type": "code",
   "execution_count": null,
   "id": "824192cb-a484-447e-8629-365cec114f83",
   "metadata": {},
   "outputs": [],
   "source": [
    "best_model = load_model(path_load +\"individual_model_epochs20_batch32_lr0.0001_Adam_modelo95.h5\")\n",
    "print(\"Modelo carregado com sucesso.\")"
   ]
  },
  {
   "cell_type": "markdown",
   "id": "17bc3810-321c-45eb-b600-810294ea130c",
   "metadata": {},
   "source": [
    "## ___Carregando o Dataframe salvo___"
   ]
  },
  {
   "cell_type": "code",
   "execution_count": null,
   "id": "c2219a37-5f23-4ddd-9f49-35f89209bf96",
   "metadata": {},
   "outputs": [],
   "source": [
    "folder_path=pathO+\"\\\\resultados\\\\results_modelo95.csv\"\n",
    "df = pd.read_csv(folder_path)\n",
    "\n",
    "lista = df.values.tolist()\n",
    "print(lista)"
   ]
  },
  {
   "cell_type": "markdown",
   "id": "dfc71804-37c9-4f1d-b340-2661c51b0005",
   "metadata": {},
   "source": [
    "## __Encontrar o melhor modelo com base na acurácia de validação__"
   ]
  },
  {
   "cell_type": "code",
   "execution_count": 20,
   "id": "51a03f77-4701-45dd-8acd-b9dc0b6a0ef2",
   "metadata": {},
   "outputs": [],
   "source": [
    "best_accuracy = 0\n",
    "best_history = None\n",
    "\n",
    "# Iterar sobre os resultados para encontrar o modelo com a maior val_accuracy\n",
    "for result in results:\n",
    "    val_accuracy = result.get('val_accuracy', 0)  # Obtém a acurácia de validação\n",
    "    \n",
    "    # Verifica se a acurácia de validação é maior que a atual\n",
    "    if val_accuracy > best_accuracy:\n",
    "        best_accuracy = val_accuracy\n",
    "        best_history = result  # Armazena o histórico do melhor modelo"
   ]
  },
  {
   "cell_type": "markdown",
   "id": "e7f5a477-ada0-44c7-a773-30266cf3d012",
   "metadata": {},
   "source": [
    "## __Gerar gráfico do melhor modelo__"
   ]
  },
  {
   "cell_type": "code",
   "execution_count": 21,
   "id": "b561def6-ba00-4c07-a7f7-e170a84b9c58",
   "metadata": {},
   "outputs": [
    {
     "data": {
      "image/png": "[encoded data removed]",
      "text/plain": [
       "<Figure size 1200x400 with 2 Axes>"
      ]
     },
     "metadata": {},
     "output_type": "display_data"
    }
   ],
   "source": [
    "if best_history:\n",
    "    plt.figure(figsize=(12, 4))\n",
    "    \n",
    "    # Gráfico de Acurácia\n",
    "    plt.subplot(1, 2, 1)\n",
    "    plt.plot(best_history['history'].history['accuracy'], label='Acurácia Treino')\n",
    "    plt.plot(best_history['history'].history['val_accuracy'], label='Acurácia Validação', linestyle='--')\n",
    "    plt.title(f\"Acurácia do Melhor Modelo (Acurácia Validação: {best_accuracy:.4f})\")\n",
    "    plt.xlabel('Épocas')\n",
    "    plt.ylabel('Acurácia')\n",
    "    plt.legend()\n",
    "    \n",
    "    # Gráfico de Perda\n",
    "    plt.subplot(1, 2, 2)\n",
    "    plt.plot(best_history['history'].history['loss'], label='Perda Treino')\n",
    "    plt.plot(best_history['history'].history['val_loss'], label='Perda Validação', linestyle='--')\n",
    "    plt.title(f\"Perda do Melhor Modelo (Acurácia Validação: {best_accuracy:.4f})\")\n",
    "    plt.xlabel('Épocas')\n",
    "    plt.ylabel('Perda')\n",
    "    plt.legend()\n",
    "\n",
    "    # Exibindo os gráficos\n",
    "    plt.show()\n",
    "else:\n",
    "    print(\"Nenhum modelo foi encontrado.\")"
   ]
  },
  {
   "cell_type": "markdown",
   "id": "7321a33f-5ec6-4dd9-bc0f-11055a48dbd7",
   "metadata": {},
   "source": [
    "## __Gerando a matriz de confusão para o melhor modelo__"
   ]
  },
  {
   "cell_type": "code",
   "execution_count": 22,
   "id": "35fe7df9-df59-4ecc-834e-100f546d4260",
   "metadata": {},
   "outputs": [
    {
     "name": "stdout",
     "output_type": "stream",
     "text": [
      "2/2 [==============================] - 5s 2s/step\n"
     ]
    }
   ],
   "source": [
    "y_true = validation_generator.classes\n",
    "y_pred = best_model.predict(validation_generator)\n",
    "y_pred_classes = np.argmax(y_pred, axis=1)"
   ]
  },
  {
   "cell_type": "markdown",
   "id": "2f8ce97f-95b2-4f1f-8bb3-7af19118c936",
   "metadata": {},
   "source": [
    "## __Criando a matriz de confusão__"
   ]
  },
  {
   "cell_type": "code",
   "execution_count": 23,
   "id": "aed79e38-9ce4-4fdc-a998-83be969af059",
   "metadata": {},
   "outputs": [
    {
     "data": {
      "image/png": "[encoded data removed]",
      "text/plain": [
       "<Figure size 640x480 with 2 Axes>"
      ]
     },
     "metadata": {},
     "output_type": "display_data"
    }
   ],
   "source": [
    "cm = confusion_matrix(y_true, y_pred_classes)\n",
    "disp = ConfusionMatrixDisplay(confusion_matrix=cm, display_labels=validation_generator.class_indices.keys())\n",
    "disp.plot(cmap=plt.cm.Blues)\n",
    "plt.title('Matriz de Confusão')\n",
    "plt.show()"
   ]
  },
  {
   "cell_type": "markdown",
   "id": "beb7c6cf-a841-4116-b934-072926a2cbf9",
   "metadata": {},
   "source": [
    "## __Avaliação do modelo com o conjunto de teste__"
   ]
  },
  {
   "cell_type": "code",
   "execution_count": 24,
   "id": "39cf4d5b-553d-4642-9bf7-0e8eaaf87afe",
   "metadata": {},
   "outputs": [
    {
     "name": "stdout",
     "output_type": "stream",
     "text": [
      "4/4 [==============================] - 9s 2s/step - loss: 0.1155 - accuracy: 0.9919\n",
      "Loss no conjunto de teste: 0.11551059782505035\n",
      "Acurácia no conjunto de teste: 0.9919354915618896\n"
     ]
    }
   ],
   "source": [
    "test_loss, test_accuracy = best_model.evaluate(test_generator)\n",
    "print(f\"Loss no conjunto de teste: {test_loss}\")\n",
    "print(f\"Acurácia no conjunto de teste: {test_accuracy}\")"
   ]
  },
  {
   "cell_type": "markdown",
   "id": "4cc40a41-475c-4282-8437-c172fea04a6f",
   "metadata": {},
   "source": [
    "## ___Gerando Classification Report___"
   ]
  },
  {
   "cell_type": "code",
   "execution_count": null,
   "id": "99d38cfa-407e-49d9-b78d-4898ddc2378f",
   "metadata": {},
   "outputs": [],
   "source": [
    "# Fazendo previsões no conjunto de dados de teste\n",
    "y_pred = best_model.predict(test_generator, verbose=1)\n",
    "\n",
    "# Convertendo as probabilidades em classes previstas (se for um modelo de múltiplas classes)\n",
    "y_pred_classes = np.argmax(y_pred, axis=1)\n",
    "\n",
    "# As classes reais (rótulos) que o modelo deveria prever\n",
    "y_true = test_generator.classes\n",
    "\n",
    "# Gerando o Classification Report\n",
    "report = classification_report(y_true, y_pred_classes, target_names=test_generator.class_indices.keys())\n",
    "print(report)"
   ]
  },
  {
   "cell_type": "markdown",
   "id": "fb4195b4-d056-4076-aa54-69dd6fc08bc5",
   "metadata": {},
   "source": [
    "## __Função de Predição__"
   ]
  },
  {
   "cell_type": "code",
   "execution_count": 25,
   "id": "8688e5df-2989-474d-9f3d-b7eea7689ac3",
   "metadata": {},
   "outputs": [],
   "source": [
    "def predict_image_class(image_path, model, class_indices):\n",
    "    # Carregar a imagem\n",
    "    img = load_img(image_path, target_size=(224, 224))  # Redimensiona para o tamanho usado no modelo\n",
    "    img_array = img_to_array(img)  # Converte para array numpy\n",
    "    img_array = np.expand_dims(img_array, axis=0)  # Adiciona uma dimensão para lote\n",
    "    img_array = img_array / 255.0  # Normaliza os valores para o intervalo [0, 1]\n",
    "\n",
    "    # Previsão\n",
    "    predictions = model.predict(img_array)\n",
    "    predicted_class_idx = np.argmax(predictions, axis=-1)[0]  # Índice da classe com maior probabilidade\n",
    "\n",
    "    # Mapeando índice para a classe\n",
    "    class_labels = {v: k for k, v in class_indices.items()}  # Inverte o mapeamento\n",
    "    predicted_class = class_labels[predicted_class_idx]\n",
    "\n",
    "    return predicted_class"
   ]
  },
  {
   "cell_type": "markdown",
   "id": "206e460f-08e1-4438-ab90-112d23b5e9c2",
   "metadata": {},
   "source": [
    "## __Exemplo de Previsão__"
   ]
  },
  {
   "cell_type": "code",
   "execution_count": 40,
   "id": "16c3d93a-0775-4c65-91eb-912d789f9bc9",
   "metadata": {},
   "outputs": [
    {
     "name": "stdout",
     "output_type": "stream",
     "text": [
      "1/1 [==============================] - 0s 47ms/step\n",
      "A imagem pertence à classe: mandioca\n"
     ]
    }
   ],
   "source": [
    "image_path = pathO + \"\\\\to_predict\\\\cupuacu.4.jpg\"\n",
    "predicted_class = predict_image_class(image_path, best_model, train_generator.class_indices)\n",
    "print(f\"A imagem pertence à classe: {predicted_class}\")"
   ]
  },
  {
   "cell_type": "markdown",
   "id": "e0104be0-c776-4be9-a04b-8ea1d978f995",
   "metadata": {},
   "source": [
    "## __Finalizando o TensorBoard__"
   ]
  },
  {
   "cell_type": "code",
   "execution_count": 41,
   "id": "41bcf8d9-3014-4a69-b393-79b3ce7131ad",
   "metadata": {},
   "outputs": [
    {
     "data": {
      "text/plain": [
       "Reusing TensorBoard on port 6006 (pid 18084), started 4 days, 0:44:48 ago. (Use '!kill 18084' to kill it.)"
      ]
     },
     "metadata": {},
     "output_type": "display_data"
    },
    {
     "data": {
      "text/html": [
       "\n",
       "      <iframe id=\"tensorboard-frame-86712bf4c2c41d62\" width=\"100%\" height=\"800\" frameborder=\"0\">\n",
       "      </iframe>\n",
       "      <script>\n",
       "        (function() {\n",
       "          const frame = document.getElementById(\"tensorboard-frame-86712bf4c2c41d62\");\n",
       "          const url = new URL(\"/\", window.location);\n",
       "          const port = 6006;\n",
       "          if (port) {\n",
       "            url.port = port;\n",
       "          }\n",
       "          frame.src = url;\n",
       "        })();\n",
       "      </script>\n",
       "    "
      ],
      "text/plain": [
       "<IPython.core.display.HTML object>"
      ]
     },
     "metadata": {},
     "output_type": "display_data"
    }
   ],
   "source": [
    "%load_ext tensorboard\n",
    "%tensorboard --logdir .\\logs"
   ]
  },
  {
   "cell_type": "code",
   "execution_count": 42,
   "id": "861c6c7e-e3f1-4392-ba9f-93257d8d2644",
   "metadata": {},
   "outputs": [
    {
     "name": "stderr",
     "output_type": "stream",
     "text": [
      "ERRO: o processo \"tensorboard.exe\" nÆo foi encontrado.\n"
     ]
    }
   ],
   "source": [
    "!taskkill /IM tensorboard.exe /F"
   ]
  },
  {
   "cell_type": "code",
   "execution_count": null,
   "id": "55b890dd-5f3e-43e9-886b-90194d7945e4",
   "metadata": {},
   "outputs": [],
   "source": [
    "%reload_ext tensorboard"
   ]
  },
  {
   "cell_type": "code",
   "execution_count": null,
   "id": "075d01ba-49ba-44ab-b746-6d01a47f2b83",
   "metadata": {},
   "outputs": [],
   "source": []
  }
 ],
 "metadata": {
  "kernelspec": {
   "display_name": "Python 3 (ipykernel)",
   "language": "python",
   "name": "python3"
  },
  "language_info": {
   "codemirror_mode": {
    "name": "ipython",
    "version": 3
   },
   "file_extension": ".py",
   "mimetype": "text/x-python",
   "name": "python",
   "nbconvert_exporter": "python",
   "pygments_lexer": "ipython3",
   "version": "3.10.0"
  }
 },
 "nbformat": 4,
 "nbformat_minor": 5
}
