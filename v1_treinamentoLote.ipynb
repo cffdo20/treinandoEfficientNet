{
 "cells": [
  {
   "cell_type": "markdown",
   "id": "c99323c0-6a1a-45f2-8c21-9df8512df6f5",
   "metadata": {},
   "source": [
    "## __Importando bibliotecas necessárias__"
   ]
  },
  {
   "cell_type": "code",
   "execution_count": 1,
   "id": "74e54cbe-46e3-494d-b035-55bb5ceadaf9",
   "metadata": {},
   "outputs": [],
   "source": [
    "import pandas as pd\n",
    "import numpy as np\n",
    "import matplotlib.pyplot as plt\n",
    "import seaborn as sns\n",
    "import tensorflow as tfw\n",
    "from tensorflow.keras.preprocessing.image import ImageDataGenerator\n",
    "from tensorflow.keras.applications import EfficientNetV2B0\n",
    "from tensorflow.keras.layers import Dense, GlobalAveragePooling2D\n",
    "from tensorflow.keras.models import Model\n",
    "from tensorflow.keras.optimizers import Adam, SGD\n",
    "from sklearn.metrics import confusion_matrix, ConfusionMatrixDisplay\n",
    "import os\n",
    "from tensorflow.keras.callbacks import ModelCheckpoint, TensorBoard\n",
    "from tensorflow.keras.preprocessing.image import load_img, img_to_array\n",
    "import numpy as np\n",
    "import shutil"
   ]
  },
  {
   "cell_type": "markdown",
   "id": "a10b6b3a-6b60-4e46-be7c-85713fa3e3ad",
   "metadata": {},
   "source": [
    "## __Defina o caminho para as pastas__"
   ]
  },
  {
   "cell_type": "code",
   "execution_count": 2,
   "id": "6ea17c4b-e0db-4284-9342-93bc884c433d",
   "metadata": {},
   "outputs": [],
   "source": [
    "pathO = os.getcwd()\n",
    "path = pathO + \"\\\\produtos_regionais\\\\\"\n",
    "log_dir = pathO + \"\\\\logsLote\"\n",
    "output_dir_bestModel = pathO + \"\\\\models\\\\\"\n",
    "output_dir = pathO + \"\\\\modelsLote\\\\\""
   ]
  },
  {
   "cell_type": "markdown",
   "id": "5efa5899-aec3-41da-b341-7b40ebb3523c",
   "metadata": {},
   "source": [
    "## __Criar pasta de Logs__"
   ]
  },
  {
   "cell_type": "code",
   "execution_count": 3,
   "id": "645d7bf2-152f-42b9-bfee-425b7f37bc23",
   "metadata": {},
   "outputs": [
    {
     "name": "stdout",
     "output_type": "stream",
     "text": [
      "Pasta criada: C:\\Users\\PC\\Documents\\GitHub\\treinandoEficcientNet2\\logsLote\n"
     ]
    }
   ],
   "source": [
    "if os.path.exists(log_dir):\n",
    "    shutil.rmtree(log_dir)  # Remove a pasta e todo o conteúdo\n",
    "    print(f\"Pasta existente removida: {log_dir}\")\n",
    "\n",
    "os.makedirs(log_dir)\n",
    "print(f\"Pasta criada: {log_dir}\")"
   ]
  },
  {
   "cell_type": "markdown",
   "id": "ebe862fb-0214-4aa8-b709-3829841105ff",
   "metadata": {},
   "source": [
    "## __Criar o callback do TensorBoard__"
   ]
  },
  {
   "cell_type": "code",
   "execution_count": 4,
   "id": "d2f5ab1c-dc70-4aec-8334-26f5883240cb",
   "metadata": {},
   "outputs": [],
   "source": [
    "tensorboard_callback = TensorBoard(log_dir=log_dir)"
   ]
  },
  {
   "cell_type": "markdown",
   "id": "51ce7268-c93e-455c-9b89-8a5024d1703f",
   "metadata": {},
   "source": [
    "## __Configurações de Data Augmentation__"
   ]
  },
  {
   "cell_type": "code",
   "execution_count": 5,
   "id": "92ab739d-8e5f-47d7-a800-79dccb579378",
   "metadata": {},
   "outputs": [],
   "source": [
    "datagen = ImageDataGenerator(\n",
    "    rescale=1./255,         \n",
    "    rotation_range=10,      \n",
    "    width_shift_range=0.1,   \n",
    "    height_shift_range=0.1,  \n",
    "    shear_range=0.1,        \n",
    "    zoom_range=0.1,         \n",
    "    horizontal_flip=True,    \n",
    "    fill_mode='nearest'     \n",
    ")"
   ]
  },
  {
   "cell_type": "markdown",
   "id": "54fb24e5-48da-4667-bc5b-d137aac1b22a",
   "metadata": {},
   "source": [
    "## __Gerando os dados de treino__"
   ]
  },
  {
   "cell_type": "code",
   "execution_count": 6,
   "id": "c416a5cc-c5b2-4667-9fd6-ac9dfec537c4",
   "metadata": {},
   "outputs": [
    {
     "name": "stdout",
     "output_type": "stream",
     "text": [
      "Found 272 images belonging to 4 classes.\n"
     ]
    }
   ],
   "source": [
    "train_generator = datagen.flow_from_directory(\n",
    "    directory=path + 'train',\n",
    "    target_size=(224, 224),  # Redimensiona as imagens para 224x224 pixels\n",
    "    class_mode='categorical',\n",
    "    shuffle=True\n",
    ")"
   ]
  },
  {
   "cell_type": "markdown",
   "id": "ab572482-074d-4a72-8297-35c561dd6181",
   "metadata": {},
   "source": [
    "## __Gerando os dados de validação__"
   ]
  },
  {
   "cell_type": "code",
   "execution_count": 7,
   "id": "f5229d83-a745-44b4-90ce-dfbf1f6efb74",
   "metadata": {},
   "outputs": [
    {
     "name": "stdout",
     "output_type": "stream",
     "text": [
      "Found 64 images belonging to 4 classes.\n"
     ]
    }
   ],
   "source": [
    "validation_datagen = ImageDataGenerator(rescale=1./255)\n",
    "\n",
    "validation_generator = validation_datagen.flow_from_directory(\n",
    "    directory=path + 'val',\n",
    "    target_size=(224, 224),\n",
    "    class_mode='categorical',\n",
    "    shuffle=True\n",
    ")"
   ]
  },
  {
   "cell_type": "markdown",
   "id": "d339a99c-3d45-4b2c-9bc2-93e929cb6abb",
   "metadata": {},
   "source": [
    "## __Gerando os dados de teste__"
   ]
  },
  {
   "cell_type": "code",
   "execution_count": 8,
   "id": "6b2570ca-1599-46f7-b89e-2a9112c75699",
   "metadata": {},
   "outputs": [
    {
     "name": "stdout",
     "output_type": "stream",
     "text": [
      "Found 124 images belonging to 4 classes.\n"
     ]
    }
   ],
   "source": [
    "test_datagen = ImageDataGenerator(rescale=1./255)  # Apenas normalização, sem augmentação\n",
    "\n",
    "test_generator = test_datagen.flow_from_directory(\n",
    "    directory=path + 'test',  # Substitua pelo caminho do diretório de teste\n",
    "    target_size=(224, 224),          # Redimensiona as imagens para 224x224 pixels\n",
    "    batch_size=32,                   # Tamanho do lote\n",
    "    class_mode='categorical',        # Codificação one-hot (ou None se apenas previsões forem necessárias)\n",
    "    shuffle=True                    # Não embaralha, útil para manter a ordem original\n",
    ")"
   ]
  },
  {
   "cell_type": "markdown",
   "id": "b9ee6182-6d9d-4bb5-9be0-f56299f53abb",
   "metadata": {},
   "source": [
    "## __Definindo hiperparâmetros__"
   ]
  },
  {
   "cell_type": "code",
   "execution_count": 9,
   "id": "5404916e-d433-42c8-80bb-3d82f02dd6e5",
   "metadata": {},
   "outputs": [],
   "source": [
    "epochs_options = [30, 50]\n",
    "batch_size_options = [16, 32]\n",
    "learning_rate_options = [0.001, 0.0001]\n",
    "optimizers_options = [Adam, SGD]"
   ]
  },
  {
   "cell_type": "markdown",
   "id": "203dc7ed-2cc7-4fc8-b03b-deb14218d3b8",
   "metadata": {},
   "source": [
    "## __Treinando modelo__"
   ]
  },
  {
   "cell_type": "code",
   "execution_count": null,
   "id": "1fc45883-3948-417c-a087-611ccc9238d0",
   "metadata": {},
   "outputs": [
    {
     "name": "stdout",
     "output_type": "stream",
     "text": [
      "Epoch 1/30\n",
      "17/17 [==============================] - 92s 5s/step - loss: 0.4885 - accuracy: 0.8309 - val_loss: 1.3947 - val_accuracy: 0.2500\n",
      "Epoch 2/30\n",
      "17/17 [==============================] - 69s 4s/step - loss: 0.1608 - accuracy: 0.9449 - val_loss: 7.2509 - val_accuracy: 0.2500\n",
      "Epoch 3/30\n",
      "17/17 [==============================] - 75s 4s/step - loss: 0.2165 - accuracy: 0.9522 - val_loss: 1.4155 - val_accuracy: 0.2500\n",
      "Epoch 4/30\n",
      "17/17 [==============================] - 86s 5s/step - loss: 0.2025 - accuracy: 0.9449 - val_loss: 1.3940 - val_accuracy: 0.2500\n",
      "Epoch 5/30\n",
      "17/17 [==============================] - 88s 5s/step - loss: 0.0980 - accuracy: 0.9779 - val_loss: 1.3983 - val_accuracy: 0.2656\n",
      "Epoch 6/30\n",
      "17/17 [==============================] - 51s 3s/step - loss: 0.0522 - accuracy: 0.9816 - val_loss: 1.3819 - val_accuracy: 0.2344\n",
      "Epoch 7/30\n",
      "17/17 [==============================] - 63s 3s/step - loss: 0.0789 - accuracy: 0.9779 - val_loss: 1.3696 - val_accuracy: 0.2500\n",
      "Epoch 8/30\n",
      "17/17 [==============================] - 79s 5s/step - loss: 0.0376 - accuracy: 0.9853 - val_loss: 1.4544 - val_accuracy: 0.2500\n",
      "Epoch 9/30\n",
      "17/17 [==============================] - 82s 5s/step - loss: 0.0345 - accuracy: 0.9890 - val_loss: 1.2744 - val_accuracy: 0.3594\n",
      "Epoch 10/30\n",
      "17/17 [==============================] - 63s 3s/step - loss: 0.0192 - accuracy: 0.9963 - val_loss: 1.0164 - val_accuracy: 0.4844\n",
      "Epoch 11/30\n",
      "17/17 [==============================] - 48s 3s/step - loss: 0.0519 - accuracy: 0.9853 - val_loss: 1.4089 - val_accuracy: 0.2500\n",
      "Epoch 12/30\n",
      "17/17 [==============================] - 66s 4s/step - loss: 0.0186 - accuracy: 0.9963 - val_loss: 1.2332 - val_accuracy: 0.3125\n",
      "Epoch 13/30\n",
      "17/17 [==============================] - 41s 2s/step - loss: 0.0134 - accuracy: 0.9963 - val_loss: 0.9782 - val_accuracy: 0.5156\n",
      "Epoch 14/30\n",
      "17/17 [==============================] - 92s 5s/step - loss: 0.0704 - accuracy: 0.9853 - val_loss: 0.7728 - val_accuracy: 0.6719\n",
      "Epoch 15/30\n",
      "17/17 [==============================] - 51s 3s/step - loss: 0.0342 - accuracy: 0.9926 - val_loss: 1.9668 - val_accuracy: 0.1562\n",
      "Epoch 16/30\n",
      "17/17 [==============================] - 44s 3s/step - loss: 0.0355 - accuracy: 0.9890 - val_loss: 2.2760 - val_accuracy: 0.2812\n",
      "Epoch 17/30\n",
      "17/17 [==============================] - 61s 3s/step - loss: 0.0183 - accuracy: 0.9890 - val_loss: 0.4734 - val_accuracy: 0.7656\n",
      "Epoch 18/30\n",
      "17/17 [==============================] - 49s 3s/step - loss: 0.0055 - accuracy: 1.0000 - val_loss: 1.8013 - val_accuracy: 0.2500\n",
      "Epoch 19/30\n",
      "17/17 [==============================] - 45s 3s/step - loss: 0.0217 - accuracy: 0.9890 - val_loss: 0.9962 - val_accuracy: 0.4844\n",
      "Epoch 20/30\n",
      "17/17 [==============================] - 86s 5s/step - loss: 0.0256 - accuracy: 0.9963 - val_loss: 2.7498 - val_accuracy: 0.2500\n",
      "Epoch 21/30\n",
      "17/17 [==============================] - 104s 6s/step - loss: 0.1200 - accuracy: 0.9632 - val_loss: 1.3888 - val_accuracy: 0.2188\n",
      "Epoch 22/30\n",
      "12/17 [====================>.........] - ETA: 27s - loss: 0.0256 - accuracy: 0.9948"
     ]
    }
   ],
   "source": [
    "results = []\n",
    "cont=1\n",
    "# Loop para treinar modelos com diferentes combinações de hiperparâmetros\n",
    "for epochs in epochs_options:\n",
    "    for batch_size in batch_size_options:\n",
    "        for learning_rate in learning_rate_options:\n",
    "            for optimizer in optimizers_options:\n",
    "                try:\n",
    "                    # Configurando os geradores de dados\n",
    "                    train_generator.batch_size = batch_size\n",
    "                    validation_generator.batch_size = batch_size\n",
    "                    \n",
    "                    # Criando o modelo com EfficientNetV2B0\n",
    "                    base_model = EfficientNetV2B0(weights='imagenet', include_top=False, input_shape=(224, 224, 3))\n",
    "                    x = base_model.output\n",
    "                    # Congelar as camadas iniciais para não treinar novamente\n",
    "                    for layer in base_model.layers[-5:]:\n",
    "                        layer.trainable = False\n",
    "                    x = GlobalAveragePooling2D()(x)\n",
    "                    predictions = Dense(len(train_generator.class_indices), \n",
    "                                                        activation='softmax')(x)\n",
    "                    model = Model(inputs=base_model.input, outputs=predictions)\n",
    "                    \n",
    "                    # Compilando o modelo\n",
    "                    model.compile(optimizer=optimizer(learning_rate=learning_rate), \n",
    "                                  loss='categorical_crossentropy', \n",
    "                                  metrics=['accuracy'])\n",
    "                    \n",
    "                    # Treinando o modelo\n",
    "                    history = model.fit(\n",
    "                        train_generator,\n",
    "                        epochs=epochs,\n",
    "                        validation_data=validation_generator,\n",
    "                        callbacks=[tensorboard_callback]\n",
    "                    )\n",
    "                    \n",
    "                    if(cont==1):\n",
    "                        best_model = model\n",
    "                        best_epoch = epochs\n",
    "                        best_batch_size = batch_size\n",
    "                        best_learning_rate = learning_rate\n",
    "                        best_optimizer = optimizer.__name__\n",
    "                    # Avaliando o modelo\n",
    "                    final_loss, final_accuracy = model.evaluate(validation_generator)\n",
    "                    best_loss, best_accuracy = best_model.evaluate(validation_generator)\n",
    "                    if(final_accuracy>best_accuracy):\n",
    "                        best_model = model\n",
    "                        best_epoch = epochs\n",
    "                        best_batch_size = batch_size\n",
    "                        best_learning_rate = learning_rate\n",
    "                        best_optimizer = optimizer.__name__\n",
    "                    # Após o treinamento, armazene as informações no `results`\n",
    "                    results.append({\n",
    "                        'epochs': epochs,\n",
    "                        'batch_size': batch_size,\n",
    "                        'learning_rate': learning_rate,\n",
    "                        'optimizer': optimizer.__name__,\n",
    "                        'final_loss': final_loss,\n",
    "                        'final_accuuracy': final_accuracy,\n",
    "                        'loss': history.history['loss'][-1],  # A última perda de treino\n",
    "                        'accuracy': history.history['accuracy'][-1],  # A última acurácia de treino\n",
    "                        'val_loss': history.history['val_loss'][-1],  # A última perda de validação\n",
    "                        'val_accuracy': history.history['val_accuracy'][-1],  # A última acurácia de validação\n",
    "                        'history': history  # Armazenando o histórico completo\n",
    "                    })\n",
    "                    # Salvar o modelo no diretório especificado\n",
    "                    model_name = f\"model_epochs{epochs}_batch{batch_size}_lr{learning_rate}_{optimizer.__name__}.h5\"\n",
    "                    model.save(os.path.join(output_dir, model_name), save_format='h5')\n",
    "\n",
    "                    cont+=1\n",
    "                except Exception as e:\n",
    "                    print(f\"model_epochs{epochs}_batch{batch_size}_lr{learning_rate}_{optimizer} {e}\")"
   ]
  },
  {
   "cell_type": "markdown",
   "id": "950e25a1-d143-48ec-89cd-716ad71b58f5",
   "metadata": {},
   "source": [
    "## __Convertendo resultados em DataFrame__"
   ]
  },
  {
   "cell_type": "code",
   "execution_count": null,
   "id": "98a7c467-c1a2-4d64-89bb-7c7d8bc7e947",
   "metadata": {},
   "outputs": [],
   "source": [
    "results_df = pd.DataFrame(results)\n",
    "folder_path=pathO+\"\\\\resultados\\\\\"\n",
    "csv_file_path = os.path.join(folder_path, 'results_shuffleTest_.csv')\n",
    "results_df.to_csv(csv_file_path, index=False)\n",
    "print(results_df)"
   ]
  },
  {
   "cell_type": "markdown",
   "id": "dc6e01d0-b266-445f-8843-a606492cdd1a",
   "metadata": {},
   "source": [
    "## __Salvar o melhor modelo separadamente__"
   ]
  },
  {
   "cell_type": "code",
   "execution_count": null,
   "id": "0f8fb705-68a3-4a9e-a378-a8f48b2e25db",
   "metadata": {},
   "outputs": [],
   "source": [
    "model_name = f\"best_model_epochs{best_epochs}_batch{best_batch_size}_lr{best_learning_rate}_{best_optimizer}.h5\"\n",
    "best_model.save(os.path.join(output_dir_bestModel, model_name), save_format='h5')"
   ]
  },
  {
   "cell_type": "markdown",
   "id": "c5cf3bbe-7715-4341-bdea-261f16c1de93",
   "metadata": {},
   "source": [
    "## __Encontrar o melhor modelo com base na acurácia de validação__"
   ]
  },
  {
   "cell_type": "code",
   "execution_count": null,
   "id": "b561def6-ba00-4c07-a7f7-e170a84b9c58",
   "metadata": {},
   "outputs": [],
   "source": [
    "best_accuracy = 0\n",
    "best_history = None\n",
    "\n",
    "# Iterar sobre os resultados para encontrar o modelo com a maior val_accuracy\n",
    "for result in results:\n",
    "    val_accuracy = result.get('val_accuracy', 0)  # Obtém a acurácia de validação\n",
    "    \n",
    "    # Verifica se a acurácia de validação é maior que a atual\n",
    "    if val_accuracy > best_accuracy:\n",
    "        best_accuracy = val_accuracy\n",
    "        best_history = result  # Armazena o histórico do melhor modelo"
   ]
  },
  {
   "cell_type": "markdown",
   "id": "5e99d549-7781-4253-b8fa-2ddc23d32492",
   "metadata": {},
   "source": [
    "## __Gerar gráfico do melhor modelo__"
   ]
  },
  {
   "cell_type": "code",
   "execution_count": null,
   "id": "ab40dddd-1f31-4b0a-a388-033642e0673b",
   "metadata": {},
   "outputs": [],
   "source": [
    "if best_history:\n",
    "    plt.figure(figsize=(12, 4))\n",
    "    \n",
    "    # Gráfico de Acurácia\n",
    "    plt.subplot(1, 2, 1)\n",
    "    plt.plot(best_history['history'].history['accuracy'], label='Acurácia Treino')\n",
    "    plt.plot(best_history['history'].history['val_accuracy'], label='Acurácia Validação', linestyle='--')\n",
    "    plt.title(f\"Acurácia do Melhor Modelo (Acurácia Validação: {best_accuracy:.4f})\")\n",
    "    plt.xlabel('Épocas')\n",
    "    plt.ylabel('Acurácia')\n",
    "    plt.legend()\n",
    "    \n",
    "    # Gráfico de Perda\n",
    "    plt.subplot(1, 2, 2)\n",
    "    plt.plot(best_history['history'].history['loss'], label='Perda Treino')\n",
    "    plt.plot(best_history['history'].history['val_loss'], label='Perda Validação', linestyle='--')\n",
    "    plt.title(f\"Perda do Melhor Modelo (Acurácia Validação: {best_accuracy:.4f})\")\n",
    "    plt.xlabel('Épocas')\n",
    "    plt.ylabel('Perda')\n",
    "    plt.legend()\n",
    "\n",
    "    # Exibindo os gráficos\n",
    "    plt.show()\n",
    "else:\n",
    "    print(\"Nenhum modelo foi encontrado.\")"
   ]
  },
  {
   "cell_type": "markdown",
   "id": "92615df4-f9b8-47d4-bece-ff1152091c07",
   "metadata": {},
   "source": [
    "## __Gerando a matriz de confusão para o melhor modelo__"
   ]
  },
  {
   "cell_type": "code",
   "execution_count": null,
   "id": "ae7d7e59-9f48-4515-810f-3df034fe4cbb",
   "metadata": {},
   "outputs": [],
   "source": [
    "y_true = validation_generator.classes\n",
    "y_pred = best_model.predict(validation_generator)  # Não precisa de ['model'], apenas use o objeto diretamente\n",
    "y_pred_classes = np.argmax(y_pred, axis=1)"
   ]
  },
  {
   "cell_type": "markdown",
   "id": "d260d9bc-67cc-468b-8506-4ec76e6152aa",
   "metadata": {},
   "source": [
    "## __Criando a matriz de confusão__"
   ]
  },
  {
   "cell_type": "code",
   "execution_count": null,
   "id": "35fe7df9-df59-4ecc-834e-100f546d4260",
   "metadata": {},
   "outputs": [],
   "source": [
    "cm = confusion_matrix(y_true, y_pred_classes)\n",
    "disp = ConfusionMatrixDisplay(confusion_matrix=cm, display_labels=validation_generator.class_indices.keys())\n",
    "disp.plot(cmap=plt.cm.Blues)\n",
    "plt.title('Matriz de Confusão')\n",
    "plt.show()"
   ]
  },
  {
   "cell_type": "markdown",
   "id": "16917551-f33b-428d-b9a8-c61a93d83e6a",
   "metadata": {},
   "source": [
    "## __Avaliação do modelo com o conjunto de teste__"
   ]
  },
  {
   "cell_type": "code",
   "execution_count": null,
   "id": "39cf4d5b-553d-4642-9bf7-0e8eaaf87afe",
   "metadata": {},
   "outputs": [],
   "source": [
    "test_loss, test_accuracy = best_model.evaluate(test_generator)\n",
    "print(f\"Loss no conjunto de teste: {test_loss}\")\n",
    "print(f\"Acurácia no conjunto de teste: {test_accuracy}\")"
   ]
  },
  {
   "cell_type": "markdown",
   "id": "ccaf51c4-33a4-4934-b94b-1555b720897f",
   "metadata": {},
   "source": [
    "## __Função de Predição__"
   ]
  },
  {
   "cell_type": "code",
   "execution_count": null,
   "id": "8688e5df-2989-474d-9f3d-b7eea7689ac3",
   "metadata": {},
   "outputs": [],
   "source": [
    "def predict_image_class(image_path, model, class_indices):\n",
    "    # Carregar a imagem\n",
    "    img = load_img(image_path, target_size=(224, 224))  # Redimensiona para o tamanho usado no modelo\n",
    "    img_array = img_to_array(img)  # Converte para array numpy\n",
    "    img_array = np.expand_dims(img_array, axis=0)  # Adiciona uma dimensão para lote\n",
    "    img_array = img_array / 255.0  # Normaliza os valores para o intervalo [0, 1]\n",
    "\n",
    "    # Previsão\n",
    "    predictions = model.predict(img_array)\n",
    "    predicted_class_idx = np.argmax(predictions, axis=-1)[0]  # Índice da classe com maior probabilidade\n",
    "\n",
    "    # Mapeando índice para a classe\n",
    "    class_labels = {v: k for k, v in class_indices.items()}  # Inverte o mapeamento\n",
    "    predicted_class = class_labels[predicted_class_idx]\n",
    "\n",
    "    return predicted_class"
   ]
  },
  {
   "cell_type": "markdown",
   "id": "5548171f-d31a-4015-9b0e-563a06fb2a39",
   "metadata": {},
   "source": [
    "## __Exemplo de Previsão__"
   ]
  },
  {
   "cell_type": "code",
   "execution_count": null,
   "id": "16c3d93a-0775-4c65-91eb-912d789f9bc9",
   "metadata": {},
   "outputs": [],
   "source": [
    "image_path = pathO + \"\\\\to_predict\\\\cupuacu.jpg\"\n",
    "predicted_class = predict_image_class(image_path, best_model, train_generator.class_indices)\n",
    "print(f\"A imagem pertence à classe: {predicted_class}\")"
   ]
  },
  {
   "cell_type": "markdown",
   "id": "975c0a7d-b3ad-4ae5-9913-292b45a19060",
   "metadata": {},
   "source": [
    "## __Finalizando o TensorBoard__"
   ]
  },
  {
   "cell_type": "code",
   "execution_count": null,
   "id": "41bcf8d9-3014-4a69-b393-79b3ce7131ad",
   "metadata": {},
   "outputs": [],
   "source": [
    "%load_ext tensorboard\n",
    "%tensorboard --logdir .\\logsLote"
   ]
  },
  {
   "cell_type": "code",
   "execution_count": null,
   "id": "861c6c7e-e3f1-4392-ba9f-93257d8d2644",
   "metadata": {},
   "outputs": [],
   "source": []
  },
  {
   "cell_type": "code",
   "execution_count": null,
   "id": "2a05742a-5523-4bad-8aa6-ca452ec5184b",
   "metadata": {},
   "outputs": [],
   "source": []
  }
 ],
 "metadata": {
  "kernelspec": {
   "display_name": "Python 3 (ipykernel)",
   "language": "python",
   "name": "python3"
  },
  "language_info": {
   "codemirror_mode": {
    "name": "ipython",
    "version": 3
   },
   "file_extension": ".py",
   "mimetype": "text/x-python",
   "name": "python",
   "nbconvert_exporter": "python",
   "pygments_lexer": "ipython3",
   "version": "3.10.0"
  }
 },
 "nbformat": 4,
 "nbformat_minor": 5
}
